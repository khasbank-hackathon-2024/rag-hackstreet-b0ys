{
 "cells": [
  {
   "cell_type": "markdown",
   "metadata": {},
   "source": [
    "# RAG гарааны код\n",
    "\n",
    "Энэхүү гарааны jupyter notebook нь энгийн RAG архитектурыг [LangChain](https://python.langchain.com/docs/introduction/) framework-н тусламжтай, хэлний загваруудыг [Hugging Face Transformers](https://huggingface.co/docs/transformers/index)-р татаж, ажиллуулах байдлаар хэрэгжүүлсэн бөгөөд энэхүү notebook-д суурилан өөрсдийн RAG архитектур, загвар, шийдлээ хэрэгжүүлж болно.\n",
    "\n",
    "Шаардлагатай python сангуудыг [requirements.txt](../requirements.txt) файлд жагсаасан байгаа.\n",
    "\n",
    "![](https://python.langchain.com/assets/images/rag_concepts-4499b260d1053838a3e361fb54f376ec.png)"
   ]
  },
  {
   "cell_type": "code",
   "execution_count": 45,
   "metadata": {},
   "outputs": [],
   "source": [
    "import torch\n",
    "from langchain.chains import create_retrieval_chain\n",
    "from langchain.chains.combine_documents import create_stuff_documents_chain\n",
    "from langchain.text_splitter import RecursiveCharacterTextSplitter\n",
    "from langchain_community.document_loaders.csv_loader import CSVLoader\n",
    "from langchain_community.vectorstores import FAISS\n",
    "from langchain_core.prompts import ChatPromptTemplate\n",
    "from langchain_huggingface import HuggingFaceEmbeddings, HuggingFacePipeline\n",
    "from transformers import AutoModelForCausalLM, AutoTokenizer, pipeline"
   ]
  },
  {
   "cell_type": "markdown",
   "metadata": {},
   "source": [
    "## Vector Store үүсгэх\n",
    "\n",
    "RAG системийн үндсэн хоёр хэсгийн нэг, заавал бэлдсэн байх ёстой зүйл бол өгөгдлөө embedding буюу тоон хэлбэрт шилжүүлж, vector store-д хадгалсан байх юм.\n",
    "\n",
    "![](https://miro.medium.com/v2/resize:fit:1100/format:webp/1*vAvDBIbr8MnL_Q51mBtBhw.png)"
   ]
  },
  {
   "cell_type": "markdown",
   "metadata": {},
   "source": [
    "### Өгөгдөл унших\n",
    "\n",
    "`data` хавтсанд байрлах `csv` файлыг уншиж LangChain [Document](https://python.langchain.com/api_reference/core/documents/langchain_core.documents.base.Document.html)-н жагсаалт болгоно.\n",
    "\n",
    "- `khas_bank_news.csv`\n",
    "- `khas_bank_pages.csv`\n",
    "- `khas_bank_products.csv`"
   ]
  },
  {
   "cell_type": "code",
   "execution_count": 46,
   "metadata": {},
   "outputs": [
    {
     "name": "stdout",
     "output_type": "stream",
     "text": [
      "664 71 50\n",
      "Нийт хуудасны тоо: 785\n",
      "page_content='content: ХасБанк 2024 оны III улиралд 43.4 тэрбум төгрөгийн татварын дараах цэвэр ашигтай ажиллалааХасБанк 2024 оны III улиралд 43.4 тэрбум төгрөгийн (өмнөх улирлаас +0.4%) татварын дараах цэвэр ашигтай ажиллалаа. Ингэснээр жилийн өссөн дүнгээр татварын дараах цэвэр ашиг 128.7 тэрбум төгрөгт (өмнөх жилийн мөн үеэс +26.7%) хүрч, өөрийн хөрөнгийн өгөөж (annualized ROE) 26.2%,нэгж хувьцаанд ногдох цэвэр ашиг (EPS) 122.3 төгрөгтхүрлээ2024 оны III улирлын санхүүгийн үзүүлэлтээс онцолбол:Зээл ба санхүүгийн түрээсийн багц 3,609 тэрбум төгрөгт хүрч, өмнөх улирлаас 8.6%, оны эхнээс 31.2% өссөн нь III улирлын цэвэр хүүгийн орлогыг өмнөх улирлаас 9.0% өсөхөд нөлөөлсөн байна.Активын чанарын үзүүлэлт тогтвортой сайн хэвээр байгаа бөгөөд нийт зээл болон санхүүгийн түрээсийн багцад эзлэх чанаргүй зээлийг 2.2%-д удирдан ажиллаж байна.Харилцах, хадгаламжийн эх үүсвэр өмнөх улирлаас 0.1%-аар, оны эхнээс 11.3%-аар өсөж, 3,202 тэрбум төгрөгт хүрлээ.2024 оны эхний хагас жилийн цэвэр ашгаас нэгж хувьцаанд 18 төгрөг буюу нийт 18.9 тэрбум төгрөгийн ногдол ашиг хувьцаа эзэмшигчдэд хуваарилсан бөгөөд IPO хийснээс хойш нийт 61.0 тэрбум төгрөгийг ногдол ашиг болгон олгоод байна.Тайлант хугацаанд ХасБанк Банкны тухай хуулиар болон Монголбанкнаас тогтоосон зохистой харьцааны шалгуур үзүүлэлтүүдийг бүрэн хангаж ажиллалаа. Үүнд:Нэгдүгээр зэрэглэлийн өөрийн хөрөнгө болон эрсдэлээр жигнэсэн активын зохистой харьцаа 18.2%(байвал зохих хэмжээ 12.5%). Ийнхүү давуулан биелүүлсэн нөөц өөрийн хөрөнгө нь аливаа болзошгүй эрсдэлийг даахаас гадна ирээдүйд активын тэлэлт хийх, ногдол ашиг тараах боломжийг бий болгодог.Төлбөр түргэн гүйцэтгэх чадварын харьцаа 34.5%(байвал зохих хэмжээ 25.0%) буюу ХасБанк бусдаас татан төвлөрүүлсэн нийт эх үүсвэрийнхээ 34.5% болох 1,682 тэрбум төгрөгийг бэлэн мөнгө болон түргэн борлогдох активт байршуулан удирдаж байна.ХасБанкны 2024 оны III улирлын санхүүгийн байдал болон орлого үр дүнгийн тайлантайЭНДдарж танилцана уу.' metadata={'source': 'https://www.xacbank.mn/article/financial-report-2024q3', 'row': 1, 'title': 'ХасБанк 2024 оны III улиралд 43.4 тэрбум төгрөгийн татварын дараах цэвэр ашигтай ажиллалаа', 'date': '2024.10.14', 'link': 'https://www.xacbank.mn/article/financial-report-2024q3'}\n"
     ]
    }
   ],
   "source": [
    "DATA_DIR = \"../data/\"\n",
    "loader = CSVLoader(file_path=f\"{DATA_DIR}khas_bank_news.csv\",\n",
    "                   source_column=\"link\",\n",
    "                   metadata_columns=[\"title\", \"date\", \"link\"],\n",
    "                   content_columns=[\"content\"],\n",
    "                   csv_args={\n",
    "                       \"fieldnames\": [\"title\", \"link\", \"date\", \"content\"],\n",
    "                       }\n",
    "                   )\n",
    "news_data = loader.load()[1:]\n",
    "\n",
    "loader = CSVLoader(file_path=f\"{DATA_DIR}khas_bank_products.csv\",\n",
    "                   source_column=\"link\",\n",
    "                   metadata_columns=[\"id\", \"side_menu_text\", \"link\"],\n",
    "                   content_columns=[\"content\"],\n",
    "                   csv_args={\n",
    "                       \"fieldnames\": [\"id\", \"content\", \"side_menu_text\", \"link\"],\n",
    "                       }\n",
    "                   )\n",
    "product_data = loader.load()[1:]\n",
    "\n",
    "loader = CSVLoader(file_path=f\"{DATA_DIR}khas_bank_pages.csv\",\n",
    "                   source_column=\"link\",\n",
    "                   metadata_columns=[\"title\", \"link\"],\n",
    "                   content_columns=[\"content\"],\n",
    "                   csv_args={\n",
    "                       \"fieldnames\": [\"title\", \"content\", \"link\"],\n",
    "                       }\n",
    "                   )\n",
    "pages_data = loader.load()[1:]\n",
    "\n",
    "all_data = news_data + product_data + pages_data\n",
    "print(len(news_data), len(product_data), len(pages_data))\n",
    "print(f\"Нийт хуудасны тоо: {len(all_data)}\")\n",
    "print(all_data[0])"
   ]
  },
  {
   "cell_type": "markdown",
   "metadata": {},
   "source": [
    "### Өгөгдөл хуваах\n",
    "\n",
    "Document хэт урт бол vector store-с хайх хайлтын чанар муудах магадлалтай тул доорх хэсэгт агуулгыг тэмдэгтийн тоогоор таслан хэд хэдэн Document болгов.\n",
    "\n",
    "Жич: RAG-н чанарыг сайжруулахын тулд зөвхөн тэмдэгтийн тоогоор хуваахаас гадна өгүүлбэр, цогцолбор, бүлэг гэх мэтчилэн өгөгдөлд тохирсон арга олох нь чухал."
   ]
  },
  {
   "cell_type": "code",
   "execution_count": 35,
   "metadata": {},
   "outputs": [],
   "source": [
    "text_splitter = RecursiveCharacterTextSplitter(\n",
    "    chunk_size=1000, chunk_overlap=100\n",
    ")\n",
    "docs = text_splitter.split_documents(documents=all_data)"
   ]
  },
  {
   "cell_type": "markdown",
   "metadata": {},
   "source": [
    "### Embedding\n",
    "\n",
    "Embedding нь энгийн үгээр ямар нэгэн өгөгдлийг вектор дүрслэл рүү хөрвүүлсэн хэлбэр бөгөөд тухайн вектор нь олон хэмжээст огторгуйд ижил, төстэй утга бүхий өгөгдөлтэй ойр, эсрэг утгатай өгөгдлөөс хол байрладаг.\n",
    "\n",
    "Энэхүү жишээ RAG-д [`sentence-transformers/paraphrase-multilingual-MiniLM-L12-v2`](https://huggingface.co/sentence-transformers/paraphrase-multilingual-MiniLM-L12-v2) загварыг сонгон авлаа.\n",
    "\n",
    "![embedding model](https://python.langchain.com/assets/images/embeddings_concept-975a9aaba52de05b457a1aeff9a7393a.png)"
   ]
  },
  {
   "cell_type": "code",
   "execution_count": 36,
   "metadata": {},
   "outputs": [],
   "source": [
    "embeddings = HuggingFaceEmbeddings(model_name=\"sentence-transformers/paraphrase-multilingual-MiniLM-L12-v2\")"
   ]
  },
  {
   "cell_type": "markdown",
   "metadata": {},
   "source": [
    "### Vector Store\n",
    "\n",
    "Харин vector store нь embedding болон өгөгдөл эсвэл түүний заагчийг хамтад нь хадгалж, хайлтын query орж ирэхэд мөн түүнийг вектор хэлбэрт хөрвүүлэн, санд байх векторуудаас хамгийн ойрыг хайдаг өгөгдлийн сан юм.\n",
    "\n",
    "Энэхүү жишээнд FAISS vector store сонгож ашиглалаа.\n",
    "\n",
    "![vectorestore](https://python.langchain.com/assets/images/vectorstores-2540b4bc355b966c99b0f02cfdddb273.png)"
   ]
  },
  {
   "cell_type": "code",
   "execution_count": 37,
   "metadata": {},
   "outputs": [],
   "source": [
    "# Бүх document-с embedding үүсгэж, vector store-д хадгалах\n",
    "# (өмнө нь үүсгэсэн бол заавал дахин үүсгэх шаардлагагүй, доорх load_local функцээр хадгалсан файлаас уншиж болно)\n",
    "vector_store = FAISS.from_documents(docs, embeddings)\n",
    "vector_store.save_local(\"faiss_index\")"
   ]
  },
  {
   "cell_type": "code",
   "execution_count": 38,
   "metadata": {},
   "outputs": [],
   "source": [
    "# Үүсгэсэн vector store-г файлаас унших\n",
    "vector_store = FAISS.load_local(\n",
    "    \"faiss_index\", embeddings, allow_dangerous_deserialization=True\n",
    ")"
   ]
  },
  {
   "cell_type": "markdown",
   "metadata": {},
   "source": [
    "Vector Store үүсгэсэн бол түүнээс ойролцоо утгатай өгөгдөл хайж үзье.\n",
    "\n",
    "![retriever](https://python.langchain.com/assets/images/retriever_concept-1093f15a8f63ddb90bd23decbd249ea5.png)"
   ]
  },
  {
   "cell_type": "code",
   "execution_count": 39,
   "metadata": {},
   "outputs": [
    {
     "data": {
      "text/plain": [
       "[Document(metadata={'source': 'https://www.xacbank.mn/article/ipo-opening', 'row': 73, 'title': 'ХасБанкны IPO: Нээлтийн арга хэмжээ амжилттай боллоо', 'date': '2023.05.25', 'link': 'https://www.xacbank.mn/article/ipo-opening'}, page_content='content: ХасБанкны IPO: Нээлтийн арга хэмжээ амжилттай боллооТус арга хэмжээнд ХасБанк өөрийн үйл ажиллагаа, хувьцаа, ирээдүйн стратеги, зорилтынхоо талаар харилцагч, хөрөнгө оруулагч, олон нийтэд дэлгэрэнгүй мэдээлэл өгсний зэрэгцээ ХасБанкны IPO-д хамтран ажиллаж буй андеррайтерууд болох Райнос Инвестмент үнэт цаасны компани, Өлзий энд Ко Капитал үнэт цаасны компаниуд үнэт цаасны данс нээн, урьдчилсан захиалга авч, хөрөнгийн зах зээлтэй холбоотой зөвлөгөө мэдээлэл өглөө.ХасБанк нийт хувьцааныхаа 5.01 хувийг 677 төгрөгийн нэгжийн үнээр анхдагч зах зээлд арилжаалж 35.7 тэрбум төгрөгийг татан төвлөрүүлэх бөгөөд хувьцааны захиалга 2023 оны 5-р сарын 29-ний 10:00 цагаас 6-р сарын 5-ны 16:00 цаг хүртэл явагдана.Эрхэм харилцагч, хөрөнгө оруулагч та өнөөдрөөс эхлэн ХасБанкны хувьцааны урьдчилсан захиалгыг ХасБанкны дижитал банк болон үндсэн андеррайтер Райнос Инвестмент ҮЦК, туслах андеррайтер Өлзий энд Ко Капитал ҮЦК-уудаар өгч болохоос гадна 5-р сарын 29-нд анхдагч арилжаа нээгдмэгц өөрийн'),\n",
       " Document(metadata={'source': 'https://www.xacbank.mn/article/ipo-ceo-interview', 'row': 74, 'title': 'Г.Цэвэгжав: Сайн засаглал, олон улсын туршлага, нэр хүндтэй хөрөнгө оруулагчид бидний гол давуу тал', 'date': '2023.05.24', 'link': 'https://www.xacbank.mn/article/ipo-ceo-interview'}, page_content='УИХ зөв шийдвэр гаргаж, IPO гаргах хугацааг нэг жилээр сунгасан. Тэгж байж банкнууд сүүлийн 5-6 сард л IPO гаргах боломжтой боллоо шүү дээ. Хэрвээ анхны давчуу хугацаагаар явсан бол маш том эрсдэлүүд гарах нь ойлгомжтой байв. Хугацааг сунгаж, банкнууд активын чанарын үнэлгээ (AQR)хийлгэсэн нь маш зөв зүйл болсон. Банкнуудад IPO-д бэлдэх хугацаа өгч, улмаар эдийн засгийн нөхцөл ч түрүү жилийнхтэй харьцуулахад хамаагүй сайжирсан.-Системийн топ 5 банкнаас өдгөө ХасБанкны IPO л хүлээгдэж байна. Банкнууд ээлж дараатай гаргая гэдгээ тохирсон байсан уу. IPO гаргахад хамгийн сайн бэлтгэлтэй байсан ХасБанк хамгийн сүүлд гаргаж буйд ямар нэгэн шалтгаан бий юу?-Бид хоорондоо ямар нэг дараалал яриагүй. Банкнууд өөрсдийнх нь үйл ажиллагаа, стратеги, санхүүгийн нөхцөл байдлаасаа шалтгаалан өөрсдөө хугацаагаа тогтоосон нь энэ. Эхлээд “Төрийн банк” IPO хийсэн. Засгийн газраас төрийн өмчит компаниудыг хувьчлах шийдвэр гаргаж, энэ хүрээнд тэд арай түрүүлж хөдөлсөн болов уу. “Төрийн банк” түрүүлж'),\n",
       " Document(metadata={'source': 'https://www.xacbank.mn/article/ipo-opening', 'row': 73, 'title': 'ХасБанкны IPO: Нээлтийн арга хэмжээ амжилттай боллоо', 'date': '2023.05.25', 'link': 'https://www.xacbank.mn/article/ipo-opening'}, page_content='Өлзий энд Ко Капитал ҮЦК-уудаар өгч болохоос гадна 5-р сарын 29-нд анхдагч арилжаа нээгдмэгц өөрийн бүртгэлтэй аль ч үнэт цаасны компаниар дамжуулан захиалга өгөх боломжтой.Мөн ХасБанкны IPO-ын талаарх бүхий л мэдээллийг ipo.xacbank.mn веб хуудсаар авч болохын дээр үнэт цаасны данс, захиалгатай холбоотой асуудлаар Райнос Инвестмент ҮЦК /7510 0575/, Өлзий энд Ко Капитал ҮЦК /7777 6377/-уудтай холбогдоно уу.Энэ бол зөвхөн эхлэл.')]"
      ]
     },
     "execution_count": 39,
     "metadata": {},
     "output_type": "execute_result"
    }
   ],
   "source": [
    "# vector store-с document хайгч, k параметраар хамгийн ойр утгатай хэдэн document буцаахыг дамжуулна\n",
    "retriever = vector_store.as_retriever(search_type=\"similarity\", search_kwargs={\"k\": 3})\n",
    "\n",
    "docs = retriever.invoke(\"хасбанк хэзээ IPO хийсэн бэ\")\n",
    "docs"
   ]
  },
  {
   "cell_type": "markdown",
   "metadata": {},
   "source": [
    "## Өгөгдөл хайх, хариулах\n",
    "\n",
    "Өмнөх хэсэгт өгөгдлөө бэлтгэж, vector store-т хадгалсан бол энэ хэсэгт хэрэглэгчийн асуусан асуултаар vector store-с хайлт хийж, LLM-р хариулт өгөх болно.\n",
    "\n",
    "![](https://miro.medium.com/v2/resize:fit:2000/format:webp/1*8dUBh25peTpsucMpL1ypUg.png)"
   ]
  },
  {
   "cell_type": "markdown",
   "metadata": {},
   "source": [
    "### LLM\n",
    "\n",
    "Хайж олсон мэдээлэл, хэрэглэгчийн асуултад тохирох хариулт үүсгэхийн тулд бичвэр үүсгэгч Large Language Model ашиглана.\n",
    "\n",
    "Энд Meta компанийн сургасан [8 тэрбум параметртай Llama 3.1(https://huggingface.co/meta-llama/Llama-3.1-8B)] загварыг сонгов. (Hugging Face дээр загвар ашиглах зөвшөөрөл хүссэн маягт бөглөх ёстой)\n"
   ]
  },
  {
   "cell_type": "code",
   "execution_count": 11,
   "metadata": {},
   "outputs": [
    {
     "data": {
      "application/vnd.jupyter.widget-view+json": {
       "model_id": "759115b9e56d422b9341bf3651774510",
       "version_major": 2,
       "version_minor": 0
      },
      "text/plain": [
       "VBox(children=(HTML(value='<center> <img\\nsrc=https://huggingface.co/front/assets/huggingface_logo-noborder.sv…"
      ]
     },
     "metadata": {},
     "output_type": "display_data"
    }
   ],
   "source": [
    "# Hugging Face-с хандах эрх авсан хаалттай загваруудад хандахын тулд нэвтэрсэн байх шаардлагатай\n",
    "# Нэмэлт мэдээллийг https://huggingface.co/docs/huggingface_hub/package_reference/authentication\n",
    "from huggingface_hub import notebook_login\n",
    "\n",
    "notebook_login()"
   ]
  },
  {
   "cell_type": "code",
   "execution_count": 12,
   "metadata": {
    "scrolled": true
   },
   "outputs": [
    {
     "data": {
      "application/vnd.jupyter.widget-view+json": {
       "model_id": "018333676deb45ce9b1dc086030e7817",
       "version_major": 2,
       "version_minor": 0
      },
      "text/plain": [
       "tokenizer_config.json:   0%|          | 0.00/50.5k [00:00<?, ?B/s]"
      ]
     },
     "metadata": {},
     "output_type": "display_data"
    },
    {
     "data": {
      "application/vnd.jupyter.widget-view+json": {
       "model_id": "9f058cb98cff40859cef9c2e329c4ce1",
       "version_major": 2,
       "version_minor": 0
      },
      "text/plain": [
       "tokenizer.json:   0%|          | 0.00/9.09M [00:00<?, ?B/s]"
      ]
     },
     "metadata": {},
     "output_type": "display_data"
    },
    {
     "data": {
      "application/vnd.jupyter.widget-view+json": {
       "model_id": "bc549a3f0aee4b188296ac3d7de7c336",
       "version_major": 2,
       "version_minor": 0
      },
      "text/plain": [
       "special_tokens_map.json:   0%|          | 0.00/73.0 [00:00<?, ?B/s]"
      ]
     },
     "metadata": {},
     "output_type": "display_data"
    },
    {
     "data": {
      "application/vnd.jupyter.widget-view+json": {
       "model_id": "6ed76ccfaeff425e8254adf87e047079",
       "version_major": 2,
       "version_minor": 0
      },
      "text/plain": [
       "config.json:   0%|          | 0.00/826 [00:00<?, ?B/s]"
      ]
     },
     "metadata": {},
     "output_type": "display_data"
    },
    {
     "data": {
      "application/vnd.jupyter.widget-view+json": {
       "model_id": "385a8861408a4f3992dc4d56877211ad",
       "version_major": 2,
       "version_minor": 0
      },
      "text/plain": [
       "model.safetensors.index.json:   0%|          | 0.00/23.9k [00:00<?, ?B/s]"
      ]
     },
     "metadata": {},
     "output_type": "display_data"
    },
    {
     "data": {
      "application/vnd.jupyter.widget-view+json": {
       "model_id": "8d7938bc186443879b6618781e2d9a29",
       "version_major": 2,
       "version_minor": 0
      },
      "text/plain": [
       "Downloading shards:   0%|          | 0/4 [00:00<?, ?it/s]"
      ]
     },
     "metadata": {},
     "output_type": "display_data"
    },
    {
     "data": {
      "application/vnd.jupyter.widget-view+json": {
       "model_id": "b4a4725abab047aaa6cd0fe28ea9050f",
       "version_major": 2,
       "version_minor": 0
      },
      "text/plain": [
       "model-00001-of-00004.safetensors:   0%|          | 0.00/4.98G [00:00<?, ?B/s]"
      ]
     },
     "metadata": {},
     "output_type": "display_data"
    },
    {
     "data": {
      "application/vnd.jupyter.widget-view+json": {
       "model_id": "66dfb635bf1847d7a3485567e3356979",
       "version_major": 2,
       "version_minor": 0
      },
      "text/plain": [
       "model-00002-of-00004.safetensors:   0%|          | 0.00/5.00G [00:00<?, ?B/s]"
      ]
     },
     "metadata": {},
     "output_type": "display_data"
    },
    {
     "data": {
      "application/vnd.jupyter.widget-view+json": {
       "model_id": "425eccd4a82c4d8abd37d3833e7b868f",
       "version_major": 2,
       "version_minor": 0
      },
      "text/plain": [
       "model-00003-of-00004.safetensors:   0%|          | 0.00/4.92G [00:00<?, ?B/s]"
      ]
     },
     "metadata": {},
     "output_type": "display_data"
    },
    {
     "data": {
      "application/vnd.jupyter.widget-view+json": {
       "model_id": "964b41a1ded2458884fcc7cb6ec42f1a",
       "version_major": 2,
       "version_minor": 0
      },
      "text/plain": [
       "model-00004-of-00004.safetensors:   0%|          | 0.00/1.17G [00:00<?, ?B/s]"
      ]
     },
     "metadata": {},
     "output_type": "display_data"
    },
    {
     "data": {
      "application/vnd.jupyter.widget-view+json": {
       "model_id": "077cf458e0a6439f98964ea8fc79ddf1",
       "version_major": 2,
       "version_minor": 0
      },
      "text/plain": [
       "Loading checkpoint shards:   0%|          | 0/4 [00:00<?, ?it/s]"
      ]
     },
     "metadata": {},
     "output_type": "display_data"
    },
    {
     "data": {
      "application/vnd.jupyter.widget-view+json": {
       "model_id": "a96cc3425ab244aa9a52fd83336b6f1d",
       "version_major": 2,
       "version_minor": 0
      },
      "text/plain": [
       "generation_config.json:   0%|          | 0.00/185 [00:00<?, ?B/s]"
      ]
     },
     "metadata": {},
     "output_type": "display_data"
    },
    {
     "name": "stderr",
     "output_type": "stream",
     "text": [
      "Device set to use cuda:0\n"
     ]
    }
   ],
   "source": [
    "# Жишээ болгож Llama 3.1 8B загварыг ашиглав\n",
    "model_id = \"meta-llama/Llama-3.1-8B\"\n",
    "tokenizer = AutoTokenizer.from_pretrained(model_id)\n",
    "model = AutoModelForCausalLM.from_pretrained(\n",
    "    model_id, \n",
    "    torch_dtype=torch.float16,\n",
    "    device_map='auto'\n",
    ")\n",
    "\n",
    "pipe = pipeline(\n",
    "    \"text-generation\",\n",
    "    model=model,\n",
    "    tokenizer=tokenizer,\n",
    "    # llm-н үүсгэж болох токений дээд хязгаар\n",
    "    max_new_tokens=1024,\n",
    "    # хариултын randomization-г арилгах\n",
    "    do_sample=True,\n",
    "    top_k=1,\n",
    "    repetition_penalty=1.15,\n",
    "    # гаралт бидний өгсөн prompt-г хамт хэвлэхгүй байх\n",
    "    return_full_text=False,\n",
    "    pad_token_id=tokenizer.eos_token_id,\n",
    ")\n",
    "\n",
    "# HuggingFace pipeline-г LangChain-ы pipeline болгох\n",
    "llm = HuggingFacePipeline(pipeline=pipe)"
   ]
  },
  {
   "cell_type": "code",
   "execution_count": 16,
   "metadata": {
    "scrolled": true
   },
   "outputs": [
    {
     "name": "stdout",
     "output_type": "stream",
     "text": [
      "Collecting openai\n",
      "  Downloading openai-1.57.0-py3-none-any.whl (389 kB)\n",
      "\u001b[2K     \u001b[90m━━━━━━━━━━━━━━━━━━━━━━━━━━━━━━━━━━━━━━━\u001b[0m \u001b[32m389.9/389.9 KB\u001b[0m \u001b[31m7.8 MB/s\u001b[0m eta \u001b[36m0:00:00\u001b[0ma \u001b[36m0:00:01\u001b[0m\n",
      "\u001b[?25hRequirement already satisfied: anyio<5,>=3.5.0 in /root/rag-starter/.virt/lib/python3.10/site-packages (from openai) (4.7.0)\n",
      "Collecting jiter<1,>=0.4.0\n",
      "  Downloading jiter-0.8.0-cp310-cp310-manylinux_2_17_x86_64.manylinux2014_x86_64.whl (343 kB)\n",
      "\u001b[2K     \u001b[90m━━━━━━━━━━━━━━━━━━━━━━━━━━━━━━━━━━━━━━\u001b[0m \u001b[32m343.6/343.6 KB\u001b[0m \u001b[31m72.8 MB/s\u001b[0m eta \u001b[36m0:00:00\u001b[0m\n",
      "\u001b[?25hRequirement already satisfied: tqdm>4 in /root/rag-starter/.virt/lib/python3.10/site-packages (from openai) (4.67.1)\n",
      "Requirement already satisfied: typing-extensions<5,>=4.11 in /root/rag-starter/.virt/lib/python3.10/site-packages (from openai) (4.12.2)\n",
      "Requirement already satisfied: pydantic<3,>=1.9.0 in /root/rag-starter/.virt/lib/python3.10/site-packages (from openai) (2.10.2)\n",
      "Requirement already satisfied: sniffio in /root/rag-starter/.virt/lib/python3.10/site-packages (from openai) (1.3.1)\n",
      "Collecting distro<2,>=1.7.0\n",
      "  Downloading distro-1.9.0-py3-none-any.whl (20 kB)\n",
      "Requirement already satisfied: httpx<1,>=0.23.0 in /root/rag-starter/.virt/lib/python3.10/site-packages (from openai) (0.28.1)\n",
      "Requirement already satisfied: exceptiongroup>=1.0.2 in /root/rag-starter/.virt/lib/python3.10/site-packages (from anyio<5,>=3.5.0->openai) (1.2.2)\n",
      "Requirement already satisfied: idna>=2.8 in /root/rag-starter/.virt/lib/python3.10/site-packages (from anyio<5,>=3.5.0->openai) (3.10)\n",
      "Requirement already satisfied: httpcore==1.* in /root/rag-starter/.virt/lib/python3.10/site-packages (from httpx<1,>=0.23.0->openai) (1.0.7)\n",
      "Requirement already satisfied: certifi in /root/rag-starter/.virt/lib/python3.10/site-packages (from httpx<1,>=0.23.0->openai) (2024.8.30)\n",
      "Requirement already satisfied: h11<0.15,>=0.13 in /root/rag-starter/.virt/lib/python3.10/site-packages (from httpcore==1.*->httpx<1,>=0.23.0->openai) (0.14.0)\n",
      "Requirement already satisfied: pydantic-core==2.27.1 in /root/rag-starter/.virt/lib/python3.10/site-packages (from pydantic<3,>=1.9.0->openai) (2.27.1)\n",
      "Requirement already satisfied: annotated-types>=0.6.0 in /root/rag-starter/.virt/lib/python3.10/site-packages (from pydantic<3,>=1.9.0->openai) (0.7.0)\n",
      "Installing collected packages: jiter, distro, openai\n",
      "Successfully installed distro-1.9.0 jiter-0.8.0 openai-1.57.0\n"
     ]
    }
   ],
   "source": [
    "!pip install openai"
   ]
  },
  {
   "cell_type": "code",
   "execution_count": 40,
   "metadata": {},
   "outputs": [],
   "source": [
    "import openai\n",
    "from langchain.chat_models import ChatOpenAI\n",
    "from langchain.prompts import ChatPromptTemplate\n",
    "from langchain.chains import RetrievalQA\n",
    "from langchain.chains.combine_documents.stuff import StuffDocumentsChain\n",
    "\n",
    "openai.api_key = \"imagine pushing ur api key to the public repo without checking couldnt be me lmaoooo\"\n",
    "\n",
    "# llm = OpenAI(\n",
    "#     model=\"gpt-4\",  # Specify the GPT-4 model\n",
    "#     max_tokens=1024,  # Maximum number of tokens in the response\n",
    "#     temperature=0,  # To avoid randomization, set temperature to 0\n",
    "#     n=1,  # Number of responses to generate\n",
    "# )\n",
    "\n",
    "llm = ChatOpenAI(\n",
    "    model=\"gpt-4\",  # Specify GPT-4 as the model\n",
    "    temperature=0,  # Make answers deterministic\n",
    "    max_tokens=300,  # Limit response length to suit your needs\n",
    "    openai_api_key=\"look at your gitguardian emails yall\",\n",
    ")\n",
    "\n",
    "system_prompt = (\n",
    "    \"You are an assistant for question-answering tasks. \"\n",
    "    \"Use the following pieces of retrieved context to answer \"\n",
    "    \"the user question. If you don't know the answer to the question, say that you \"\n",
    "    \"don't know. Use three sentences maximum and keep the \"\n",
    "    \"answer concise.\"\n",
    "    \"\\n\\n\"\n",
    "    'Context:\\n\"\"\"\\n{context}\\n\"\"\"'\n",
    ")\n",
    "\n",
    "prompt = ChatPromptTemplate.from_messages(\n",
    "    [\n",
    "        (\"system\", system_prompt),\n",
    "        (\"user\", \"Question: \\\"\\\"\\\"{input}\\\"\\\"\\\"\"),\n",
    "        (\"assistant\", \"Answer: \"),\n",
    "    ]\n",
    ")"
   ]
  },
  {
   "cell_type": "code",
   "execution_count": 41,
   "metadata": {},
   "outputs": [
    {
     "data": {
      "text/plain": [
       "VectorStoreRetriever(tags=['FAISS', 'HuggingFaceEmbeddings'], vectorstore=<langchain_community.vectorstores.faiss.FAISS object at 0x7f3a70220790>, search_kwargs={'k': 3})"
      ]
     },
     "execution_count": 41,
     "metadata": {},
     "output_type": "execute_result"
    }
   ],
   "source": [
    "retriever = vector_store.as_retriever(search_type=\"similarity\", search_kwargs={\"k\": 3})\n",
    "retriever"
   ]
  },
  {
   "cell_type": "code",
   "execution_count": 43,
   "metadata": {},
   "outputs": [
    {
     "name": "stderr",
     "output_type": "stream",
     "text": [
      "/tmp/ipykernel_47895/2447725985.py:12: LangChainDeprecationWarning: This class is deprecated. Use the `create_retrieval_chain` constructor instead. See migration guide here: https://python.langchain.com/docs/versions/migrating_chains/retrieval_qa/\n",
      "  rag_chain = RetrievalQA(\n"
     ]
    },
    {
     "ename": "ValueError",
     "evalue": "Missing some input keys: {'query'}",
     "output_type": "error",
     "traceback": [
      "\u001b[0;31m---------------------------------------------------------------------------\u001b[0m",
      "\u001b[0;31mValueError\u001b[0m                                Traceback (most recent call last)",
      "Cell \u001b[0;32mIn[43], line 19\u001b[0m\n\u001b[1;32m     12\u001b[0m rag_chain \u001b[38;5;241m=\u001b[39m RetrievalQA(\n\u001b[1;32m     13\u001b[0m     retriever\u001b[38;5;241m=\u001b[39mretriever,\n\u001b[1;32m     14\u001b[0m     combine_documents_chain\u001b[38;5;241m=\u001b[39mcombine_documents_chain,\n\u001b[1;32m     15\u001b[0m     return_source_documents\u001b[38;5;241m=\u001b[39m\u001b[38;5;28;01mTrue\u001b[39;00m,  \u001b[38;5;66;03m# Optional: include source documents in the response\u001b[39;00m\n\u001b[1;32m     16\u001b[0m )\n\u001b[1;32m     18\u001b[0m \u001b[38;5;66;03m# Run the chain\u001b[39;00m\n\u001b[0;32m---> 19\u001b[0m response \u001b[38;5;241m=\u001b[39m \u001b[43mrag_chain\u001b[49m\u001b[38;5;241;43m.\u001b[39;49m\u001b[43minvoke\u001b[49m\u001b[43m(\u001b[49m\u001b[43m{\u001b[49m\u001b[38;5;124;43m\"\u001b[39;49m\u001b[38;5;124;43minput\u001b[39;49m\u001b[38;5;124;43m\"\u001b[39;49m\u001b[43m:\u001b[49m\u001b[43m \u001b[49m\u001b[38;5;124;43m\"\u001b[39;49m\u001b[38;5;124;43mдебит карт яаж авах вэ\u001b[39;49m\u001b[38;5;124;43m\"\u001b[39;49m\u001b[43m}\u001b[49m\u001b[43m)\u001b[49m\n\u001b[1;32m     20\u001b[0m \u001b[38;5;28mprint\u001b[39m(response[\u001b[38;5;124m\"\u001b[39m\u001b[38;5;124manswer\u001b[39m\u001b[38;5;124m\"\u001b[39m])\n",
      "File \u001b[0;32m~/rag-starter/.virt/lib/python3.10/site-packages/langchain/chains/base.py:170\u001b[0m, in \u001b[0;36mChain.invoke\u001b[0;34m(self, input, config, **kwargs)\u001b[0m\n\u001b[1;32m    168\u001b[0m \u001b[38;5;28;01mexcept\u001b[39;00m \u001b[38;5;167;01mBaseException\u001b[39;00m \u001b[38;5;28;01mas\u001b[39;00m e:\n\u001b[1;32m    169\u001b[0m     run_manager\u001b[38;5;241m.\u001b[39mon_chain_error(e)\n\u001b[0;32m--> 170\u001b[0m     \u001b[38;5;28;01mraise\u001b[39;00m e\n\u001b[1;32m    171\u001b[0m run_manager\u001b[38;5;241m.\u001b[39mon_chain_end(outputs)\n\u001b[1;32m    173\u001b[0m \u001b[38;5;28;01mif\u001b[39;00m include_run_info:\n",
      "File \u001b[0;32m~/rag-starter/.virt/lib/python3.10/site-packages/langchain/chains/base.py:158\u001b[0m, in \u001b[0;36mChain.invoke\u001b[0;34m(self, input, config, **kwargs)\u001b[0m\n\u001b[1;32m    151\u001b[0m run_manager \u001b[38;5;241m=\u001b[39m callback_manager\u001b[38;5;241m.\u001b[39mon_chain_start(\n\u001b[1;32m    152\u001b[0m     \u001b[38;5;28;01mNone\u001b[39;00m,\n\u001b[1;32m    153\u001b[0m     inputs,\n\u001b[1;32m    154\u001b[0m     run_id,\n\u001b[1;32m    155\u001b[0m     name\u001b[38;5;241m=\u001b[39mrun_name,\n\u001b[1;32m    156\u001b[0m )\n\u001b[1;32m    157\u001b[0m \u001b[38;5;28;01mtry\u001b[39;00m:\n\u001b[0;32m--> 158\u001b[0m     \u001b[38;5;28;43mself\u001b[39;49m\u001b[38;5;241;43m.\u001b[39;49m\u001b[43m_validate_inputs\u001b[49m\u001b[43m(\u001b[49m\u001b[43minputs\u001b[49m\u001b[43m)\u001b[49m\n\u001b[1;32m    159\u001b[0m     outputs \u001b[38;5;241m=\u001b[39m (\n\u001b[1;32m    160\u001b[0m         \u001b[38;5;28mself\u001b[39m\u001b[38;5;241m.\u001b[39m_call(inputs, run_manager\u001b[38;5;241m=\u001b[39mrun_manager)\n\u001b[1;32m    161\u001b[0m         \u001b[38;5;28;01mif\u001b[39;00m new_arg_supported\n\u001b[1;32m    162\u001b[0m         \u001b[38;5;28;01melse\u001b[39;00m \u001b[38;5;28mself\u001b[39m\u001b[38;5;241m.\u001b[39m_call(inputs)\n\u001b[1;32m    163\u001b[0m     )\n\u001b[1;32m    165\u001b[0m     final_outputs: Dict[\u001b[38;5;28mstr\u001b[39m, Any] \u001b[38;5;241m=\u001b[39m \u001b[38;5;28mself\u001b[39m\u001b[38;5;241m.\u001b[39mprep_outputs(\n\u001b[1;32m    166\u001b[0m         inputs, outputs, return_only_outputs\n\u001b[1;32m    167\u001b[0m     )\n",
      "File \u001b[0;32m~/rag-starter/.virt/lib/python3.10/site-packages/langchain/chains/base.py:290\u001b[0m, in \u001b[0;36mChain._validate_inputs\u001b[0;34m(self, inputs)\u001b[0m\n\u001b[1;32m    288\u001b[0m missing_keys \u001b[38;5;241m=\u001b[39m \u001b[38;5;28mset\u001b[39m(\u001b[38;5;28mself\u001b[39m\u001b[38;5;241m.\u001b[39minput_keys)\u001b[38;5;241m.\u001b[39mdifference(inputs)\n\u001b[1;32m    289\u001b[0m \u001b[38;5;28;01mif\u001b[39;00m missing_keys:\n\u001b[0;32m--> 290\u001b[0m     \u001b[38;5;28;01mraise\u001b[39;00m \u001b[38;5;167;01mValueError\u001b[39;00m(\u001b[38;5;124mf\u001b[39m\u001b[38;5;124m\"\u001b[39m\u001b[38;5;124mMissing some input keys: \u001b[39m\u001b[38;5;132;01m{\u001b[39;00mmissing_keys\u001b[38;5;132;01m}\u001b[39;00m\u001b[38;5;124m\"\u001b[39m)\n",
      "\u001b[0;31mValueError\u001b[0m: Missing some input keys: {'query'}"
     ]
    }
   ],
   "source": [
    "from langchain.chains import LLMChain, RetrievalQA\n",
    "\n",
    "llm_chain = LLMChain(llm=llm, prompt=prompt)\n",
    "\n",
    "# Combine retrieved documents with the LLMChain\n",
    "combine_documents_chain = StuffDocumentsChain(\n",
    "    llm_chain=llm_chain,\n",
    "    document_variable_name=\"context\",  # Match the variable in the system prompt\n",
    ")\n",
    "\n",
    "# Create the RAG chain\n",
    "rag_chain = RetrievalQA(\n",
    "    retriever=retriever,\n",
    "    combine_documents_chain=combine_documents_chain,\n",
    "    return_source_documents=True,  # Optional: include source documents in the response\n",
    ")\n",
    "\n",
    "# Run the chain\n",
    "response = rag_chain.invoke({\"input\": \"дебит карт яаж авах вэ\"})\n",
    "print(response[\"answer\"])"
   ]
  },
  {
   "cell_type": "markdown",
   "metadata": {},
   "source": [
    "### Chain: Retrieval -> Prompt -> LLM\n",
    "\n",
    "Prompt-н `{context}`-н оронд хайж олсон мэдээлэл, `{input}`-н оронд хэрэглэгчийн асуусан асуулт орох болно."
   ]
  },
  {
   "cell_type": "code",
   "execution_count": 13,
   "metadata": {},
   "outputs": [],
   "source": [
    "system_prompt = (\n",
    "    \"You are an assistant for question-answering tasks. \"\n",
    "    \"Use the following pieces of retrieved context to answer \"\n",
    "    \"the user question. If you don't know the answer to the question, say that you \"\n",
    "    \"don't know. Use three sentences maximum and keep the \"\n",
    "    \"answer concise.\"\n",
    "    \"\\n\\n\"\n",
    "    'Context:\\n\"\"\"\\n{context}\\n\"\"\"'\n",
    ")\n",
    "\n",
    "prompt = ChatPromptTemplate.from_messages(\n",
    "    [\n",
    "        (\"system\", system_prompt),\n",
    "        (\"user\", \"Question: \\\"\\\"\\\"{input}\\\"\\\"\\\"\"),\n",
    "        (\"assistant\", \"Answer: \"),\n",
    "    ]\n",
    ")\n",
    "\n",
    "# vector store-с document хайгч, k параметраар хамгийн ойр утгатай хэдэн document буцаахыг дамжуулна\n",
    "retriever = vector_store.as_retriever(search_type=\"similarity\", search_kwargs={\"k\": 3})\n",
    "\n",
    "# Chain үүсгэх\n",
    "# input -> retrieval -> prompt -> llm -> answer\n",
    "question_answer_chain = create_stuff_documents_chain(llm, prompt)\n",
    "rag_chain = create_retrieval_chain(retriever, question_answer_chain)"
   ]
  },
  {
   "cell_type": "code",
   "execution_count": 14,
   "metadata": {},
   "outputs": [
    {
     "data": {
      "text/plain": [
       "' \"картаа хасбанкны дурын салбар,тооцооны төв болон мобикомуудад захиалж авах боломжтой\"'"
      ]
     },
     "execution_count": 14,
     "metadata": {},
     "output_type": "execute_result"
    }
   ],
   "source": [
    "# Chain ажиллуулах\n",
    "response = rag_chain.invoke({\"input\": \"дебит карт яаж авах вэ\"})\n",
    "response[\"answer\"]"
   ]
  },
  {
   "cell_type": "code",
   "execution_count": 15,
   "metadata": {},
   "outputs": [
    {
     "data": {
      "text/plain": [
       "{'input': 'дебит карт яаж авах вэ',\n",
       " 'context': [Document(metadata={'source': 'https://www.xacbank.mn/article/monpay-cashback', 'row': 123, 'title': 'Monpay төлбөрийн картаар худалдан авалт хийвэл 20%-ийг танд буцаан олгоно', 'date': '2021.11.04', 'link': 'https://www.xacbank.mn/article/monpay-cashback'}, page_content='сарын 5-аас 19-нийгдуустал үргэлжлэх тул та Monpay картаа яаралтай захиалан авч, 20%-ийн буцаан олголт авах ховорхон боломжийг бүү алдаарай.Жич: Нэг харилцагчид олгох буцаан олголтын дээд хэмжээ 200,000 төгрөгөөр хязгаарлагдана.Monpay картыг хэрхэн авах вэ?ХасБанкны шинэчлэгдсэн Дижитал банкаар дамжуулан зайнаас захиалж авахаас гадна ХасБанкны дурын салбар, тооцооны төв болон Мобикомын үндсэн салбаруудад хандан захиалах боломжтой.Шинэчлэгдсэн дижитал банкийг :http://bit.ly/XacBankMonpay картын давуу талОлон улсад болон онлайн төлбөр тооцоонд саадгүй ашиглана;Зайнаас унших NFC технологитой;ХасБанны дижитал банкаар дамжуулан картаа идэвхжүүлэх, пин кодоо солих, хаяж гээсэн тохиолдолд хаах, нөхөн авах гэх мэтчилэн бүрэн удирдана;Monpay апп-тай холбогдож, олон төрлийн үйлчилгээ авах, хөнгөлөлт урамшуулалд хамрагдах;ХасБанкны АТМ-ээс бэлэн мөнгө авахдаа шимтгэлгүй;Интернэт худалдан авалт хийхэд давхар хамгаалалттай.Картын дэлгэрэнгүй мэдээллийг:https://www.xacbank.mn/product/132'),\n",
       "  Document(metadata={'source': 'https://www.xacbank.mn/article/354', 'row': 530, 'title': 'ХасБанкны төлбөрийн карт эзэмшигч та төлбөрийн шинэчлэгдсэн картаа 7 сарын 1-с өмнө амжиж солиулж аваарай', 'date': '2012.06.27', 'link': 'https://www.xacbank.mn/article/354'}, page_content='таныг луйврын шинжтэй элдэв эрсдэлээс бүрэн   хамгаалах боллоо.Харилцагч Таны одоо хэрэглэж байгаа төлбөрийн карт 7 дугаар сарын  1-нээс ашиглагдах боломжгүй буюу идэвхгүй болж байгаа тул шинээр  хэвлэгдсэн картаа хаанаас авах болон  шинэ карттай холбогдож  гарсан  асуудлаар ХасБанкны Харилцагчийн Үйлчилгээний Төвийн 1888 дугаарт хандаж  тодруулна ууЗөвБанк-ХасБанк'),\n",
       "  Document(metadata={'source': 'https://www.xacbank.mn/article/mobicom-card-ordering', 'row': 174, 'title': 'Банкны картаа Мобикомын салбараас захиалдаг боллоо', 'date': '2019.12.04', 'link': 'https://www.xacbank.mn/article/mobicom-card-ordering'}, page_content='content: Банкны картаа Мобикомын салбараас захиалдаг боллооОдоо цагт банкны картаа зөвхөн банканд л очиж захиалдаг үе ард хоцорчээ. Та яг одоо XacБанкны CANDY төлбөрийн картыг Мобикомын үйлчилгээний салбаруудад очиж захиалах боломжтой боллоо.Candy төлбөрийн карт бол зүгээр ч нэг карт биш ээ! Дотроо ХасБанкны төгрөгийн данс болон Candy цахим мөнгөний данс гээд нэгэн зэрэг 2 төрлийн данс агуулах бөгөөд картаар хийсэн гүйлгээ бүрд тань урамшуулал, буцаан олголт өгдөг УНШУУЛАХ ТУСАМ УРАМТАЙ карт!Та хийсэн гүйлгээнээсээ буцаагаад орлого авч үзсэн үү? Үгүй л болов уу. Тэгвэл Candy төлбөрийн картаа ХасБанкны ПОС төхөөрөмжид уншуулан гүйлгээ хийх бүрд үнийн дүнгийн 1%-ийг данс руу тань буцаагаад хийчихдэг. Гоё уу?Candy төлбөрийн картын онцлог давуу талуудаас дурдвал:Картаа XacБанкны пос машинд уншуулан төлбөр тооцоо хийх бүрд үнийн дүнгийн 1%-ийг Candy цахим мөнгө хэлбэрээр буцаан олгоно;Харин картан дахь Candy дансаараа 5000-аас дээш дүнтэй худалдан авалт хийвэл 3 өдрийн хязгааргүй дата багц')],\n",
       " 'answer': ' \"картаа хасбанкны дурын салбар,тооцооны төв болон мобикомуудад захиалж авах боломжтой\"'}"
      ]
     },
     "execution_count": 15,
     "metadata": {},
     "output_type": "execute_result"
    }
   ],
   "source": [
    "# input, context, answer гурвыг бүгдийг нь харах\n",
    "response"
   ]
  },
  {
   "cell_type": "code",
   "execution_count": null,
   "metadata": {},
   "outputs": [],
   "source": []
  }
 ],
 "metadata": {
  "kernelspec": {
   "display_name": "Python 3 (ipykernel)",
   "language": "python",
   "name": "python3"
  },
  "language_info": {
   "codemirror_mode": {
    "name": "ipython",
    "version": 3
   },
   "file_extension": ".py",
   "mimetype": "text/x-python",
   "name": "python",
   "nbconvert_exporter": "python",
   "pygments_lexer": "ipython3",
   "version": "3.10.12"
  }
 },
 "nbformat": 4,
 "nbformat_minor": 4
}
