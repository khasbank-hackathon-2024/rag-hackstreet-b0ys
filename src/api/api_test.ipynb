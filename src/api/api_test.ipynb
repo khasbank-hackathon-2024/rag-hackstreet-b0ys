{
 "cells": [
  {
   "cell_type": "raw",
   "metadata": {},
   "source": [
    "# RAG гарааны код\n",
    "\n",
    "Энэхүү гарааны jupyter notebook нь энгийн RAG архитектурыг [LangChain](https://python.langchain.com/docs/introduction/) framework-н тусламжтай, хэлний загваруудыг [Hugging Face Transformers](https://huggingface.co/docs/transformers/index)-р татаж, ажиллуулах байдлаар хэрэгжүүлсэн бөгөөд энэхүү notebook-д суурилан өөрсдийн RAG архитектур, загвар, шийдлээ хэрэгжүүлж болно.\n",
    "\n",
    "Шаардлагатай python сангуудыг [requirements.txt](../requirements.txt) файлд жагсаасан байгаа.\n",
    "\n",
    "![](https://python.langchain.com/assets/images/rag_concepts-4499b260d1053838a3e361fb54f376ec.png)"
   ]
  },
  {
   "cell_type": "code",
   "execution_count": 1,
   "metadata": {
    "collapsed": true,
    "jupyter": {
     "outputs_hidden": true
    },
    "scrolled": true
   },
   "outputs": [
    {
     "name": "stdout",
     "output_type": "stream",
     "text": [
      "Requirement already satisfied: accelerate==1.2.0 in /root/rag-starter/.virt/lib/python3.10/site-packages (1.2.0)\n",
      "Requirement already satisfied: torch>=1.10.0 in /root/rag-starter/.virt/lib/python3.10/site-packages (from accelerate==1.2.0) (2.5.1)\n",
      "Requirement already satisfied: psutil in /root/rag-starter/.virt/lib/python3.10/site-packages (from accelerate==1.2.0) (6.1.0)\n",
      "Requirement already satisfied: packaging>=20.0 in /root/rag-starter/.virt/lib/python3.10/site-packages (from accelerate==1.2.0) (23.2)\n",
      "Requirement already satisfied: pyyaml in /root/rag-starter/.virt/lib/python3.10/site-packages (from accelerate==1.2.0) (6.0.2)\n",
      "Requirement already satisfied: huggingface-hub>=0.21.0 in /root/rag-starter/.virt/lib/python3.10/site-packages (from accelerate==1.2.0) (0.26.3)\n",
      "Requirement already satisfied: safetensors>=0.4.3 in /root/rag-starter/.virt/lib/python3.10/site-packages (from accelerate==1.2.0) (0.4.5)\n",
      "Requirement already satisfied: numpy<3.0.0,>=1.17 in /root/rag-starter/.virt/lib/python3.10/site-packages (from accelerate==1.2.0) (1.26.4)\n",
      "Requirement already satisfied: fsspec>=2023.5.0 in /root/rag-starter/.virt/lib/python3.10/site-packages (from huggingface-hub>=0.21.0->accelerate==1.2.0) (2024.10.0)\n",
      "Requirement already satisfied: tqdm>=4.42.1 in /root/rag-starter/.virt/lib/python3.10/site-packages (from huggingface-hub>=0.21.0->accelerate==1.2.0) (4.67.1)\n",
      "Requirement already satisfied: requests in /root/rag-starter/.virt/lib/python3.10/site-packages (from huggingface-hub>=0.21.0->accelerate==1.2.0) (2.32.3)\n",
      "Requirement already satisfied: typing-extensions>=3.7.4.3 in /root/rag-starter/.virt/lib/python3.10/site-packages (from huggingface-hub>=0.21.0->accelerate==1.2.0) (4.12.2)\n",
      "Requirement already satisfied: filelock in /root/rag-starter/.virt/lib/python3.10/site-packages (from huggingface-hub>=0.21.0->accelerate==1.2.0) (3.16.1)\n",
      "Requirement already satisfied: sympy==1.13.1 in /root/rag-starter/.virt/lib/python3.10/site-packages (from torch>=1.10.0->accelerate==1.2.0) (1.13.1)\n",
      "Requirement already satisfied: nvidia-cufft-cu12==11.2.1.3 in /root/rag-starter/.virt/lib/python3.10/site-packages (from torch>=1.10.0->accelerate==1.2.0) (11.2.1.3)\n",
      "Requirement already satisfied: nvidia-cuda-runtime-cu12==12.4.127 in /root/rag-starter/.virt/lib/python3.10/site-packages (from torch>=1.10.0->accelerate==1.2.0) (12.4.127)\n",
      "Requirement already satisfied: nvidia-cusparse-cu12==12.3.1.170 in /root/rag-starter/.virt/lib/python3.10/site-packages (from torch>=1.10.0->accelerate==1.2.0) (12.3.1.170)\n",
      "Requirement already satisfied: nvidia-nvtx-cu12==12.4.127 in /root/rag-starter/.virt/lib/python3.10/site-packages (from torch>=1.10.0->accelerate==1.2.0) (12.4.127)\n",
      "Requirement already satisfied: nvidia-cudnn-cu12==9.1.0.70 in /root/rag-starter/.virt/lib/python3.10/site-packages (from torch>=1.10.0->accelerate==1.2.0) (9.1.0.70)\n",
      "Requirement already satisfied: nvidia-cuda-nvrtc-cu12==12.4.127 in /root/rag-starter/.virt/lib/python3.10/site-packages (from torch>=1.10.0->accelerate==1.2.0) (12.4.127)\n",
      "Requirement already satisfied: nvidia-nvjitlink-cu12==12.4.127 in /root/rag-starter/.virt/lib/python3.10/site-packages (from torch>=1.10.0->accelerate==1.2.0) (12.4.127)\n",
      "Requirement already satisfied: jinja2 in /root/rag-starter/.virt/lib/python3.10/site-packages (from torch>=1.10.0->accelerate==1.2.0) (3.1.4)\n",
      "Requirement already satisfied: nvidia-cublas-cu12==12.4.5.8 in /root/rag-starter/.virt/lib/python3.10/site-packages (from torch>=1.10.0->accelerate==1.2.0) (12.4.5.8)\n",
      "Requirement already satisfied: nvidia-curand-cu12==10.3.5.147 in /root/rag-starter/.virt/lib/python3.10/site-packages (from torch>=1.10.0->accelerate==1.2.0) (10.3.5.147)\n",
      "Requirement already satisfied: nvidia-cuda-cupti-cu12==12.4.127 in /root/rag-starter/.virt/lib/python3.10/site-packages (from torch>=1.10.0->accelerate==1.2.0) (12.4.127)\n",
      "Requirement already satisfied: triton==3.1.0 in /root/rag-starter/.virt/lib/python3.10/site-packages (from torch>=1.10.0->accelerate==1.2.0) (3.1.0)\n",
      "Requirement already satisfied: nvidia-nccl-cu12==2.21.5 in /root/rag-starter/.virt/lib/python3.10/site-packages (from torch>=1.10.0->accelerate==1.2.0) (2.21.5)\n",
      "Requirement already satisfied: networkx in /root/rag-starter/.virt/lib/python3.10/site-packages (from torch>=1.10.0->accelerate==1.2.0) (3.4.2)\n",
      "Requirement already satisfied: nvidia-cusolver-cu12==11.6.1.9 in /root/rag-starter/.virt/lib/python3.10/site-packages (from torch>=1.10.0->accelerate==1.2.0) (11.6.1.9)\n",
      "Requirement already satisfied: mpmath<1.4,>=1.1.0 in /root/rag-starter/.virt/lib/python3.10/site-packages (from sympy==1.13.1->torch>=1.10.0->accelerate==1.2.0) (1.3.0)\n",
      "Requirement already satisfied: MarkupSafe>=2.0 in /root/rag-starter/.virt/lib/python3.10/site-packages (from jinja2->torch>=1.10.0->accelerate==1.2.0) (2.1.5)\n",
      "Requirement already satisfied: charset-normalizer<4,>=2 in /root/rag-starter/.virt/lib/python3.10/site-packages (from requests->huggingface-hub>=0.21.0->accelerate==1.2.0) (3.4.0)\n",
      "Requirement already satisfied: idna<4,>=2.5 in /root/rag-starter/.virt/lib/python3.10/site-packages (from requests->huggingface-hub>=0.21.0->accelerate==1.2.0) (3.10)\n",
      "Requirement already satisfied: urllib3<3,>=1.21.1 in /root/rag-starter/.virt/lib/python3.10/site-packages (from requests->huggingface-hub>=0.21.0->accelerate==1.2.0) (2.2.3)\n",
      "Requirement already satisfied: certifi>=2017.4.17 in /root/rag-starter/.virt/lib/python3.10/site-packages (from requests->huggingface-hub>=0.21.0->accelerate==1.2.0) (2024.8.30)\n",
      "Note: you may need to restart the kernel to use updated packages.\n"
     ]
    }
   ],
   "source": [
    "pip install accelerate==1.2.0"
   ]
  },
  {
   "cell_type": "code",
   "execution_count": 2,
   "metadata": {
    "collapsed": true,
    "jupyter": {
     "outputs_hidden": true
    },
    "scrolled": true
   },
   "outputs": [
    {
     "name": "stdout",
     "output_type": "stream",
     "text": [
      "Requirement already satisfied: faiss-gpu==1.7.2 in /root/rag-starter/.virt/lib/python3.10/site-packages (1.7.2)\n",
      "Requirement already satisfied: huggingface-hub==0.26.3 in /root/rag-starter/.virt/lib/python3.10/site-packages (0.26.3)\n",
      "Requirement already satisfied: ipywidgets==8.1.5 in /root/rag-starter/.virt/lib/python3.10/site-packages (8.1.5)\n",
      "Requirement already satisfied: jupyterlab==4.3.2 in /root/rag-starter/.virt/lib/python3.10/site-packages (4.3.2)\n",
      "Requirement already satisfied: langchain==0.3.9 in /root/rag-starter/.virt/lib/python3.10/site-packages (0.3.9)\n",
      "Requirement already satisfied: langchain-community==0.3.9 in /root/rag-starter/.virt/lib/python3.10/site-packages (0.3.9)\n",
      "Requirement already satisfied: typing-extensions>=3.7.4.3 in /root/rag-starter/.virt/lib/python3.10/site-packages (from huggingface-hub==0.26.3) (4.12.2)\n",
      "Requirement already satisfied: filelock in /root/rag-starter/.virt/lib/python3.10/site-packages (from huggingface-hub==0.26.3) (3.16.1)\n",
      "Requirement already satisfied: packaging>=20.9 in /root/rag-starter/.virt/lib/python3.10/site-packages (from huggingface-hub==0.26.3) (23.2)\n",
      "Requirement already satisfied: requests in /root/rag-starter/.virt/lib/python3.10/site-packages (from huggingface-hub==0.26.3) (2.32.3)\n",
      "Requirement already satisfied: pyyaml>=5.1 in /root/rag-starter/.virt/lib/python3.10/site-packages (from huggingface-hub==0.26.3) (6.0.2)\n",
      "Requirement already satisfied: tqdm>=4.42.1 in /root/rag-starter/.virt/lib/python3.10/site-packages (from huggingface-hub==0.26.3) (4.67.1)\n",
      "Requirement already satisfied: fsspec>=2023.5.0 in /root/rag-starter/.virt/lib/python3.10/site-packages (from huggingface-hub==0.26.3) (2024.10.0)\n",
      "Requirement already satisfied: ipython>=6.1.0 in /root/rag-starter/.virt/lib/python3.10/site-packages (from ipywidgets==8.1.5) (8.30.0)\n",
      "Requirement already satisfied: comm>=0.1.3 in /root/rag-starter/.virt/lib/python3.10/site-packages (from ipywidgets==8.1.5) (0.2.2)\n",
      "Requirement already satisfied: traitlets>=4.3.1 in /root/rag-starter/.virt/lib/python3.10/site-packages (from ipywidgets==8.1.5) (5.14.3)\n",
      "Requirement already satisfied: jupyterlab-widgets~=3.0.12 in /root/rag-starter/.virt/lib/python3.10/site-packages (from ipywidgets==8.1.5) (3.0.13)\n",
      "Requirement already satisfied: widgetsnbextension~=4.0.12 in /root/rag-starter/.virt/lib/python3.10/site-packages (from ipywidgets==8.1.5) (4.0.13)\n",
      "Requirement already satisfied: jupyter-lsp>=2.0.0 in /root/rag-starter/.virt/lib/python3.10/site-packages (from jupyterlab==4.3.2) (2.2.5)\n",
      "Requirement already satisfied: httpx~=0.28.0 in /root/rag-starter/.virt/lib/python3.10/site-packages (from jupyterlab==4.3.2) (0.28.1)\n",
      "Requirement already satisfied: jupyter-server<3,>=2.4.0 in /root/rag-starter/.virt/lib/python3.10/site-packages (from jupyterlab==4.3.2) (2.14.2)\n",
      "Requirement already satisfied: tornado>=6.2.0 in /root/rag-starter/.virt/lib/python3.10/site-packages (from jupyterlab==4.3.2) (6.4.2)\n",
      "Requirement already satisfied: notebook-shim>=0.2 in /root/rag-starter/.virt/lib/python3.10/site-packages (from jupyterlab==4.3.2) (0.2.4)\n",
      "Requirement already satisfied: ipykernel>=6.5.0 in /root/rag-starter/.virt/lib/python3.10/site-packages (from jupyterlab==4.3.2) (6.29.5)\n",
      "Requirement already satisfied: jupyterlab-server<3,>=2.27.1 in /root/rag-starter/.virt/lib/python3.10/site-packages (from jupyterlab==4.3.2) (2.27.3)\n",
      "Requirement already satisfied: setuptools>=40.8.0 in /root/rag-starter/.virt/lib/python3.10/site-packages (from jupyterlab==4.3.2) (59.6.0)\n",
      "Requirement already satisfied: tomli>=1.2.2 in /root/rag-starter/.virt/lib/python3.10/site-packages (from jupyterlab==4.3.2) (2.2.1)\n",
      "Requirement already satisfied: jinja2>=3.0.3 in /root/rag-starter/.virt/lib/python3.10/site-packages (from jupyterlab==4.3.2) (3.1.4)\n",
      "Requirement already satisfied: jupyter-core in /root/rag-starter/.virt/lib/python3.10/site-packages (from jupyterlab==4.3.2) (5.7.2)\n",
      "Requirement already satisfied: async-lru>=1.0.0 in /root/rag-starter/.virt/lib/python3.10/site-packages (from jupyterlab==4.3.2) (2.0.4)\n",
      "Requirement already satisfied: langchain-core<0.4.0,>=0.3.21 in /root/rag-starter/.virt/lib/python3.10/site-packages (from langchain==0.3.9) (0.3.22)\n",
      "Requirement already satisfied: numpy<2,>=1.22.4 in /root/rag-starter/.virt/lib/python3.10/site-packages (from langchain==0.3.9) (1.26.4)\n",
      "Requirement already satisfied: pydantic<3.0.0,>=2.7.4 in /root/rag-starter/.virt/lib/python3.10/site-packages (from langchain==0.3.9) (2.10.2)\n",
      "Requirement already satisfied: async-timeout<5.0.0,>=4.0.0 in /root/rag-starter/.virt/lib/python3.10/site-packages (from langchain==0.3.9) (4.0.3)\n",
      "Requirement already satisfied: langchain-text-splitters<0.4.0,>=0.3.0 in /root/rag-starter/.virt/lib/python3.10/site-packages (from langchain==0.3.9) (0.3.2)\n",
      "Requirement already satisfied: SQLAlchemy<3,>=1.4 in /root/rag-starter/.virt/lib/python3.10/site-packages (from langchain==0.3.9) (2.0.36)\n",
      "Requirement already satisfied: tenacity!=8.4.0,<10,>=8.1.0 in /root/rag-starter/.virt/lib/python3.10/site-packages (from langchain==0.3.9) (8.5.0)\n",
      "Requirement already satisfied: aiohttp<4.0.0,>=3.8.3 in /root/rag-starter/.virt/lib/python3.10/site-packages (from langchain==0.3.9) (3.11.10)\n",
      "Requirement already satisfied: langsmith<0.2.0,>=0.1.17 in /root/rag-starter/.virt/lib/python3.10/site-packages (from langchain==0.3.9) (0.1.147)\n",
      "Requirement already satisfied: httpx-sse<0.5.0,>=0.4.0 in /root/rag-starter/.virt/lib/python3.10/site-packages (from langchain-community==0.3.9) (0.4.0)\n",
      "Requirement already satisfied: dataclasses-json<0.7,>=0.5.7 in /root/rag-starter/.virt/lib/python3.10/site-packages (from langchain-community==0.3.9) (0.6.7)\n",
      "Requirement already satisfied: pydantic-settings<3.0.0,>=2.4.0 in /root/rag-starter/.virt/lib/python3.10/site-packages (from langchain-community==0.3.9) (2.6.1)\n",
      "Requirement already satisfied: frozenlist>=1.1.1 in /root/rag-starter/.virt/lib/python3.10/site-packages (from aiohttp<4.0.0,>=3.8.3->langchain==0.3.9) (1.5.0)\n",
      "Requirement already satisfied: multidict<7.0,>=4.5 in /root/rag-starter/.virt/lib/python3.10/site-packages (from aiohttp<4.0.0,>=3.8.3->langchain==0.3.9) (6.1.0)\n",
      "Requirement already satisfied: aiosignal>=1.1.2 in /root/rag-starter/.virt/lib/python3.10/site-packages (from aiohttp<4.0.0,>=3.8.3->langchain==0.3.9) (1.3.1)\n",
      "Requirement already satisfied: yarl<2.0,>=1.17.0 in /root/rag-starter/.virt/lib/python3.10/site-packages (from aiohttp<4.0.0,>=3.8.3->langchain==0.3.9) (1.18.3)\n",
      "Requirement already satisfied: propcache>=0.2.0 in /root/rag-starter/.virt/lib/python3.10/site-packages (from aiohttp<4.0.0,>=3.8.3->langchain==0.3.9) (0.2.1)\n",
      "Requirement already satisfied: aiohappyeyeballs>=2.3.0 in /root/rag-starter/.virt/lib/python3.10/site-packages (from aiohttp<4.0.0,>=3.8.3->langchain==0.3.9) (2.4.4)\n",
      "Requirement already satisfied: attrs>=17.3.0 in /root/rag-starter/.virt/lib/python3.10/site-packages (from aiohttp<4.0.0,>=3.8.3->langchain==0.3.9) (24.2.0)\n",
      "Requirement already satisfied: typing-inspect<1,>=0.4.0 in /root/rag-starter/.virt/lib/python3.10/site-packages (from dataclasses-json<0.7,>=0.5.7->langchain-community==0.3.9) (0.9.0)\n",
      "Requirement already satisfied: marshmallow<4.0.0,>=3.18.0 in /root/rag-starter/.virt/lib/python3.10/site-packages (from dataclasses-json<0.7,>=0.5.7->langchain-community==0.3.9) (3.23.1)\n",
      "Requirement already satisfied: anyio in /root/rag-starter/.virt/lib/python3.10/site-packages (from httpx~=0.28.0->jupyterlab==4.3.2) (4.7.0)\n",
      "Requirement already satisfied: httpcore==1.* in /root/rag-starter/.virt/lib/python3.10/site-packages (from httpx~=0.28.0->jupyterlab==4.3.2) (1.0.7)\n",
      "Requirement already satisfied: idna in /root/rag-starter/.virt/lib/python3.10/site-packages (from httpx~=0.28.0->jupyterlab==4.3.2) (3.10)\n",
      "Requirement already satisfied: certifi in /root/rag-starter/.virt/lib/python3.10/site-packages (from httpx~=0.28.0->jupyterlab==4.3.2) (2024.8.30)\n",
      "Requirement already satisfied: h11<0.15,>=0.13 in /root/rag-starter/.virt/lib/python3.10/site-packages (from httpcore==1.*->httpx~=0.28.0->jupyterlab==4.3.2) (0.14.0)\n",
      "Requirement already satisfied: debugpy>=1.6.5 in /root/rag-starter/.virt/lib/python3.10/site-packages (from ipykernel>=6.5.0->jupyterlab==4.3.2) (1.8.9)\n",
      "Requirement already satisfied: matplotlib-inline>=0.1 in /root/rag-starter/.virt/lib/python3.10/site-packages (from ipykernel>=6.5.0->jupyterlab==4.3.2) (0.1.7)\n",
      "Requirement already satisfied: nest-asyncio in /root/rag-starter/.virt/lib/python3.10/site-packages (from ipykernel>=6.5.0->jupyterlab==4.3.2) (1.6.0)\n",
      "Requirement already satisfied: jupyter-client>=6.1.12 in /root/rag-starter/.virt/lib/python3.10/site-packages (from ipykernel>=6.5.0->jupyterlab==4.3.2) (8.6.3)\n",
      "Requirement already satisfied: pyzmq>=24 in /root/rag-starter/.virt/lib/python3.10/site-packages (from ipykernel>=6.5.0->jupyterlab==4.3.2) (26.2.0)\n",
      "Requirement already satisfied: psutil in /root/rag-starter/.virt/lib/python3.10/site-packages (from ipykernel>=6.5.0->jupyterlab==4.3.2) (6.1.0)\n",
      "Requirement already satisfied: pygments>=2.4.0 in /root/rag-starter/.virt/lib/python3.10/site-packages (from ipython>=6.1.0->ipywidgets==8.1.5) (2.18.0)\n",
      "Requirement already satisfied: jedi>=0.16 in /root/rag-starter/.virt/lib/python3.10/site-packages (from ipython>=6.1.0->ipywidgets==8.1.5) (0.19.2)\n",
      "Requirement already satisfied: exceptiongroup in /root/rag-starter/.virt/lib/python3.10/site-packages (from ipython>=6.1.0->ipywidgets==8.1.5) (1.2.2)\n",
      "Requirement already satisfied: decorator in /root/rag-starter/.virt/lib/python3.10/site-packages (from ipython>=6.1.0->ipywidgets==8.1.5) (5.1.1)\n",
      "Requirement already satisfied: stack_data in /root/rag-starter/.virt/lib/python3.10/site-packages (from ipython>=6.1.0->ipywidgets==8.1.5) (0.6.3)\n",
      "Requirement already satisfied: pexpect>4.3 in /root/rag-starter/.virt/lib/python3.10/site-packages (from ipython>=6.1.0->ipywidgets==8.1.5) (4.9.0)\n",
      "Requirement already satisfied: prompt_toolkit<3.1.0,>=3.0.41 in /root/rag-starter/.virt/lib/python3.10/site-packages (from ipython>=6.1.0->ipywidgets==8.1.5) (3.0.48)\n",
      "Requirement already satisfied: MarkupSafe>=2.0 in /root/rag-starter/.virt/lib/python3.10/site-packages (from jinja2>=3.0.3->jupyterlab==4.3.2) (2.1.5)\n",
      "Requirement already satisfied: platformdirs>=2.5 in /root/rag-starter/.virt/lib/python3.10/site-packages (from jupyter-core->jupyterlab==4.3.2) (4.3.6)\n",
      "Requirement already satisfied: terminado>=0.8.3 in /root/rag-starter/.virt/lib/python3.10/site-packages (from jupyter-server<3,>=2.4.0->jupyterlab==4.3.2) (0.18.1)\n",
      "Requirement already satisfied: websocket-client>=1.7 in /root/rag-starter/.virt/lib/python3.10/site-packages (from jupyter-server<3,>=2.4.0->jupyterlab==4.3.2) (1.8.0)\n",
      "Requirement already satisfied: jupyter-events>=0.9.0 in /root/rag-starter/.virt/lib/python3.10/site-packages (from jupyter-server<3,>=2.4.0->jupyterlab==4.3.2) (0.10.0)\n",
      "Requirement already satisfied: send2trash>=1.8.2 in /root/rag-starter/.virt/lib/python3.10/site-packages (from jupyter-server<3,>=2.4.0->jupyterlab==4.3.2) (1.8.3)\n",
      "Requirement already satisfied: argon2-cffi>=21.1 in /root/rag-starter/.virt/lib/python3.10/site-packages (from jupyter-server<3,>=2.4.0->jupyterlab==4.3.2) (23.1.0)\n",
      "Requirement already satisfied: nbconvert>=6.4.4 in /root/rag-starter/.virt/lib/python3.10/site-packages (from jupyter-server<3,>=2.4.0->jupyterlab==4.3.2) (7.16.4)\n",
      "Requirement already satisfied: jupyter-server-terminals>=0.4.4 in /root/rag-starter/.virt/lib/python3.10/site-packages (from jupyter-server<3,>=2.4.0->jupyterlab==4.3.2) (0.5.3)\n",
      "Requirement already satisfied: nbformat>=5.3.0 in /root/rag-starter/.virt/lib/python3.10/site-packages (from jupyter-server<3,>=2.4.0->jupyterlab==4.3.2) (5.10.4)\n",
      "Requirement already satisfied: overrides>=5.0 in /root/rag-starter/.virt/lib/python3.10/site-packages (from jupyter-server<3,>=2.4.0->jupyterlab==4.3.2) (7.7.0)\n",
      "Requirement already satisfied: prometheus-client>=0.9 in /root/rag-starter/.virt/lib/python3.10/site-packages (from jupyter-server<3,>=2.4.0->jupyterlab==4.3.2) (0.21.1)\n",
      "Requirement already satisfied: jsonschema>=4.18.0 in /root/rag-starter/.virt/lib/python3.10/site-packages (from jupyterlab-server<3,>=2.27.1->jupyterlab==4.3.2) (4.23.0)\n",
      "Requirement already satisfied: json5>=0.9.0 in /root/rag-starter/.virt/lib/python3.10/site-packages (from jupyterlab-server<3,>=2.27.1->jupyterlab==4.3.2) (0.10.0)\n",
      "Requirement already satisfied: babel>=2.10 in /root/rag-starter/.virt/lib/python3.10/site-packages (from jupyterlab-server<3,>=2.27.1->jupyterlab==4.3.2) (2.16.0)\n",
      "Requirement already satisfied: jsonpatch<2.0,>=1.33 in /root/rag-starter/.virt/lib/python3.10/site-packages (from langchain-core<0.4.0,>=0.3.21->langchain==0.3.9) (1.33)\n",
      "Requirement already satisfied: requests-toolbelt<2.0.0,>=1.0.0 in /root/rag-starter/.virt/lib/python3.10/site-packages (from langsmith<0.2.0,>=0.1.17->langchain==0.3.9) (1.0.0)\n",
      "Requirement already satisfied: orjson<4.0.0,>=3.9.14 in /root/rag-starter/.virt/lib/python3.10/site-packages (from langsmith<0.2.0,>=0.1.17->langchain==0.3.9) (3.10.12)\n",
      "Requirement already satisfied: pydantic-core==2.27.1 in /root/rag-starter/.virt/lib/python3.10/site-packages (from pydantic<3.0.0,>=2.7.4->langchain==0.3.9) (2.27.1)\n",
      "Requirement already satisfied: annotated-types>=0.6.0 in /root/rag-starter/.virt/lib/python3.10/site-packages (from pydantic<3.0.0,>=2.7.4->langchain==0.3.9) (0.7.0)\n",
      "Requirement already satisfied: python-dotenv>=0.21.0 in /root/rag-starter/.virt/lib/python3.10/site-packages (from pydantic-settings<3.0.0,>=2.4.0->langchain-community==0.3.9) (1.0.0)\n",
      "Requirement already satisfied: urllib3<3,>=1.21.1 in /root/rag-starter/.virt/lib/python3.10/site-packages (from requests->huggingface-hub==0.26.3) (2.2.3)\n",
      "Requirement already satisfied: charset-normalizer<4,>=2 in /root/rag-starter/.virt/lib/python3.10/site-packages (from requests->huggingface-hub==0.26.3) (3.4.0)\n",
      "Requirement already satisfied: greenlet!=0.4.17 in /root/rag-starter/.virt/lib/python3.10/site-packages (from SQLAlchemy<3,>=1.4->langchain==0.3.9) (3.1.1)\n",
      "Requirement already satisfied: sniffio>=1.1 in /root/rag-starter/.virt/lib/python3.10/site-packages (from anyio->httpx~=0.28.0->jupyterlab==4.3.2) (1.3.1)\n",
      "Requirement already satisfied: argon2-cffi-bindings in /root/rag-starter/.virt/lib/python3.10/site-packages (from argon2-cffi>=21.1->jupyter-server<3,>=2.4.0->jupyterlab==4.3.2) (21.2.0)\n",
      "Requirement already satisfied: parso<0.9.0,>=0.8.4 in /root/rag-starter/.virt/lib/python3.10/site-packages (from jedi>=0.16->ipython>=6.1.0->ipywidgets==8.1.5) (0.8.4)\n",
      "Requirement already satisfied: jsonpointer>=1.9 in /root/rag-starter/.virt/lib/python3.10/site-packages (from jsonpatch<2.0,>=1.33->langchain-core<0.4.0,>=0.3.21->langchain==0.3.9) (3.0.0)\n",
      "Requirement already satisfied: jsonschema-specifications>=2023.03.6 in /root/rag-starter/.virt/lib/python3.10/site-packages (from jsonschema>=4.18.0->jupyterlab-server<3,>=2.27.1->jupyterlab==4.3.2) (2024.10.1)\n",
      "Requirement already satisfied: referencing>=0.28.4 in /root/rag-starter/.virt/lib/python3.10/site-packages (from jsonschema>=4.18.0->jupyterlab-server<3,>=2.27.1->jupyterlab==4.3.2) (0.35.1)\n",
      "Requirement already satisfied: rpds-py>=0.7.1 in /root/rag-starter/.virt/lib/python3.10/site-packages (from jsonschema>=4.18.0->jupyterlab-server<3,>=2.27.1->jupyterlab==4.3.2) (0.22.3)\n",
      "Requirement already satisfied: python-dateutil>=2.8.2 in /root/rag-starter/.virt/lib/python3.10/site-packages (from jupyter-client>=6.1.12->ipykernel>=6.5.0->jupyterlab==4.3.2) (2.9.0.post0)\n",
      "Requirement already satisfied: python-json-logger>=2.0.4 in /root/rag-starter/.virt/lib/python3.10/site-packages (from jupyter-events>=0.9.0->jupyter-server<3,>=2.4.0->jupyterlab==4.3.2) (2.0.7)\n",
      "Requirement already satisfied: rfc3339-validator in /root/rag-starter/.virt/lib/python3.10/site-packages (from jupyter-events>=0.9.0->jupyter-server<3,>=2.4.0->jupyterlab==4.3.2) (0.1.4)\n",
      "Requirement already satisfied: rfc3986-validator>=0.1.1 in /root/rag-starter/.virt/lib/python3.10/site-packages (from jupyter-events>=0.9.0->jupyter-server<3,>=2.4.0->jupyterlab==4.3.2) (0.1.1)\n",
      "Requirement already satisfied: jupyterlab-pygments in /root/rag-starter/.virt/lib/python3.10/site-packages (from nbconvert>=6.4.4->jupyter-server<3,>=2.4.0->jupyterlab==4.3.2) (0.3.0)\n",
      "Requirement already satisfied: mistune<4,>=2.0.3 in /root/rag-starter/.virt/lib/python3.10/site-packages (from nbconvert>=6.4.4->jupyter-server<3,>=2.4.0->jupyterlab==4.3.2) (3.0.2)\n",
      "Requirement already satisfied: nbclient>=0.5.0 in /root/rag-starter/.virt/lib/python3.10/site-packages (from nbconvert>=6.4.4->jupyter-server<3,>=2.4.0->jupyterlab==4.3.2) (0.10.1)\n",
      "Requirement already satisfied: beautifulsoup4 in /root/rag-starter/.virt/lib/python3.10/site-packages (from nbconvert>=6.4.4->jupyter-server<3,>=2.4.0->jupyterlab==4.3.2) (4.12.3)\n",
      "Requirement already satisfied: defusedxml in /root/rag-starter/.virt/lib/python3.10/site-packages (from nbconvert>=6.4.4->jupyter-server<3,>=2.4.0->jupyterlab==4.3.2) (0.7.1)\n",
      "Requirement already satisfied: tinycss2 in /root/rag-starter/.virt/lib/python3.10/site-packages (from nbconvert>=6.4.4->jupyter-server<3,>=2.4.0->jupyterlab==4.3.2) (1.4.0)\n",
      "Requirement already satisfied: bleach!=5.0.0 in /root/rag-starter/.virt/lib/python3.10/site-packages (from nbconvert>=6.4.4->jupyter-server<3,>=2.4.0->jupyterlab==4.3.2) (6.2.0)\n",
      "Requirement already satisfied: pandocfilters>=1.4.1 in /root/rag-starter/.virt/lib/python3.10/site-packages (from nbconvert>=6.4.4->jupyter-server<3,>=2.4.0->jupyterlab==4.3.2) (1.5.1)\n",
      "Requirement already satisfied: fastjsonschema>=2.15 in /root/rag-starter/.virt/lib/python3.10/site-packages (from nbformat>=5.3.0->jupyter-server<3,>=2.4.0->jupyterlab==4.3.2) (2.21.1)\n",
      "Requirement already satisfied: ptyprocess>=0.5 in /root/rag-starter/.virt/lib/python3.10/site-packages (from pexpect>4.3->ipython>=6.1.0->ipywidgets==8.1.5) (0.7.0)\n",
      "Requirement already satisfied: wcwidth in /root/rag-starter/.virt/lib/python3.10/site-packages (from prompt_toolkit<3.1.0,>=3.0.41->ipython>=6.1.0->ipywidgets==8.1.5) (0.2.13)\n",
      "Requirement already satisfied: mypy-extensions>=0.3.0 in /root/rag-starter/.virt/lib/python3.10/site-packages (from typing-inspect<1,>=0.4.0->dataclasses-json<0.7,>=0.5.7->langchain-community==0.3.9) (1.0.0)\n",
      "Requirement already satisfied: pure-eval in /root/rag-starter/.virt/lib/python3.10/site-packages (from stack_data->ipython>=6.1.0->ipywidgets==8.1.5) (0.2.3)\n",
      "Requirement already satisfied: executing>=1.2.0 in /root/rag-starter/.virt/lib/python3.10/site-packages (from stack_data->ipython>=6.1.0->ipywidgets==8.1.5) (2.1.0)\n",
      "Requirement already satisfied: asttokens>=2.1.0 in /root/rag-starter/.virt/lib/python3.10/site-packages (from stack_data->ipython>=6.1.0->ipywidgets==8.1.5) (3.0.0)\n",
      "Requirement already satisfied: webencodings in /root/rag-starter/.virt/lib/python3.10/site-packages (from bleach!=5.0.0->nbconvert>=6.4.4->jupyter-server<3,>=2.4.0->jupyterlab==4.3.2) (0.5.1)\n",
      "Requirement already satisfied: fqdn in /root/rag-starter/.virt/lib/python3.10/site-packages (from jsonschema>=4.18.0->jupyterlab-server<3,>=2.27.1->jupyterlab==4.3.2) (1.5.1)\n",
      "Requirement already satisfied: isoduration in /root/rag-starter/.virt/lib/python3.10/site-packages (from jsonschema>=4.18.0->jupyterlab-server<3,>=2.27.1->jupyterlab==4.3.2) (20.11.0)\n",
      "Requirement already satisfied: uri-template in /root/rag-starter/.virt/lib/python3.10/site-packages (from jsonschema>=4.18.0->jupyterlab-server<3,>=2.27.1->jupyterlab==4.3.2) (1.3.0)\n",
      "Requirement already satisfied: webcolors>=24.6.0 in /root/rag-starter/.virt/lib/python3.10/site-packages (from jsonschema>=4.18.0->jupyterlab-server<3,>=2.27.1->jupyterlab==4.3.2) (24.11.1)\n",
      "Requirement already satisfied: six>=1.5 in /root/rag-starter/.virt/lib/python3.10/site-packages (from python-dateutil>=2.8.2->jupyter-client>=6.1.12->ipykernel>=6.5.0->jupyterlab==4.3.2) (1.17.0)\n",
      "Requirement already satisfied: cffi>=1.0.1 in /root/rag-starter/.virt/lib/python3.10/site-packages (from argon2-cffi-bindings->argon2-cffi>=21.1->jupyter-server<3,>=2.4.0->jupyterlab==4.3.2) (1.17.1)\n",
      "Requirement already satisfied: soupsieve>1.2 in /root/rag-starter/.virt/lib/python3.10/site-packages (from beautifulsoup4->nbconvert>=6.4.4->jupyter-server<3,>=2.4.0->jupyterlab==4.3.2) (2.6)\n",
      "Requirement already satisfied: pycparser in /root/rag-starter/.virt/lib/python3.10/site-packages (from cffi>=1.0.1->argon2-cffi-bindings->argon2-cffi>=21.1->jupyter-server<3,>=2.4.0->jupyterlab==4.3.2) (2.22)\n",
      "Requirement already satisfied: arrow>=0.15.0 in /root/rag-starter/.virt/lib/python3.10/site-packages (from isoduration->jsonschema>=4.18.0->jupyterlab-server<3,>=2.27.1->jupyterlab==4.3.2) (1.3.0)\n",
      "Requirement already satisfied: types-python-dateutil>=2.8.10 in /root/rag-starter/.virt/lib/python3.10/site-packages (from arrow>=0.15.0->isoduration->jsonschema>=4.18.0->jupyterlab-server<3,>=2.27.1->jupyterlab==4.3.2) (2.9.0.20241206)\n",
      "Note: you may need to restart the kernel to use updated packages.\n"
     ]
    }
   ],
   "source": [
    "pip install faiss-gpu==1.7.2 huggingface-hub==0.26.3 ipywidgets==8.1.5 jupyterlab==4.3.2 langchain==0.3.9 langchain-community==0.3.9"
   ]
  },
  {
   "cell_type": "code",
   "execution_count": 3,
   "metadata": {
    "collapsed": true,
    "jupyter": {
     "outputs_hidden": true
    },
    "scrolled": true
   },
   "outputs": [
    {
     "name": "stdout",
     "output_type": "stream",
     "text": [
      "Requirement already satisfied: langchain-huggingface==0.1.2 in /root/rag-starter/.virt/lib/python3.10/site-packages (0.1.2)\n",
      "Requirement already satisfied: numpy==1.26.4 in /root/rag-starter/.virt/lib/python3.10/site-packages (1.26.4)\n",
      "Requirement already satisfied: pydantic==2.10.2 in /root/rag-starter/.virt/lib/python3.10/site-packages (2.10.2)\n",
      "Requirement already satisfied: sentence-transformers==3.3.1 in /root/rag-starter/.virt/lib/python3.10/site-packages (3.3.1)\n",
      "Requirement already satisfied: torch==2.5.1 in /root/rag-starter/.virt/lib/python3.10/site-packages (2.5.1)\n",
      "Requirement already satisfied: transformers==4.47.0 in /root/rag-starter/.virt/lib/python3.10/site-packages (4.47.0)\n",
      "Requirement already satisfied: tokenizers>=0.19.1 in /root/rag-starter/.virt/lib/python3.10/site-packages (from langchain-huggingface==0.1.2) (0.21.0)\n",
      "Requirement already satisfied: huggingface-hub>=0.23.0 in /root/rag-starter/.virt/lib/python3.10/site-packages (from langchain-huggingface==0.1.2) (0.26.3)\n",
      "Requirement already satisfied: langchain-core<0.4.0,>=0.3.15 in /root/rag-starter/.virt/lib/python3.10/site-packages (from langchain-huggingface==0.1.2) (0.3.22)\n",
      "Requirement already satisfied: pydantic-core==2.27.1 in /root/rag-starter/.virt/lib/python3.10/site-packages (from pydantic==2.10.2) (2.27.1)\n",
      "Requirement already satisfied: annotated-types>=0.6.0 in /root/rag-starter/.virt/lib/python3.10/site-packages (from pydantic==2.10.2) (0.7.0)\n",
      "Requirement already satisfied: typing-extensions>=4.12.2 in /root/rag-starter/.virt/lib/python3.10/site-packages (from pydantic==2.10.2) (4.12.2)\n",
      "Requirement already satisfied: scikit-learn in /root/rag-starter/.virt/lib/python3.10/site-packages (from sentence-transformers==3.3.1) (1.5.2)\n",
      "Requirement already satisfied: scipy in /root/rag-starter/.virt/lib/python3.10/site-packages (from sentence-transformers==3.3.1) (1.14.1)\n",
      "Requirement already satisfied: Pillow in /root/rag-starter/.virt/lib/python3.10/site-packages (from sentence-transformers==3.3.1) (10.4.0)\n",
      "Requirement already satisfied: tqdm in /root/rag-starter/.virt/lib/python3.10/site-packages (from sentence-transformers==3.3.1) (4.67.1)\n",
      "Requirement already satisfied: nvidia-cuda-cupti-cu12==12.4.127 in /root/rag-starter/.virt/lib/python3.10/site-packages (from torch==2.5.1) (12.4.127)\n",
      "Requirement already satisfied: nvidia-cufft-cu12==11.2.1.3 in /root/rag-starter/.virt/lib/python3.10/site-packages (from torch==2.5.1) (11.2.1.3)\n",
      "Requirement already satisfied: nvidia-cusolver-cu12==11.6.1.9 in /root/rag-starter/.virt/lib/python3.10/site-packages (from torch==2.5.1) (11.6.1.9)\n",
      "Requirement already satisfied: nvidia-cudnn-cu12==9.1.0.70 in /root/rag-starter/.virt/lib/python3.10/site-packages (from torch==2.5.1) (9.1.0.70)\n",
      "Requirement already satisfied: networkx in /root/rag-starter/.virt/lib/python3.10/site-packages (from torch==2.5.1) (3.4.2)\n",
      "Requirement already satisfied: nvidia-nvtx-cu12==12.4.127 in /root/rag-starter/.virt/lib/python3.10/site-packages (from torch==2.5.1) (12.4.127)\n",
      "Requirement already satisfied: nvidia-curand-cu12==10.3.5.147 in /root/rag-starter/.virt/lib/python3.10/site-packages (from torch==2.5.1) (10.3.5.147)\n",
      "Requirement already satisfied: nvidia-nvjitlink-cu12==12.4.127 in /root/rag-starter/.virt/lib/python3.10/site-packages (from torch==2.5.1) (12.4.127)\n",
      "Requirement already satisfied: nvidia-cuda-nvrtc-cu12==12.4.127 in /root/rag-starter/.virt/lib/python3.10/site-packages (from torch==2.5.1) (12.4.127)\n",
      "Requirement already satisfied: nvidia-cusparse-cu12==12.3.1.170 in /root/rag-starter/.virt/lib/python3.10/site-packages (from torch==2.5.1) (12.3.1.170)\n",
      "Requirement already satisfied: fsspec in /root/rag-starter/.virt/lib/python3.10/site-packages (from torch==2.5.1) (2024.10.0)\n",
      "Requirement already satisfied: nvidia-nccl-cu12==2.21.5 in /root/rag-starter/.virt/lib/python3.10/site-packages (from torch==2.5.1) (2.21.5)\n",
      "Requirement already satisfied: filelock in /root/rag-starter/.virt/lib/python3.10/site-packages (from torch==2.5.1) (3.16.1)\n",
      "Requirement already satisfied: sympy==1.13.1 in /root/rag-starter/.virt/lib/python3.10/site-packages (from torch==2.5.1) (1.13.1)\n",
      "Requirement already satisfied: triton==3.1.0 in /root/rag-starter/.virt/lib/python3.10/site-packages (from torch==2.5.1) (3.1.0)\n",
      "Requirement already satisfied: jinja2 in /root/rag-starter/.virt/lib/python3.10/site-packages (from torch==2.5.1) (3.1.4)\n",
      "Requirement already satisfied: nvidia-cuda-runtime-cu12==12.4.127 in /root/rag-starter/.virt/lib/python3.10/site-packages (from torch==2.5.1) (12.4.127)\n",
      "Requirement already satisfied: nvidia-cublas-cu12==12.4.5.8 in /root/rag-starter/.virt/lib/python3.10/site-packages (from torch==2.5.1) (12.4.5.8)\n",
      "Requirement already satisfied: requests in /root/rag-starter/.virt/lib/python3.10/site-packages (from transformers==4.47.0) (2.32.3)\n",
      "Requirement already satisfied: packaging>=20.0 in /root/rag-starter/.virt/lib/python3.10/site-packages (from transformers==4.47.0) (23.2)\n",
      "Requirement already satisfied: safetensors>=0.4.1 in /root/rag-starter/.virt/lib/python3.10/site-packages (from transformers==4.47.0) (0.4.5)\n",
      "Requirement already satisfied: regex!=2019.12.17 in /root/rag-starter/.virt/lib/python3.10/site-packages (from transformers==4.47.0) (2024.11.6)\n",
      "Requirement already satisfied: pyyaml>=5.1 in /root/rag-starter/.virt/lib/python3.10/site-packages (from transformers==4.47.0) (6.0.2)\n",
      "Requirement already satisfied: mpmath<1.4,>=1.1.0 in /root/rag-starter/.virt/lib/python3.10/site-packages (from sympy==1.13.1->torch==2.5.1) (1.3.0)\n",
      "Requirement already satisfied: tenacity!=8.4.0,<10.0.0,>=8.1.0 in /root/rag-starter/.virt/lib/python3.10/site-packages (from langchain-core<0.4.0,>=0.3.15->langchain-huggingface==0.1.2) (8.5.0)\n",
      "Requirement already satisfied: jsonpatch<2.0,>=1.33 in /root/rag-starter/.virt/lib/python3.10/site-packages (from langchain-core<0.4.0,>=0.3.15->langchain-huggingface==0.1.2) (1.33)\n",
      "Requirement already satisfied: langsmith<0.2.0,>=0.1.125 in /root/rag-starter/.virt/lib/python3.10/site-packages (from langchain-core<0.4.0,>=0.3.15->langchain-huggingface==0.1.2) (0.1.147)\n",
      "Requirement already satisfied: MarkupSafe>=2.0 in /root/rag-starter/.virt/lib/python3.10/site-packages (from jinja2->torch==2.5.1) (2.1.5)\n",
      "Requirement already satisfied: urllib3<3,>=1.21.1 in /root/rag-starter/.virt/lib/python3.10/site-packages (from requests->transformers==4.47.0) (2.2.3)\n",
      "Requirement already satisfied: charset-normalizer<4,>=2 in /root/rag-starter/.virt/lib/python3.10/site-packages (from requests->transformers==4.47.0) (3.4.0)\n",
      "Requirement already satisfied: certifi>=2017.4.17 in /root/rag-starter/.virt/lib/python3.10/site-packages (from requests->transformers==4.47.0) (2024.8.30)\n",
      "Requirement already satisfied: idna<4,>=2.5 in /root/rag-starter/.virt/lib/python3.10/site-packages (from requests->transformers==4.47.0) (3.10)\n",
      "Requirement already satisfied: joblib>=1.2.0 in /root/rag-starter/.virt/lib/python3.10/site-packages (from scikit-learn->sentence-transformers==3.3.1) (1.4.2)\n",
      "Requirement already satisfied: threadpoolctl>=3.1.0 in /root/rag-starter/.virt/lib/python3.10/site-packages (from scikit-learn->sentence-transformers==3.3.1) (3.5.0)\n",
      "Requirement already satisfied: jsonpointer>=1.9 in /root/rag-starter/.virt/lib/python3.10/site-packages (from jsonpatch<2.0,>=1.33->langchain-core<0.4.0,>=0.3.15->langchain-huggingface==0.1.2) (3.0.0)\n",
      "Requirement already satisfied: orjson<4.0.0,>=3.9.14 in /root/rag-starter/.virt/lib/python3.10/site-packages (from langsmith<0.2.0,>=0.1.125->langchain-core<0.4.0,>=0.3.15->langchain-huggingface==0.1.2) (3.10.12)\n",
      "Requirement already satisfied: httpx<1,>=0.23.0 in /root/rag-starter/.virt/lib/python3.10/site-packages (from langsmith<0.2.0,>=0.1.125->langchain-core<0.4.0,>=0.3.15->langchain-huggingface==0.1.2) (0.28.1)\n",
      "Requirement already satisfied: requests-toolbelt<2.0.0,>=1.0.0 in /root/rag-starter/.virt/lib/python3.10/site-packages (from langsmith<0.2.0,>=0.1.125->langchain-core<0.4.0,>=0.3.15->langchain-huggingface==0.1.2) (1.0.0)\n",
      "Requirement already satisfied: anyio in /root/rag-starter/.virt/lib/python3.10/site-packages (from httpx<1,>=0.23.0->langsmith<0.2.0,>=0.1.125->langchain-core<0.4.0,>=0.3.15->langchain-huggingface==0.1.2) (4.7.0)\n",
      "Requirement already satisfied: httpcore==1.* in /root/rag-starter/.virt/lib/python3.10/site-packages (from httpx<1,>=0.23.0->langsmith<0.2.0,>=0.1.125->langchain-core<0.4.0,>=0.3.15->langchain-huggingface==0.1.2) (1.0.7)\n",
      "Requirement already satisfied: h11<0.15,>=0.13 in /root/rag-starter/.virt/lib/python3.10/site-packages (from httpcore==1.*->httpx<1,>=0.23.0->langsmith<0.2.0,>=0.1.125->langchain-core<0.4.0,>=0.3.15->langchain-huggingface==0.1.2) (0.14.0)\n",
      "Requirement already satisfied: exceptiongroup>=1.0.2 in /root/rag-starter/.virt/lib/python3.10/site-packages (from anyio->httpx<1,>=0.23.0->langsmith<0.2.0,>=0.1.125->langchain-core<0.4.0,>=0.3.15->langchain-huggingface==0.1.2) (1.2.2)\n",
      "Requirement already satisfied: sniffio>=1.1 in /root/rag-starter/.virt/lib/python3.10/site-packages (from anyio->httpx<1,>=0.23.0->langsmith<0.2.0,>=0.1.125->langchain-core<0.4.0,>=0.3.15->langchain-huggingface==0.1.2) (1.3.1)\n",
      "Note: you may need to restart the kernel to use updated packages.\n"
     ]
    }
   ],
   "source": [
    "pip install langchain-huggingface==0.1.2 numpy==1.26.4 pydantic==2.10.2 sentence-transformers==3.3.1 torch==2.5.1 transformers==4.47.0"
   ]
  },
  {
   "cell_type": "code",
   "execution_count": 4,
   "metadata": {},
   "outputs": [],
   "source": [
    "import torch\n",
    "from langchain.chains import create_retrieval_chain\n",
    "from langchain.chains.combine_documents import create_stuff_documents_chain\n",
    "from langchain.text_splitter import RecursiveCharacterTextSplitter\n",
    "from langchain_community.document_loaders.csv_loader import CSVLoader\n",
    "from langchain_community.vectorstores import FAISS\n",
    "from langchain_core.prompts import ChatPromptTemplate\n",
    "from langchain_huggingface import HuggingFaceEmbeddings, HuggingFacePipeline\n",
    "from transformers import AutoModelForCausalLM, AutoTokenizer, pipeline"
   ]
  },
  {
   "cell_type": "code",
   "execution_count": 5,
   "metadata": {
    "collapsed": true,
    "jupyter": {
     "outputs_hidden": true
    }
   },
   "outputs": [
    {
     "name": "stdout",
     "output_type": "stream",
     "text": [
      "Requirement already satisfied: flask in /root/rag-starter/.virt/lib/python3.10/site-packages (3.1.0)\n",
      "Requirement already satisfied: flask-cors in /root/rag-starter/.virt/lib/python3.10/site-packages (5.0.0)\n",
      "Requirement already satisfied: Werkzeug>=3.1 in /root/rag-starter/.virt/lib/python3.10/site-packages (from flask) (3.1.3)\n",
      "Requirement already satisfied: Jinja2>=3.1.2 in /root/rag-starter/.virt/lib/python3.10/site-packages (from flask) (3.1.4)\n",
      "Requirement already satisfied: itsdangerous>=2.2 in /root/rag-starter/.virt/lib/python3.10/site-packages (from flask) (2.2.0)\n",
      "Requirement already satisfied: blinker>=1.9 in /root/rag-starter/.virt/lib/python3.10/site-packages (from flask) (1.9.0)\n",
      "Requirement already satisfied: click>=8.1.3 in /root/rag-starter/.virt/lib/python3.10/site-packages (from flask) (8.1.7)\n",
      "Requirement already satisfied: MarkupSafe>=2.0 in /root/rag-starter/.virt/lib/python3.10/site-packages (from Jinja2>=3.1.2->flask) (2.1.5)\n",
      "Note: you may need to restart the kernel to use updated packages.\n"
     ]
    }
   ],
   "source": [
    "pip install flask flask-cors"
   ]
  },
  {
   "cell_type": "markdown",
   "metadata": {
    "jupyter": {
     "source_hidden": true
    }
   },
   "source": [
    "## Vector Store үүсгэх\n",
    "\n",
    "RAG системийн үндсэн хоёр хэсгийн нэг, заавал бэлдсэн байх ёстой зүйл бол өгөгдлөө embedding буюу тоон хэлбэрт шилжүүлж, vector store-д хадгалсан байх юм.\n",
    "\n",
    "![](https://miro.medium.com/v2/resize:fit:1100/format:webp/1*vAvDBIbr8MnL_Q51mBtBhw.png)"
   ]
  },
  {
   "cell_type": "markdown",
   "metadata": {},
   "source": [
    "### Өгөгдөл унших\n",
    "\n",
    "`data` хавтсанд байрлах `csv` файлыг уншиж LangChain [Document](https://python.langchain.com/api_reference/core/documents/langchain_core.documents.base.Document.html)-н жагсаалт болгоно.\n",
    "\n",
    "- `khas_bank_news.csv`\n",
    "- `khas_bank_pages.csv`\n",
    "- `khas_bank_products.csv`"
   ]
  },
  {
   "cell_type": "code",
   "execution_count": 6,
   "metadata": {
    "collapsed": true,
    "jupyter": {
     "outputs_hidden": true,
     "source_hidden": true
    }
   },
   "outputs": [
    {
     "name": "stdout",
     "output_type": "stream",
     "text": [
      "664 71 50\n",
      "Нийт хуудасны тоо: 785\n",
      "page_content='content: ХасБанк 2024 оны III улиралд 43.4 тэрбум төгрөгийн татварын дараах цэвэр ашигтай ажиллалааХасБанк 2024 оны III улиралд 43.4 тэрбум төгрөгийн (өмнөх улирлаас +0.4%) татварын дараах цэвэр ашигтай ажиллалаа. Ингэснээр жилийн өссөн дүнгээр татварын дараах цэвэр ашиг 128.7 тэрбум төгрөгт (өмнөх жилийн мөн үеэс +26.7%) хүрч, өөрийн хөрөнгийн өгөөж (annualized ROE) 26.2%,нэгж хувьцаанд ногдох цэвэр ашиг (EPS) 122.3 төгрөгтхүрлээ2024 оны III улирлын санхүүгийн үзүүлэлтээс онцолбол:Зээл ба санхүүгийн түрээсийн багц 3,609 тэрбум төгрөгт хүрч, өмнөх улирлаас 8.6%, оны эхнээс 31.2% өссөн нь III улирлын цэвэр хүүгийн орлогыг өмнөх улирлаас 9.0% өсөхөд нөлөөлсөн байна.Активын чанарын үзүүлэлт тогтвортой сайн хэвээр байгаа бөгөөд нийт зээл болон санхүүгийн түрээсийн багцад эзлэх чанаргүй зээлийг 2.2%-д удирдан ажиллаж байна.Харилцах, хадгаламжийн эх үүсвэр өмнөх улирлаас 0.1%-аар, оны эхнээс 11.3%-аар өсөж, 3,202 тэрбум төгрөгт хүрлээ.2024 оны эхний хагас жилийн цэвэр ашгаас нэгж хувьцаанд 18 төгрөг буюу нийт 18.9 тэрбум төгрөгийн ногдол ашиг хувьцаа эзэмшигчдэд хуваарилсан бөгөөд IPO хийснээс хойш нийт 61.0 тэрбум төгрөгийг ногдол ашиг болгон олгоод байна.Тайлант хугацаанд ХасБанк Банкны тухай хуулиар болон Монголбанкнаас тогтоосон зохистой харьцааны шалгуур үзүүлэлтүүдийг бүрэн хангаж ажиллалаа. Үүнд:Нэгдүгээр зэрэглэлийн өөрийн хөрөнгө болон эрсдэлээр жигнэсэн активын зохистой харьцаа 18.2%(байвал зохих хэмжээ 12.5%). Ийнхүү давуулан биелүүлсэн нөөц өөрийн хөрөнгө нь аливаа болзошгүй эрсдэлийг даахаас гадна ирээдүйд активын тэлэлт хийх, ногдол ашиг тараах боломжийг бий болгодог.Төлбөр түргэн гүйцэтгэх чадварын харьцаа 34.5%(байвал зохих хэмжээ 25.0%) буюу ХасБанк бусдаас татан төвлөрүүлсэн нийт эх үүсвэрийнхээ 34.5% болох 1,682 тэрбум төгрөгийг бэлэн мөнгө болон түргэн борлогдох активт байршуулан удирдаж байна.ХасБанкны 2024 оны III улирлын санхүүгийн байдал болон орлого үр дүнгийн тайлантайЭНДдарж танилцана уу.' metadata={'source': 'https://www.xacbank.mn/article/financial-report-2024q3', 'row': 1, 'title': 'ХасБанк 2024 оны III улиралд 43.4 тэрбум төгрөгийн татварын дараах цэвэр ашигтай ажиллалаа', 'date': '2024.10.14', 'link': 'https://www.xacbank.mn/article/financial-report-2024q3'}\n"
     ]
    }
   ],
   "source": [
    "DATA_DIR = \"../../data/\"\n",
    "loader = CSVLoader(file_path=f\"{DATA_DIR}khas_bank_news.csv\",\n",
    "                   source_column=\"link\",\n",
    "                   metadata_columns=[\"title\", \"date\", \"link\"],\n",
    "                   content_columns=[\"content\"],\n",
    "                   csv_args={\n",
    "                       \"fieldnames\": [\"title\", \"link\", \"date\", \"content\"],\n",
    "                       }\n",
    "                   )\n",
    "news_data = loader.load()[1:]\n",
    "\n",
    "loader = CSVLoader(file_path=f\"{DATA_DIR}khas_bank_products.csv\",\n",
    "                   source_column=\"link\",\n",
    "                   metadata_columns=[\"id\", \"side_menu_text\", \"link\"],\n",
    "                   content_columns=[\"content\"],\n",
    "                   csv_args={\n",
    "                       \"fieldnames\": [\"id\", \"content\", \"side_menu_text\", \"link\"],\n",
    "                       }\n",
    "                   )\n",
    "product_data = loader.load()[1:]\n",
    "\n",
    "loader = CSVLoader(file_path=f\"{DATA_DIR}khas_bank_pages.csv\",\n",
    "                   source_column=\"link\",\n",
    "                   metadata_columns=[\"title\", \"link\"],\n",
    "                   content_columns=[\"content\"],\n",
    "                   csv_args={\n",
    "                       \"fieldnames\": [\"title\", \"content\", \"link\"],\n",
    "                       }\n",
    "                   )\n",
    "pages_data = loader.load()[1:]\n",
    "\n",
    "all_data = news_data + product_data + pages_data\n",
    "print(len(news_data), len(product_data), len(pages_data))\n",
    "print(f\"Нийт хуудасны тоо: {len(all_data)}\")\n",
    "print(all_data[0])"
   ]
  },
  {
   "cell_type": "markdown",
   "metadata": {
    "jupyter": {
     "source_hidden": true
    }
   },
   "source": [
    "### Өгөгдөл хуваах\n",
    "\n",
    "Document хэт урт бол vector store-с хайх хайлтын чанар муудах магадлалтай тул доорх хэсэгт агуулгыг тэмдэгтийн тоогоор таслан хэд хэдэн Document болгов.\n",
    "\n",
    "Жич: RAG-н чанарыг сайжруулахын тулд зөвхөн тэмдэгтийн тоогоор хуваахаас гадна өгүүлбэр, цогцолбор, бүлэг гэх мэтчилэн өгөгдөлд тохирсон арга олох нь чухал."
   ]
  },
  {
   "cell_type": "code",
   "execution_count": 7,
   "metadata": {
    "jupyter": {
     "source_hidden": true
    }
   },
   "outputs": [],
   "source": [
    "text_splitter = RecursiveCharacterTextSplitter(\n",
    "    chunk_size=1000, chunk_overlap=100\n",
    ")\n",
    "docs = text_splitter.split_documents(documents=all_data)"
   ]
  },
  {
   "cell_type": "markdown",
   "metadata": {
    "jupyter": {
     "source_hidden": true
    }
   },
   "source": [
    "### Embedding\n",
    "\n",
    "Embedding нь энгийн үгээр ямар нэгэн өгөгдлийг вектор дүрслэл рүү хөрвүүлсэн хэлбэр бөгөөд тухайн вектор нь олон хэмжээст огторгуйд ижил, төстэй утга бүхий өгөгдөлтэй ойр, эсрэг утгатай өгөгдлөөс хол байрладаг.\n",
    "\n",
    "Энэхүү жишээ RAG-д [`sentence-transformers/paraphrase-multilingual-MiniLM-L12-v2`](https://huggingface.co/sentence-transformers/paraphrase-multilingual-MiniLM-L12-v2) загварыг сонгон авлаа.\n",
    "\n",
    "![embedding model](https://python.langchain.com/assets/images/embeddings_concept-975a9aaba52de05b457a1aeff9a7393a.png)"
   ]
  },
  {
   "cell_type": "code",
   "execution_count": 8,
   "metadata": {},
   "outputs": [],
   "source": [
    "embeddings = HuggingFaceEmbeddings(model_name=\"sentence-transformers/paraphrase-multilingual-MiniLM-L12-v2\")"
   ]
  },
  {
   "cell_type": "markdown",
   "metadata": {
    "jupyter": {
     "source_hidden": true
    }
   },
   "source": [
    "### Vector Store\n",
    "\n",
    "Харин vector store нь embedding болон өгөгдөл эсвэл түүний заагчийг хамтад нь хадгалж, хайлтын query орж ирэхэд мөн түүнийг вектор хэлбэрт хөрвүүлэн, санд байх векторуудаас хамгийн ойрыг хайдаг өгөгдлийн сан юм.\n",
    "\n",
    "Энэхүү жишээнд FAISS vector store сонгож ашиглалаа.\n",
    "\n",
    "![vectorestore](https://python.langchain.com/assets/images/vectorstores-2540b4bc355b966c99b0f02cfdddb273.png)"
   ]
  },
  {
   "cell_type": "code",
   "execution_count": 9,
   "metadata": {},
   "outputs": [],
   "source": [
    "# Бүх document-с embedding үүсгэж, vector store-д хадгалах\n",
    "# (өмнө нь үүсгэсэн бол заавал дахин үүсгэх шаардлагагүй, доорх load_local функцээр хадгалсан файлаас уншиж болно)\n",
    "vector_store = FAISS.from_documents(docs, embeddings)\n",
    "vector_store.save_local(\"faiss_index\")"
   ]
  },
  {
   "cell_type": "code",
   "execution_count": 10,
   "metadata": {},
   "outputs": [],
   "source": [
    "# Үүсгэсэн vector store-г файлаас унших\n",
    "vector_store = FAISS.load_local(\n",
    "    \"faiss_index\", embeddings, allow_dangerous_deserialization=True\n",
    ")"
   ]
  },
  {
   "cell_type": "markdown",
   "metadata": {
    "jupyter": {
     "source_hidden": true
    }
   },
   "source": [
    "Vector Store үүсгэсэн бол түүнээс ойролцоо утгатай өгөгдөл хайж үзье.\n",
    "\n",
    "![retriever](https://python.langchain.com/assets/images/retriever_concept-1093f15a8f63ddb90bd23decbd249ea5.png)"
   ]
  },
  {
   "cell_type": "markdown",
   "metadata": {},
   "source": [
    "## Өгөгдөл хайх, хариулах\n",
    "\n",
    "Өмнөх хэсэгт өгөгдлөө бэлтгэж, vector store-т хадгалсан бол энэ хэсэгт хэрэглэгчийн асуусан асуултаар vector store-с хайлт хийж, LLM-р хариулт өгөх болно.\n",
    "\n",
    "![](https://miro.medium.com/v2/resize:fit:2000/format:webp/1*8dUBh25peTpsucMpL1ypUg.png)"
   ]
  },
  {
   "cell_type": "markdown",
   "metadata": {},
   "source": [
    "### LLM\n",
    "\n",
    "Хайж олсон мэдээлэл, хэрэглэгчийн асуултад тохирох хариулт үүсгэхийн тулд бичвэр үүсгэгч Large Language Model ашиглана.\n",
    "\n",
    "Энд Meta компанийн сургасан [8 тэрбум параметртай Llama 3.1(https://huggingface.co/meta-llama/Llama-3.1-8B)] загварыг сонгов. (Hugging Face дээр загвар ашиглах зөвшөөрөл хүссэн маягт бөглөх ёстой)\n"
   ]
  },
  {
   "cell_type": "markdown",
   "metadata": {},
   "source": [
    "### Chain: Retrieval -> Prompt -> LLM\n",
    "\n",
    "Prompt-н `{context}`-н оронд хайж олсон мэдээлэл, `{input}`-н оронд хэрэглэгчийн асуусан асуулт орох болно."
   ]
  },
  {
   "cell_type": "code",
   "execution_count": 14,
   "metadata": {},
   "outputs": [],
   "source": [
    "system_prompt = (\n",
    "    \"You are an assistant for question-answering tasks. \"\n",
    "    \"Use the following pieces of retrieved context to answer \"\n",
    "    \"the user question. If you don't know the answer to the question, say that you \"\n",
    "    \"don't know. Use three sentences maximum and keep the \"\n",
    "    \"answer concise.\"\n",
    "    \"\\n\\n\"\n",
    "    'Context:\\n\"\"\"\\n{context}\\n\"\"\"'\n",
    ")\n",
    "\n",
    "prompt = ChatPromptTemplate.from_messages(\n",
    "    [\n",
    "        (\"system\", system_prompt),\n",
    "        (\"user\", \"Question: \\\"\\\"\\\"{input}\\\"\\\"\\\"\"),\n",
    "        (\"assistant\", \"Answer: \"),\n",
    "    ]\n",
    ")\n",
    "\n",
    "# vector store-с document хайгч, k параметраар хамгийн ойр утгатай хэдэн document буцаахыг дамжуулна\n",
    "retriever = vector_store.as_retriever(search_type=\"similarity\", search_kwargs={\"k\": 3})\n",
    "\n",
    "# Chain үүсгэх\n",
    "# input -> retrieval -> prompt -> llm -> answer\n",
    "question_answer_chain = create_stuff_documents_chain(llm, prompt)\n",
    "rag_chain = create_retrieval_chain(retriever, question_answer_chain)"
   ]
  },
  {
   "cell_type": "code",
   "execution_count": null,
   "metadata": {
    "scrolled": true
   },
   "outputs": [
    {
     "name": "stdout",
     "output_type": "stream",
     "text": [
      "\u001b[32mINFO\u001b[0m:     Will watch for changes in these directories: ['/root/rag-starter/src/api']\n",
      "\u001b[32mINFO\u001b[0m:     Uvicorn running on \u001b[1mhttp://127.0.0.1:8000\u001b[0m (Press CTRL+C to quit)\n",
      "\u001b[32mINFO\u001b[0m:     Started reloader process [\u001b[36m\u001b[1m361431\u001b[0m] using \u001b[36m\u001b[1mWatchFiles\u001b[0m\n",
      "VBox(children=(HTML(value='<center> <img\\nsrc=https://huggingface.co/front/assets/huggingface_logo-noborder.svg\\nalt=\\'Hugging Face\\'> <br> Copy a token from <a\\nhref=\"https://huggingface.co/settings/tokens\" target=\"_blank\">your Hugging Face\\ntokens page</a> and paste it below. <br> Immediately click login after copying\\nyour token or it might be stored in plain text in this notebook file. </center>'), Password(description='Token:'), Checkbox(value=True, description='Add token as git credential?'), Button(description='Login', style=ButtonStyle()), HTML(value=\"\\n<b>Pro Tip:</b> If you don't already have one, you can create a dedicated\\n'notebooks' token with 'write' access, that you can then easily reuse for all\\nnotebooks. </center>\")), layout=Layout(align_items='center', display='flex', flex_flow='column', width='50%'))\n",
      "Loading checkpoint shards: 100%|██████████████████| 4/4 [00:18<00:00,  4.56s/it]\n",
      "Some parameters are on the meta device because they were offloaded to the cpu.\n",
      "Device set to use cuda:0\n"
     ]
    }
   ],
   "source": [
    "!uvicorn main:app --reload"
   ]
  },
  {
   "cell_type": "code",
   "execution_count": null,
   "metadata": {},
   "outputs": [],
   "source": []
  }
 ],
 "metadata": {
  "kernelspec": {
   "display_name": "Python 3 (ipykernel)",
   "language": "python",
   "name": "python3"
  },
  "language_info": {
   "codemirror_mode": {
    "name": "ipython",
    "version": 3
   },
   "file_extension": ".py",
   "mimetype": "text/x-python",
   "name": "python",
   "nbconvert_exporter": "python",
   "pygments_lexer": "ipython3",
   "version": "3.10.12"
  }
 },
 "nbformat": 4,
 "nbformat_minor": 4
}
