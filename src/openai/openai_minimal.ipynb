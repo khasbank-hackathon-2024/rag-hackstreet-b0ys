{
 "cells": [
  {
   "cell_type": "code",
   "execution_count": 1,
   "id": "9257b0b2-cce2-4351-8a52-7259448add7f",
   "metadata": {},
   "outputs": [
    {
     "name": "stdout",
     "output_type": "stream",
     "text": [
      "Note: you may need to restart the kernel to use updated packages.\n"
     ]
    }
   ],
   "source": [
    "%pip install --quiet --upgrade langchain-text-splitters langchain-community"
   ]
  },
  {
   "cell_type": "code",
   "execution_count": 7,
   "id": "d12b155e-fbb6-4146-bf42-aa75bad112ec",
   "metadata": {},
   "outputs": [
    {
     "name": "stdin",
     "output_type": "stream",
     "text": [
      " ········\n"
     ]
    }
   ],
   "source": [
    "import getpass\n",
    "import os\n",
    "\n",
    "os.environ[\"OPENAI_API_KEY\"] = getpass.getpass()\n",
    "\n",
    "from langchain_openai import ChatOpenAI\n",
    "\n",
    "llm = ChatOpenAI(model=\"gpt-4o-mini\")"
   ]
  },
  {
   "cell_type": "code",
   "execution_count": 8,
   "id": "c8c23d3a-afe3-4a44-a48e-81552aa06e67",
   "metadata": {},
   "outputs": [
    {
     "name": "stdin",
     "output_type": "stream",
     "text": [
      " ········\n"
     ]
    }
   ],
   "source": [
    "import getpass\n",
    "\n",
    "os.environ[\"OPENAI_API_KEY\"] = getpass.getpass()\n",
    "\n",
    "from langchain_openai import OpenAIEmbeddings\n",
    "\n",
    "embeddings = OpenAIEmbeddings(model=\"text-embedding-3-large\")"
   ]
  },
  {
   "cell_type": "code",
   "execution_count": 9,
   "id": "8993eaef-a21d-4c41-8e8a-1b0a97d9b20c",
   "metadata": {},
   "outputs": [],
   "source": [
    "!pip install -qU langchain-chroma"
   ]
  },
  {
   "cell_type": "markdown",
   "id": "a037fa42-230c-428f-b8ca-72c75e93e1d3",
   "metadata": {},
   "source": [
    "## Initialize vectorDB"
   ]
  },
  {
   "cell_type": "code",
   "execution_count": 10,
   "id": "1b1bc6a5-ffa2-4ed6-8815-0e1bad5bd44e",
   "metadata": {},
   "outputs": [],
   "source": [
    "from langchain_chroma import Chroma\n",
    "\n",
    "vector_store = Chroma(embedding_function=embeddings)"
   ]
  },
  {
   "cell_type": "markdown",
   "id": "57b9e2f0-3824-40b7-9bfe-1af4da6a6b0e",
   "metadata": {},
   "source": [
    "## Loading docs"
   ]
  },
  {
   "cell_type": "code",
   "execution_count": 33,
   "id": "27e55a70-c24a-49c3-83a5-ccaae0b7e4fd",
   "metadata": {},
   "outputs": [
    {
     "name": "stdout",
     "output_type": "stream",
     "text": [
      "page_content='answer: Цалингийн зээлийг сүүлийн 6 сар ажил эрхэлсэн, үндсэн ажилтнаар ажиллаж буй гэрээт байгууллагын ажилтанд олгоно. Одоо ажиллаж буй байгууллагадаа шилжин ажиллахдаа үндсэн ажилтнаар орсон бол цалингийн зээл авч болно.' metadata={'source': 'faq_10_0', 'row': 1, 'context': 'Цалингийн зээл', 'answer': 'Цалингийн зээлийг сүүлийн 6 сар ажил эрхэлсэн, үндсэн ажилтнаар ажиллаж буй гэрээт байгууллагын ажилтанд олгоно. Одоо ажиллаж буй байгууллагадаа шилжин ажиллахдаа үндсэн ажилтнаар орсон бол цалингийн зээл авч болно.'}\n"
     ]
    }
   ],
   "source": [
    "from langchain_community.document_loaders.csv_loader import CSVLoader\n",
    "\n",
    "DATA_DIR = \"../../data/\"\n",
    "\n",
    "loader = CSVLoader(file_path=f\"{DATA_DIR}faq_final.csv\",\n",
    "                  source_column=\"id\",\n",
    "                  metadata_columns=[\"context\", \"answer\"],\n",
    "                  content_columns=[\"answer\"],\n",
    "                  csv_args={\n",
    "                        \"fieldnames\": [\"id\", \"context\", \"question\", \"answer\"],\n",
    "                        }\n",
    "                  )\n",
    "\n",
    "docs = loader.load()[1:]\n",
    "print(docs[0])"
   ]
  },
  {
   "cell_type": "code",
   "execution_count": 6,
   "id": "5918ab46-c446-474f-b44b-c84c8b79e06f",
   "metadata": {},
   "outputs": [
    {
     "name": "stdout",
     "output_type": "stream",
     "text": [
      "None: answer\n"
     ]
    }
   ],
   "source": [
    "print(docs[0].page_content[:500])"
   ]
  },
  {
   "cell_type": "markdown",
   "id": "10423429-64ef-468d-ade5-6c83b8b1dd9b",
   "metadata": {},
   "source": [
    "## Splitting docs"
   ]
  },
  {
   "cell_type": "code",
   "execution_count": 13,
   "id": "5c1172fa-644e-44b5-b1d3-b3d9bfa555ef",
   "metadata": {},
   "outputs": [
    {
     "name": "stdout",
     "output_type": "stream",
     "text": [
      "Split blog post into 66 sub-documents.\n"
     ]
    }
   ],
   "source": [
    "from langchain_text_splitters import RecursiveCharacterTextSplitter\n",
    "\n",
    "text_splitter = RecursiveCharacterTextSplitter(\n",
    "    chunk_size=1000,  # chunk size (characters)\n",
    "    chunk_overlap=200,  # chunk overlap (characters)\n",
    "    add_start_index=True,  # track index in original document\n",
    ")\n",
    "all_splits = text_splitter.split_documents(docs)\n",
    "\n",
    "print(f\"Split blog post into {len(all_splits)} sub-documents.\")"
   ]
  },
  {
   "cell_type": "markdown",
   "id": "c6fd5a66-95d9-48ff-8be2-06c06d482d01",
   "metadata": {},
   "source": [
    "## Storing docs"
   ]
  },
  {
   "cell_type": "code",
   "execution_count": 14,
   "id": "978a8329-d189-40b9-a952-03cb9d9aaa0b",
   "metadata": {},
   "outputs": [
    {
     "name": "stdout",
     "output_type": "stream",
     "text": [
      "['d316ac81-d795-403b-af30-d582c3c1efb5', '20be1c13-4ac1-4831-b102-a24f9be2a9cc', 'e708fcc0-ba9a-409f-a3c4-0826eeb2bc97']\n"
     ]
    }
   ],
   "source": [
    "document_ids = vector_store.add_documents(documents=all_splits)\n",
    "\n",
    "print(document_ids[:3])"
   ]
  },
  {
   "cell_type": "markdown",
   "id": "bbd571fd-176a-43e4-84ea-b8e9601dc3d0",
   "metadata": {},
   "source": [
    "## Retrieval and generation"
   ]
  },
  {
   "cell_type": "code",
   "execution_count": 47,
   "id": "f1383d26-36cf-4f1c-9e96-aaf65e1b79d7",
   "metadata": {},
   "outputs": [
    {
     "name": "stdout",
     "output_type": "stream",
     "text": [
      "You are an assistant for question-answering tasks. Use the following pieces of retrieved context to answer the question. If you don't know the answer, just say that you don't know. Use three sentences maximum and keep the answer concise. Your answer should always be in Mongolian \n",
      "            Question: (question goes here), \n",
      "            Context: (context goes here) \n",
      "            Answer:\n"
     ]
    }
   ],
   "source": [
    "from langchain import hub\n",
    "from langchain_core.prompts import ChatPromptTemplate, MessagesPlaceholder\n",
    "\n",
    "# prompt = hub.pull(\"rlm/rag-prompt\")\n",
    "\n",
    "prompt = ChatPromptTemplate.from_messages(\n",
    "    [\n",
    "        (\n",
    "            \"human\",\n",
    "            \"\"\"You are an assistant for question-answering tasks. Use the following pieces of retrieved context to answer the question. If you don't know the answer, just say that you don't know. Use three sentences maximum and keep the answer concise. Your answer should always be in Mongolian \n",
    "            Question: {question} \n",
    "            Context: {context} \n",
    "            Answer:\"\"\",\n",
    "        ),\n",
    "    ]\n",
    ")\n",
    "example_messages = prompt.invoke(\n",
    "    {\"context\": \"(context goes here)\", \"question\": \"(question goes here),\"}\n",
    ").to_messages()\n",
    "\n",
    "assert len(example_messages) == 1\n",
    "print(example_messages[0].content)\n"
   ]
  },
  {
   "cell_type": "markdown",
   "id": "51d69879-fb1c-4ec4-9901-b09c533c2c7b",
   "metadata": {},
   "source": [
    "### State:"
   ]
  },
  {
   "cell_type": "code",
   "execution_count": 41,
   "id": "3d041f2c-c82e-4ede-919e-df0c0237a388",
   "metadata": {},
   "outputs": [],
   "source": [
    "from langchain_core.documents import Document\n",
    "from typing_extensions import List, TypedDict\n",
    "\n",
    "\n",
    "class State(TypedDict):\n",
    "    question: str\n",
    "    context: List[Document]\n",
    "    answer: str\n"
   ]
  },
  {
   "cell_type": "code",
   "execution_count": 26,
   "id": "a34565f2-8a9e-445b-b179-0641eb97c0fb",
   "metadata": {},
   "outputs": [],
   "source": [
    "def retrieve(state: State):\n",
    "    retrieved_docs = vector_store.similarity_search(state[\"question\"])\n",
    "    return {\"context\": retrieved_docs}\n",
    "\n",
    "\n",
    "def generate(state: State):\n",
    "    docs_content = \"\\n\\n\".join(doc.page_content for doc in state[\"context\"])\n",
    "    messages = prompt.invoke({\"question\": state[\"question\"], \"context\": docs_content})\n",
    "    response = llm.invoke(messages)\n",
    "    return {\"answer\": response.content}"
   ]
  },
  {
   "cell_type": "code",
   "execution_count": 27,
   "id": "d7d5aef3-ce58-4883-98bf-faefb9224480",
   "metadata": {},
   "outputs": [],
   "source": [
    "from langgraph.graph import START, StateGraph\n",
    "\n",
    "graph_builder = StateGraph(State).add_sequence([retrieve, generate])\n",
    "graph_builder.add_edge(START, \"retrieve\")\n",
    "graph = graph_builder.compile()"
   ]
  },
  {
   "cell_type": "code",
   "execution_count": 28,
   "id": "68c52405-9ebd-498f-8636-253e186a29e2",
   "metadata": {},
   "outputs": [
    {
     "data": {
      "image/png": "[encoded data removed]",
      "text/plain": [
       "<IPython.core.display.Image object>"
      ]
     },
     "metadata": {},
     "output_type": "display_data"
    }
   ],
   "source": [
    "from IPython.display import Image, display\n",
    "\n",
    "display(Image(graph.get_graph().draw_mermaid_png()))"
   ]
  },
  {
   "cell_type": "code",
   "execution_count": 49,
   "id": "96311dec-bd4b-407b-889e-f1c4a12ea9f6",
   "metadata": {},
   "outputs": [
    {
     "name": "stdout",
     "output_type": "stream",
     "text": [
      "Context: [Document(metadata={'source': 'https://lilianweng.github.io/posts/2023-06-23-agent/', 'start_index': 5930}, page_content='Fig. 4. Experiments on AlfWorld Env and HotpotQA. Hallucination is a more common failure than inefficient planning in AlfWorld. (Image source: Shinn & Labash, 2023)'), Document(metadata={'source': 'https://lilianweng.github.io/posts/2023-06-23-agent/', 'start_index': 6095}, page_content='Chain of Hindsight (CoH; Liu et al. 2023) encourages the model to improve on its own outputs by explicitly presenting it with a sequence of past outputs, each annotated with feedback. Human feedback data is a collection of $D_h = \\\\{(x, y_i , r_i , z_i)\\\\}_{i=1}^n$, where $x$ is the prompt, each $y_i$ is a model completion, $r_i$ is the human rating of $y_i$, and $z_i$ is the corresponding human-provided hindsight feedback. Assume the feedback tuples are ranked by reward, $r_n \\\\geq r_{n-1} \\\\geq \\\\dots \\\\geq r_1$ The process is supervised fine-tuning where the data is a sequence in the form of $\\\\tau_h = (x, z_i, y_i, z_j, y_j, \\\\dots, z_n, y_n)$, where $\\\\leq i \\\\leq j \\\\leq n$. The model is finetuned to only predict $y_n$ where conditioned on the sequence prefix, such that the model can self-reflect to produce better output based on the feedback sequence. The model can optionally receive multiple rounds of instructions with human annotators at test time.'), Document(metadata={'source': 'https://lilianweng.github.io/posts/2023-06-23-agent/', 'start_index': 17414}, page_content='Fig. 11. Illustration of how HuggingGPT works. (Image source: Shen et al. 2023)\\nThe system comprises of 4 stages:\\n(1) Task planning: LLM works as the brain and parses the user requests into multiple tasks. There are four attributes associated with each task: task type, ID, dependencies, and arguments. They use few-shot examples to guide LLM to do task parsing and planning.\\nInstruction:'), Document(metadata={'source': 'https://lilianweng.github.io/posts/2023-06-23-agent/', 'start_index': 40602}, page_content='Or\\n@article{weng2023agent,\\n  title   = \"LLM-powered Autonomous Agents\",\\n  author  = \"Weng, Lilian\",\\n  journal = \"lilianweng.github.io\",\\n  year    = \"2023\",\\n  month   = \"Jun\",\\n  url     = \"https://lilianweng.github.io/posts/2023-06-23-agent/\"\\n}\\nReferences#\\n[1] Wei et al. “Chain of thought prompting elicits reasoning in large language models.” NeurIPS 2022\\n[2] Yao et al. “Tree of Thoughts: Dliberate Problem Solving with Large Language Models.” arXiv preprint arXiv:2305.10601 (2023).\\n[3] Liu et al. “Chain of Hindsight Aligns Language Models with Feedback\\n“ arXiv preprint arXiv:2302.02676 (2023).\\n[4] Liu et al. “LLM+P: Empowering Large Language Models with Optimal Planning Proficiency” arXiv preprint arXiv:2304.11477 (2023).\\n[5] Yao et al. “ReAct: Synergizing reasoning and acting in language models.” ICLR 2023.\\n[6] Google Blog. “Announcing ScaNN: Efficient Vector Similarity Search” July 28, 2020.\\n[7] https://chat.openai.com/share/46ff149e-a4c7-4dd7-a800-fc4a642ea389')]\n",
      "\n",
      "\n",
      "Answer: Санах ойн төрөлд үндсэн хоёр төрлийг хурдан болон удаан хугацааны санах ойн системүүд гэж ангилдаг. Хурдан санах ойн систем нь богино хугацаанд мэдээллийг хадгалах чадвартай бол удаан хугацааны санах ойн систем нь удаан хугацаанд мэдээллийг хадгалах чадвартай. Мөн санах ойн төрөлд хүний болон хиймэл оюун ухааны санах ойн системүүд орно.\n"
     ]
    }
   ],
   "source": [
    "# result = graph.invoke({\"question\": \"What is Task Decomposition?\"}, )\n",
    "result = graph.invoke({\"question\": \"Санах ойн төрлүүд\"}, )\n",
    "\n",
    "print(f'Context: {result[\"context\"]}\\n\\n')\n",
    "print(f'Answer: {result[\"answer\"]}')"
   ]
  },
  {
   "cell_type": "code",
   "execution_count": null,
   "id": "d7102b8d-7c94-434a-bceb-240230634504",
   "metadata": {},
   "outputs": [],
   "source": []
  }
 ],
 "metadata": {
  "kernelspec": {
   "display_name": "Python 3 (ipykernel)",
   "language": "python",
   "name": "python3"
  },
  "language_info": {
   "codemirror_mode": {
    "name": "ipython",
    "version": 3
   },
   "file_extension": ".py",
   "mimetype": "text/x-python",
   "name": "python",
   "nbconvert_exporter": "python",
   "pygments_lexer": "ipython3",
   "version": "3.10.12"
  }
 },
 "nbformat": 4,
 "nbformat_minor": 5
}
