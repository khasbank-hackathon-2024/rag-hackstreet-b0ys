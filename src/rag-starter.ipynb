{
 "cells": [
  {
   "cell_type": "markdown",
   "metadata": {},
   "source": [
    "# RAG гарааны код\n",
    "\n",
    "Энэхүү гарааны jupyter notebook нь энгийн RAG архитектурыг [LangChain](https://python.langchain.com/docs/introduction/) framework-н тусламжтай, хэлний загваруудыг [Hugging Face Transformers](https://huggingface.co/docs/transformers/index)-р татаж, ажиллуулах байдлаар хэрэгжүүлсэн бөгөөд энэхүү notebook-д суурилан өөрсдийн RAG архитектур, загвар, шийдлээ хэрэгжүүлж болно.\n",
    "\n",
    "Шаардлагатай python сангуудыг [requirements.txt](../requirements.txt) файлд жагсаасан байгаа.\n",
    "\n",
    "![](https://python.langchain.com/assets/images/rag_concepts-4499b260d1053838a3e361fb54f376ec.png)"
   ]
  },
  {
   "cell_type": "code",
   "execution_count": 1,
   "metadata": {},
   "outputs": [],
   "source": [
    "import torch\n",
    "from langchain.chains import create_retrieval_chain\n",
    "from langchain.chains.combine_documents import create_stuff_documents_chain\n",
    "from langchain.text_splitter import RecursiveCharacterTextSplitter\n",
    "from langchain_community.document_loaders.csv_loader import CSVLoader\n",
    "from langchain_community.vectorstores import FAISS\n",
    "from langchain_core.prompts import ChatPromptTemplate\n",
    "from langchain_huggingface import HuggingFaceEmbeddings, HuggingFacePipeline\n",
    "from transformers import AutoModelForCausalLM, AutoTokenizer, pipeline"
   ]
  },
  {
   "cell_type": "markdown",
   "metadata": {},
   "source": [
    "## Vector Store үүсгэх\n",
    "\n",
    "RAG системийн үндсэн хоёр хэсгийн нэг, заавал бэлдсэн байх ёстой зүйл бол өгөгдлөө embedding буюу тоон хэлбэрт шилжүүлж, vector store-д хадгалсан байх юм.\n",
    "\n",
    "![](https://miro.medium.com/v2/resize:fit:1100/format:webp/1*vAvDBIbr8MnL_Q51mBtBhw.png)"
   ]
  },
  {
   "cell_type": "markdown",
   "metadata": {},
   "source": [
    "### Өгөгдөл унших\n",
    "\n",
    "`data` хавтсанд байрлах `csv` файлыг уншиж LangChain [Document](https://python.langchain.com/api_reference/core/documents/langchain_core.documents.base.Document.html)-н жагсаалт болгоно.\n",
    "\n",
    "- `khas_bank_news.csv`\n",
    "- `khas_bank_pages.csv`\n",
    "- `khas_bank_products.csv`"
   ]
  },
  {
   "cell_type": "code",
   "execution_count": 2,
   "metadata": {},
   "outputs": [
    {
     "name": "stdout",
     "output_type": "stream",
     "text": [
      "page_content='content: ХасБанк 2024 оны III улиралд 43.4 тэрбум төгрөгийн татварын дараах цэвэр ашигтай ажиллалааХасБанк 2024 оны III улиралд 43.4 тэрбум төгрөгийн (өмнөх улирлаас +0.4%) татварын дараах цэвэр ашигтай ажиллалаа. Ингэснээр жилийн өссөн дүнгээр татварын дараах цэвэр ашиг 128.7 тэрбум төгрөгт (өмнөх жилийн мөн үеэс +26.7%) хүрч, өөрийн хөрөнгийн өгөөж (annualized ROE) 26.2%,нэгж хувьцаанд ногдох цэвэр ашиг (EPS) 122.3 төгрөгтхүрлээ2024 оны III улирлын санхүүгийн үзүүлэлтээс онцолбол:Зээл ба санхүүгийн түрээсийн багц 3,609 тэрбум төгрөгт хүрч, өмнөх улирлаас 8.6%, оны эхнээс 31.2% өссөн нь III улирлын цэвэр хүүгийн орлогыг өмнөх улирлаас 9.0% өсөхөд нөлөөлсөн байна.Активын чанарын үзүүлэлт тогтвортой сайн хэвээр байгаа бөгөөд нийт зээл болон санхүүгийн түрээсийн багцад эзлэх чанаргүй зээлийг 2.2%-д удирдан ажиллаж байна.Харилцах, хадгаламжийн эх үүсвэр өмнөх улирлаас 0.1%-аар, оны эхнээс 11.3%-аар өсөж, 3,202 тэрбум төгрөгт хүрлээ.2024 оны эхний хагас жилийн цэвэр ашгаас нэгж хувьцаанд 18 төгрөг буюу нийт 18.9 тэрбум төгрөгийн ногдол ашиг хувьцаа эзэмшигчдэд хуваарилсан бөгөөд IPO хийснээс хойш нийт 61.0 тэрбум төгрөгийг ногдол ашиг болгон олгоод байна.Тайлант хугацаанд ХасБанк Банкны тухай хуулиар болон Монголбанкнаас тогтоосон зохистой харьцааны шалгуур үзүүлэлтүүдийг бүрэн хангаж ажиллалаа. Үүнд:Нэгдүгээр зэрэглэлийн өөрийн хөрөнгө болон эрсдэлээр жигнэсэн активын зохистой харьцаа 18.2%(байвал зохих хэмжээ 12.5%). Ийнхүү давуулан биелүүлсэн нөөц өөрийн хөрөнгө нь аливаа болзошгүй эрсдэлийг даахаас гадна ирээдүйд активын тэлэлт хийх, ногдол ашиг тараах боломжийг бий болгодог.Төлбөр түргэн гүйцэтгэх чадварын харьцаа 34.5%(байвал зохих хэмжээ 25.0%) буюу ХасБанк бусдаас татан төвлөрүүлсэн нийт эх үүсвэрийнхээ 34.5% болох 1,682 тэрбум төгрөгийг бэлэн мөнгө болон түргэн борлогдох активт байршуулан удирдаж байна.ХасБанкны 2024 оны III улирлын санхүүгийн байдал болон орлого үр дүнгийн тайлантайЭНДдарж танилцана уу.' metadata={'source': 'https://www.xacbank.mn/article/financial-report-2024q3', 'row': 1, 'title': 'ХасБанк 2024 оны III улиралд 43.4 тэрбум төгрөгийн татварын дараах цэвэр ашигтай ажиллалаа', 'date': '2024.10.14', 'link': 'https://www.xacbank.mn/article/financial-report-2024q3'}\n"
     ]
    }
   ],
   "source": [
    "DATA_DIR = \"../data/\"\n",
    "loader = CSVLoader(file_path=f\"{DATA_DIR}khas_bank_news.csv\",\n",
    "                   source_column=\"link\",\n",
    "                   metadata_columns=[\"title\", \"date\", \"link\"],\n",
    "                   content_columns=[\"content\"],\n",
    "                   csv_args={\n",
    "                       \"fieldnames\": [\"title\", \"link\", \"date\", \"content\"],\n",
    "                       }\n",
    "                   )\n",
    "news_data = loader.load()[1:]\n",
    "print(news_data[0])\n",
    "\n",
    "loader = CSVLoader(file_path=f\"{DATA_DIR}khas_bank_products.csv\",\n",
    "                   source_column=\"link\",\n",
    "                   metadata_columns=[\"id\", \"side_menu_text\", \"link\"],\n",
    "                   content_columns=[\"content\"],\n",
    "                   csv_args={\n",
    "                       \"fieldnames\": [\"id\", \"content\", \"side_menu_text\", \"link\"],\n",
    "                       }\n",
    "                   )\n",
    "product_data = loader.load()[1:]\n",
    "\n",
    "loader = CSVLoader(file_path=f\"{DATA_DIR}khas_bank_pages.csv\",\n",
    "                   source_column=\"link\",\n",
    "                   metadata_columns=[\"title\", \"link\"],\n",
    "                   content_columns=[\"content\"],\n",
    "                   csv_args={\n",
    "                       \"fieldnames\": [\"title\", \"content\", \"link\"],\n",
    "                       }\n",
    "                   )\n",
    "pages_data = loader.load()[1:]\n",
    "\n",
    "all_data = news_data + product_data + pages_data\n",
    "# print(len(news_data), len(product_data), len(pages_data))\n",
    "# print(f\"Нийт хуудасны тоо: {len(all_data)}\")\n",
    "# print(all_data[0])"
   ]
  },
  {
   "cell_type": "markdown",
   "metadata": {},
   "source": [
    "### Өгөгдөл хуваах\n",
    "\n",
    "Document хэт урт бол vector store-с хайх хайлтын чанар муудах магадлалтай тул доорх хэсэгт агуулгыг тэмдэгтийн тоогоор таслан хэд хэдэн Document болгов.\n",
    "\n",
    "Жич: RAG-н чанарыг сайжруулахын тулд зөвхөн тэмдэгтийн тоогоор хуваахаас гадна өгүүлбэр, цогцолбор, бүлэг гэх мэтчилэн өгөгдөлд тохирсон арга олох нь чухал."
   ]
  },
  {
   "cell_type": "code",
   "execution_count": 3,
   "metadata": {},
   "outputs": [],
   "source": [
    "text_splitter = RecursiveCharacterTextSplitter(\n",
    "    chunk_size=1000, chunk_overlap=100\n",
    ")\n",
    "docs = text_splitter.split_documents(documents=all_data)"
   ]
  },
  {
   "cell_type": "markdown",
   "metadata": {},
   "source": [
    "### Embedding\n",
    "\n",
    "Embedding нь энгийн үгээр ямар нэгэн өгөгдлийг вектор дүрслэл рүү хөрвүүлсэн хэлбэр бөгөөд тухайн вектор нь олон хэмжээст огторгуйд ижил, төстэй утга бүхий өгөгдөлтэй ойр, эсрэг утгатай өгөгдлөөс хол байрладаг.\n",
    "\n",
    "Энэхүү жишээ RAG-д [`sentence-transformers/paraphrase-multilingual-MiniLM-L12-v2`](https://huggingface.co/sentence-transformers/paraphrase-multilingual-MiniLM-L12-v2) загварыг сонгон авлаа.\n",
    "\n",
    "![embedding model](https://python.langchain.com/assets/images/embeddings_concept-975a9aaba52de05b457a1aeff9a7393a.png)"
   ]
  },
  {
   "cell_type": "code",
   "execution_count": 4,
   "metadata": {},
   "outputs": [],
   "source": [
    "# embeddings = HuggingFaceEmbeddings(model_name=\"sentence-transformers/paraphrase-multilingual-MiniLM-L12-v2\")\n",
    "# embeddings = HuggingFaceEmbeddings(model_name=\"google-bert/bert-base-multilingual-cased\")\n",
    "embeddings = HuggingFaceEmbeddings(model_name=\"sentence-transformers/paraphrase-multilingual-mpnet-base-v2\")"
   ]
  },
  {
   "cell_type": "markdown",
   "metadata": {},
   "source": [
    "### Vector Store\n",
    "\n",
    "Харин vector store нь embedding болон өгөгдөл эсвэл түүний заагчийг хамтад нь хадгалж, хайлтын query орж ирэхэд мөн түүнийг вектор хэлбэрт хөрвүүлэн, санд байх векторуудаас хамгийн ойрыг хайдаг өгөгдлийн сан юм.\n",
    "\n",
    "Энэхүү жишээнд FAISS vector store сонгож ашиглалаа.\n",
    "\n",
    "![vectorestore](https://python.langchain.com/assets/images/vectorstores-2540b4bc355b966c99b0f02cfdddb273.png)"
   ]
  },
  {
   "cell_type": "code",
   "execution_count": 5,
   "metadata": {},
   "outputs": [],
   "source": [
    "# Бүх document-с embedding үүсгэж, vector store-д хадгалах\n",
    "# (өмнө нь үүсгэсэн бол заавал дахин үүсгэх шаардлагагүй, доорх load_local функцээр хадгалсан файлаас уншиж болно)\n",
    "vector_store = FAISS.from_documents(docs, embeddings, distance_strategy=\"COSINE\")\n",
    "vector_store.save_local(\"faiss_index\")"
   ]
  },
  {
   "cell_type": "code",
   "execution_count": 6,
   "metadata": {},
   "outputs": [],
   "source": [
    "# Үүсгэсэн vector store-г файлаас унших\n",
    "vector_store = FAISS.load_local(\n",
    "    \"faiss_index\", embeddings, allow_dangerous_deserialization=True\n",
    ")"
   ]
  },
  {
   "cell_type": "markdown",
   "metadata": {},
   "source": [
    "Vector Store үүсгэсэн бол түүнээс ойролцоо утгатай өгөгдөл хайж үзье.\n",
    "\n",
    "![retriever](https://python.langchain.com/assets/images/retriever_concept-1093f15a8f63ddb90bd23decbd249ea5.png)"
   ]
  },
  {
   "cell_type": "code",
   "execution_count": 7,
   "metadata": {},
   "outputs": [
    {
     "name": "stderr",
     "output_type": "stream",
     "text": [
      "/root/rag-starter/.virt/lib/python3.10/site-packages/langchain_core/vectorstores/base.py:1083: UserWarning: Relevance scores must be between 0 and 1, got [(Document(metadata={'source': 'https://www.xacbank.mn/article/ipo-opening', 'row': 73, 'title': 'ХасБанкны IPO: Нээлтийн арга хэмжээ амжилттай боллоо', 'date': '2023.05.25', 'link': 'https://www.xacbank.mn/article/ipo-opening'}, page_content='content: ХасБанкны IPO: Нээлтийн арга хэмжээ амжилттай боллооТус арга хэмжээнд ХасБанк өөрийн үйл ажиллагаа, хувьцаа, ирээдүйн стратеги, зорилтынхоо талаар харилцагч, хөрөнгө оруулагч, олон нийтэд дэлгэрэнгүй мэдээлэл өгсний зэрэгцээ ХасБанкны IPO-д хамтран ажиллаж буй андеррайтерууд болох Райнос Инвестмент үнэт цаасны компани, Өлзий энд Ко Капитал үнэт цаасны компаниуд үнэт цаасны данс нээн, урьдчилсан захиалга авч, хөрөнгийн зах зээлтэй холбоотой зөвлөгөө мэдээлэл өглөө.ХасБанк нийт хувьцааныхаа 5.01 хувийг 677 төгрөгийн нэгжийн үнээр анхдагч зах зээлд арилжаалж 35.7 тэрбум төгрөгийг татан төвлөрүүлэх бөгөөд хувьцааны захиалга 2023 оны 5-р сарын 29-ний 10:00 цагаас 6-р сарын 5-ны 16:00 цаг хүртэл явагдана.Эрхэм харилцагч, хөрөнгө оруулагч та өнөөдрөөс эхлэн ХасБанкны хувьцааны урьдчилсан захиалгыг ХасБанкны дижитал банк болон үндсэн андеррайтер Райнос Инвестмент ҮЦК, туслах андеррайтер Өлзий энд Ко Капитал ҮЦК-уудаар өгч болохоос гадна 5-р сарын 29-нд анхдагч арилжаа нээгдмэгц өөрийн'), -1.1064964540013906), (Document(metadata={'source': 'https://www.xacbank.mn/article/ipo-opening', 'row': 73, 'title': 'ХасБанкны IPO: Нээлтийн арга хэмжээ амжилттай боллоо', 'date': '2023.05.25', 'link': 'https://www.xacbank.mn/article/ipo-opening'}, page_content='Өлзий энд Ко Капитал ҮЦК-уудаар өгч болохоос гадна 5-р сарын 29-нд анхдагч арилжаа нээгдмэгц өөрийн бүртгэлтэй аль ч үнэт цаасны компаниар дамжуулан захиалга өгөх боломжтой.Мөн ХасБанкны IPO-ын талаарх бүхий л мэдээллийг ipo.xacbank.mn веб хуудсаар авч болохын дээр үнэт цаасны данс, захиалгатай холбоотой асуудлаар Райнос Инвестмент ҮЦК /7510 0575/, Өлзий энд Ко Капитал ҮЦК /7777 6377/-уудтай холбогдоно уу.Энэ бол зөвхөн эхлэл.'), -1.1595795667638917), (Document(metadata={'source': 'https://www.xacbank.mn/article/ipo-ceo-interview', 'row': 74, 'title': 'Г.Цэвэгжав: Сайн засаглал, олон улсын туршлага, нэр хүндтэй хөрөнгө оруулагчид бидний гол давуу тал', 'date': '2023.05.24', 'link': 'https://www.xacbank.mn/article/ipo-ceo-interview'}, page_content='тайландаа суурилж олон нийтэд хувьцаагаа санал болгоё гэсэн зарчмын шийдвэр гаргасан. Өнгөрсөн оны санхүүгийн аудитлагдсан тайлангаа аваад, процесс ар араасаа үргэлжилсэн.ХасБанкийг “Тэнгэр Санхүүгийн Нэгдэл” 100 хувь эзэмшдэг. Хуулийн нэмэлт өөрчлөлтийн дагуух 20 хувийн лимит нь эцсийн өмчлөгч буюу “Тэнгэр Санхүүгийн нэгдэл” дээр шаардлага хангадаг. IPO гаргасны дараа “Тэнгэр Санхүүгийн нэгдэл”-ийн хувьцаа эзэмшигчид шууд ХасБанкны хувьцаа эзэмшигчид болж бууж ирэх юм. Энэ оны эцэс гэхэд манайх 20 хувийн лимитийг бүрэн хангахаар ажиллаж байна.Ийм нарийн ньюансууд байсан учраас бид сүүлийн 2 жилийн хугацаанд бэлтгэл ажлаа маш сайн хангахад төвлөрч ажилласан. Үүнтэй холбоотойгоор “Тэнгэр Санхүүгийн Нэгдэл”-ийн дор байсан “ХасЛизинг”, “Тэнгэр даатгал”, “Тэнгэр капитал” зэрэг компаниудаа заримыг нь борлуулж, заримыг нь нэгтгэсэн. Бүх үйл явцыг тухай бүрд нь олон нийтэд зарлаад явсан учраас хүмүүс мэдээлэлтэй байгаа гэж бодож байна.-Арилжааны банкнууд хөрөнгийн зах зээлд гарснаар маш олон'), -1.29437850670586), (Document(metadata={'source': 'https://www.xacbank.mn/article/ipo-mse', 'row': 72, 'title': 'ХасБанкны хувьцааны анхдагч зах зээлийн арилжааны нээлтийн цан цохих ёслол боллоо', 'date': '2023.05.29', 'link': 'https://www.xacbank.mn/article/ipo-mse'}, page_content='6-р сарын 5-ны 16:00 цагтхаагдана.ХасБанк олон нийтээс татан төвлөрүүлэх хөрөнгийг үйл ажиллагаагаа өргөтгөхөд зориулах буюу зээлийн болон санхүүгийн түрээсийн багцаа нэмэгдүүлэхэд зарцуулна.Эрхэм харилцагч, хөрөнгө оруулагч та ХасБанкны хувьцаа эзэмшигч болохыг хүсвэлipo.xacbank.mnцахим хуудсаар дамжуулан захиалга өгөх боломжтой.Энэ бол зөвхөн эхлэл.'), -1.6605901131935017)]\n",
      "  self.vectorstore.similarity_search_with_relevance_scores(\n",
      "No relevant docs were retrieved using the relevance score threshold 0.5\n"
     ]
    },
    {
     "data": {
      "text/plain": [
       "[]"
      ]
     },
     "execution_count": 7,
     "metadata": {},
     "output_type": "execute_result"
    }
   ],
   "source": [
    "# vector store-с document хайгч, k параметраар хамгийн ойр утгатай хэдэн document буцаахыг дамжуулна\n",
    "# retriever = vector_store.as_retriever(search_type=\"similarity\", search_kwargs={\"k\": 3})\n",
    "retriever = vector_store.as_retriever(search_type=\"similarity_score_threshold\", search_kwargs={\"score_threshold\": 0.5})\n",
    "# retriever = vector_store.as_retriever(search_type=\"mmr\", search_kwargs={\"k\": 3})\n",
    "# retriever = vector_store.as_retriever(search_type=\"similarity\", search_kwargs={\"k\": 10})\n",
    "\n",
    "docs = retriever.invoke(\"хасбанк хэзээ IPO хийсэн бэ\")\n",
    "docs"
   ]
  },
  {
   "cell_type": "markdown",
   "metadata": {},
   "source": [
    "## Өгөгдөл хайх, хариулах\n",
    "\n",
    "Өмнөх хэсэгт өгөгдлөө бэлтгэж, vector store-т хадгалсан бол энэ хэсэгт хэрэглэгчийн асуусан асуултаар vector store-с хайлт хийж, LLM-р хариулт өгөх болно.\n",
    "\n",
    "![](https://miro.medium.com/v2/resize:fit:2000/format:webp/1*8dUBh25peTpsucMpL1ypUg.png)"
   ]
  },
  {
   "cell_type": "markdown",
   "metadata": {},
   "source": [
    "### LLM\n",
    "\n",
    "Хайж олсон мэдээлэл, хэрэглэгчийн асуултад тохирох хариулт үүсгэхийн тулд бичвэр үүсгэгч Large Language Model ашиглана.\n",
    "\n",
    "Энд Meta компанийн сургасан [8 тэрбум параметртай Llama 3.1(https://huggingface.co/meta-llama/Llama-3.1-8B)] загварыг сонгов. (Hugging Face дээр загвар ашиглах зөвшөөрөл хүссэн маягт бөглөх ёстой)\n"
   ]
  },
  {
   "cell_type": "code",
   "execution_count": 8,
   "metadata": {},
   "outputs": [
    {
     "data": {
      "application/vnd.jupyter.widget-view+json": {
       "model_id": "913fdff9bb0c492296bf110c05cc99df",
       "version_major": 2,
       "version_minor": 0
      },
      "text/plain": [
       "VBox(children=(HTML(value='<center> <img\\nsrc=https://huggingface.co/front/assets/huggingface_logo-noborder.sv…"
      ]
     },
     "metadata": {},
     "output_type": "display_data"
    }
   ],
   "source": [
    "# Hugging Face-с хандах эрх авсан хаалттай загваруудад хандахын тулд нэвтэрсэн байх шаардлагатай\n",
    "# Нэмэлт мэдээллийг https://huggingface.co/docs/huggingface_hub/package_reference/authentication\n",
    "from huggingface_hub import notebook_login\n",
    "\n",
    "notebook_login()"
   ]
  },
  {
   "cell_type": "code",
   "execution_count": 9,
   "metadata": {},
   "outputs": [
    {
     "data": {
      "application/vnd.jupyter.widget-view+json": {
       "model_id": "26c452ca597f44ccb87ae9bfd7c5d335",
       "version_major": 2,
       "version_minor": 0
      },
      "text/plain": [
       "Loading checkpoint shards:   0%|          | 0/4 [00:00<?, ?it/s]"
      ]
     },
     "metadata": {},
     "output_type": "display_data"
    },
    {
     "name": "stderr",
     "output_type": "stream",
     "text": [
      "Device set to use cuda:0\n"
     ]
    }
   ],
   "source": [
    "# Жишээ болгож Llama 3.1 8B загварыг ашиглав\n",
    "model_id = \"meta-llama/Llama-3.1-8B\"\n",
    "tokenizer = AutoTokenizer.from_pretrained(model_id)\n",
    "model = AutoModelForCausalLM.from_pretrained(\n",
    "    model_id, \n",
    "    torch_dtype=torch.float16,\n",
    "    device_map='auto'\n",
    ")\n",
    "\n",
    "pipe = pipeline(\n",
    "    \"text-generation\",\n",
    "    model=model,\n",
    "    tokenizer=tokenizer,\n",
    "    # llm-н үүсгэж болох токений дээд хязгаар\n",
    "    max_new_tokens=1024,\n",
    "    # хариултын randomization-г арилгах\n",
    "    do_sample=True,\n",
    "    top_k=1,\n",
    "    repetition_penalty=1.15,\n",
    "    # гаралт бидний өгсөн prompt-г хамт хэвлэхгүй байх\n",
    "    return_full_text=False,\n",
    "    pad_token_id=tokenizer.eos_token_id,\n",
    ")\n",
    "\n",
    "# HuggingFace pipeline-г LangChain-ы pipeline болгох\n",
    "llm = HuggingFacePipeline(pipeline=pipe)"
   ]
  },
  {
   "cell_type": "markdown",
   "metadata": {},
   "source": [
    "### Chain: Retrieval -> Prompt -> LLM\n",
    "\n",
    "Prompt-н `{context}`-н оронд хайж олсон мэдээлэл, `{input}`-н оронд хэрэглэгчийн асуусан асуулт орох болно."
   ]
  },
  {
   "cell_type": "code",
   "execution_count": 10,
   "metadata": {},
   "outputs": [],
   "source": [
    "system_prompt = (\n",
    "    \"You are an assistant for question-answering tasks. \"\n",
    "    \"Use the following pieces of retrieved context to answer \"\n",
    "    \"the user question. If you don't know the answer to the question, say that you \"\n",
    "    \"don't know. Use three sentences maximum and keep the \"\n",
    "    \"answer concise.\"\n",
    "    \"\\n\\n\"\n",
    "    'Context:\\n\"\"\"\\n{context}\\n\"\"\"'\n",
    ")\n",
    "\n",
    "prompt = ChatPromptTemplate.from_messages(\n",
    "    [\n",
    "        (\"system\", system_prompt),\n",
    "        (\"user\", \"Question: \\\"\\\"\\\"{input}\\\"\\\"\\\"\"),\n",
    "        (\"assistant\", \"Answer: \"),\n",
    "    ]\n",
    ")\n",
    "\n",
    "# vector store-с document хайгч, k параметраар хамгийн ойр утгатай хэдэн document буцаахыг дамжуулна\n",
    "retriever = vector_store.as_retriever(search_type=\"similarity\", search_kwargs={\"k\": 3})\n",
    "\n",
    "# Chain үүсгэх\n",
    "# input -> retrieval -> prompt -> llm -> answer\n",
    "question_answer_chain = create_stuff_documents_chain(llm, prompt)\n",
    "rag_chain = create_retrieval_chain(retriever, question_answer_chain)"
   ]
  },
  {
   "cell_type": "code",
   "execution_count": 11,
   "metadata": {},
   "outputs": [
    {
     "name": "stdout",
     "output_type": "stream",
     "text": [
      "{'input': 'дебит карт яаж авах вэ', 'context': [Document(metadata={'source': 'https://www.xacbank.mn/article/354', 'row': 530, 'title': 'ХасБанкны төлбөрийн карт эзэмшигч та төлбөрийн шинэчлэгдсэн картаа 7 сарын 1-с өмнө амжиж солиулж аваарай', 'date': '2012.06.27', 'link': 'https://www.xacbank.mn/article/354'}, page_content='таныг луйврын шинжтэй элдэв эрсдэлээс бүрэн   хамгаалах боллоо.Харилцагч Таны одоо хэрэглэж байгаа төлбөрийн карт 7 дугаар сарын  1-нээс ашиглагдах боломжгүй буюу идэвхгүй болж байгаа тул шинээр  хэвлэгдсэн картаа хаанаас авах болон  шинэ карттай холбогдож  гарсан  асуудлаар ХасБанкны Харилцагчийн Үйлчилгээний Төвийн 1888 дугаарт хандаж  тодруулна ууЗөвБанк-ХасБанк'), Document(metadata={'source': 'https://www.xacbank.mn/article/candy-debit-card', 'row': 213, 'title': 'Уншуулах тусам урамтай - Төлбөрийн карт', 'date': '2018.10.04', 'link': 'https://www.xacbank.mn/article/candy-debit-card'}, page_content='орчин үеийн өндөр нууцлал бүхий найдвартай төлбөрийн карттай болохыг хүсвэл та өөрт ойр байрлах ХасБанкны аль ч салбарт бичиг баримттайгаа очиход л хангалттай. Картын хураамж болон захиалгын дэлгэрэнгүй мэдээллийгэнд даржавна уу.Дэлгэрэнгүй мэдээллийг Candy үйлчилгээний лавлах 1800-1199 дугаараас аваарай.Та манай сошиал хаягуудад нэгдээрэй!'), Document(metadata={'source': 'https://www.xacbank.mn/article/monpay-cashback', 'row': 123, 'title': 'Monpay төлбөрийн картаар худалдан авалт хийвэл 20%-ийг танд буцаан олгоно', 'date': '2021.11.04', 'link': 'https://www.xacbank.mn/article/monpay-cashback'}, page_content='сарын 5-аас 19-нийгдуустал үргэлжлэх тул та Monpay картаа яаралтай захиалан авч, 20%-ийн буцаан олголт авах ховорхон боломжийг бүү алдаарай.Жич: Нэг харилцагчид олгох буцаан олголтын дээд хэмжээ 200,000 төгрөгөөр хязгаарлагдана.Monpay картыг хэрхэн авах вэ?ХасБанкны шинэчлэгдсэн Дижитал банкаар дамжуулан зайнаас захиалж авахаас гадна ХасБанкны дурын салбар, тооцооны төв болон Мобикомын үндсэн салбаруудад хандан захиалах боломжтой.Шинэчлэгдсэн дижитал банкийг :http://bit.ly/XacBankMonpay картын давуу талОлон улсад болон онлайн төлбөр тооцоонд саадгүй ашиглана;Зайнаас унших NFC технологитой;ХасБанны дижитал банкаар дамжуулан картаа идэвхжүүлэх, пин кодоо солих, хаяж гээсэн тохиолдолд хаах, нөхөн авах гэх мэтчилэн бүрэн удирдана;Monpay апп-тай холбогдож, олон төрлийн үйлчилгээ авах, хөнгөлөлт урамшуулалд хамрагдах;ХасБанкны АТМ-ээс бэлэн мөнгө авахдаа шимтгэлгүй;Интернэт худалдан авалт хийхэд давхар хамгаалалттай.Картын дэлгэрэнгүй мэдээллийг:https://www.xacbank.mn/product/132')], 'answer': ' \"Картыг хэрхэн авах вэ?\\nХасБанкны шинэчлэгдсэн Дижитал банкаар дамжуулан зайнаас захиалж авахаас гадна ХасБанкны дурын салбар, тооцооны төв болон Мобикомын үндсэн салбаруудад хандан захиалах боломжтой.\\nШинэчлэгдсэн дижитал банкийг :http://bit.ly/XacBankMonpay картын давуу тал\\nОлон улсад болон онлайн төлбөр тооцоонд саадгүй ашиглана;\\nЗайнаас унших NFC технологитой;\\nХасБанны дижитал банкаар дамжуулан картаа идэвхжүүлэх, пин кодоо солих, хаяж гээсэн тохиолдолд хаах, нөхөн авах гэх мэтчилэн бүрэн удирдана;\\nMonpay апп-тай холбогдож, олон төрлийн үйлчилгээ авах, хөнгөлөлт урамшуулалд хамрагдах;\\nХасБанкны АТМ-ээс бэлэн мөнгө авахдаа шимтгэлгүй;\\nИнтернэт худалдан авалт хийхэд давхар хамгаалалттай.\"'}\n"
     ]
    },
    {
     "data": {
      "text/plain": [
       "' \"Картыг хэрхэн авах вэ?\\nХасБанкны шинэчлэгдсэн Дижитал банкаар дамжуулан зайнаас захиалж авахаас гадна ХасБанкны дурын салбар, тооцооны төв болон Мобикомын үндсэн салбаруудад хандан захиалах боломжтой.\\nШинэчлэгдсэн дижитал банкийг :http://bit.ly/XacBankMonpay картын давуу тал\\nОлон улсад болон онлайн төлбөр тооцоонд саадгүй ашиглана;\\nЗайнаас унших NFC технологитой;\\nХасБанны дижитал банкаар дамжуулан картаа идэвхжүүлэх, пин кодоо солих, хаяж гээсэн тохиолдолд хаах, нөхөн авах гэх мэтчилэн бүрэн удирдана;\\nMonpay апп-тай холбогдож, олон төрлийн үйлчилгээ авах, хөнгөлөлт урамшуулалд хамрагдах;\\nХасБанкны АТМ-ээс бэлэн мөнгө авахдаа шимтгэлгүй;\\nИнтернэт худалдан авалт хийхэд давхар хамгаалалттай.\"'"
      ]
     },
     "execution_count": 11,
     "metadata": {},
     "output_type": "execute_result"
    }
   ],
   "source": [
    "# Chain ажиллуулах\n",
    "response = rag_chain.invoke({\"input\": \"дебит карт яаж авах вэ\"})\n",
    "print(response)\n",
    "response[\"answer\"]"
   ]
  },
  {
   "cell_type": "code",
   "execution_count": 12,
   "metadata": {},
   "outputs": [
    {
     "data": {
      "text/plain": [
       "{'input': 'дебит карт яаж авах вэ',\n",
       " 'context': [Document(metadata={'source': 'https://www.xacbank.mn/article/354', 'row': 530, 'title': 'ХасБанкны төлбөрийн карт эзэмшигч та төлбөрийн шинэчлэгдсэн картаа 7 сарын 1-с өмнө амжиж солиулж аваарай', 'date': '2012.06.27', 'link': 'https://www.xacbank.mn/article/354'}, page_content='таныг луйврын шинжтэй элдэв эрсдэлээс бүрэн   хамгаалах боллоо.Харилцагч Таны одоо хэрэглэж байгаа төлбөрийн карт 7 дугаар сарын  1-нээс ашиглагдах боломжгүй буюу идэвхгүй болж байгаа тул шинээр  хэвлэгдсэн картаа хаанаас авах болон  шинэ карттай холбогдож  гарсан  асуудлаар ХасБанкны Харилцагчийн Үйлчилгээний Төвийн 1888 дугаарт хандаж  тодруулна ууЗөвБанк-ХасБанк'),\n",
       "  Document(metadata={'source': 'https://www.xacbank.mn/article/candy-debit-card', 'row': 213, 'title': 'Уншуулах тусам урамтай - Төлбөрийн карт', 'date': '2018.10.04', 'link': 'https://www.xacbank.mn/article/candy-debit-card'}, page_content='орчин үеийн өндөр нууцлал бүхий найдвартай төлбөрийн карттай болохыг хүсвэл та өөрт ойр байрлах ХасБанкны аль ч салбарт бичиг баримттайгаа очиход л хангалттай. Картын хураамж болон захиалгын дэлгэрэнгүй мэдээллийгэнд даржавна уу.Дэлгэрэнгүй мэдээллийг Candy үйлчилгээний лавлах 1800-1199 дугаараас аваарай.Та манай сошиал хаягуудад нэгдээрэй!'),\n",
       "  Document(metadata={'source': 'https://www.xacbank.mn/article/monpay-cashback', 'row': 123, 'title': 'Monpay төлбөрийн картаар худалдан авалт хийвэл 20%-ийг танд буцаан олгоно', 'date': '2021.11.04', 'link': 'https://www.xacbank.mn/article/monpay-cashback'}, page_content='сарын 5-аас 19-нийгдуустал үргэлжлэх тул та Monpay картаа яаралтай захиалан авч, 20%-ийн буцаан олголт авах ховорхон боломжийг бүү алдаарай.Жич: Нэг харилцагчид олгох буцаан олголтын дээд хэмжээ 200,000 төгрөгөөр хязгаарлагдана.Monpay картыг хэрхэн авах вэ?ХасБанкны шинэчлэгдсэн Дижитал банкаар дамжуулан зайнаас захиалж авахаас гадна ХасБанкны дурын салбар, тооцооны төв болон Мобикомын үндсэн салбаруудад хандан захиалах боломжтой.Шинэчлэгдсэн дижитал банкийг :http://bit.ly/XacBankMonpay картын давуу талОлон улсад болон онлайн төлбөр тооцоонд саадгүй ашиглана;Зайнаас унших NFC технологитой;ХасБанны дижитал банкаар дамжуулан картаа идэвхжүүлэх, пин кодоо солих, хаяж гээсэн тохиолдолд хаах, нөхөн авах гэх мэтчилэн бүрэн удирдана;Monpay апп-тай холбогдож, олон төрлийн үйлчилгээ авах, хөнгөлөлт урамшуулалд хамрагдах;ХасБанкны АТМ-ээс бэлэн мөнгө авахдаа шимтгэлгүй;Интернэт худалдан авалт хийхэд давхар хамгаалалттай.Картын дэлгэрэнгүй мэдээллийг:https://www.xacbank.mn/product/132')],\n",
       " 'answer': ' \"Картыг хэрхэн авах вэ?\\nХасБанкны шинэчлэгдсэн Дижитал банкаар дамжуулан зайнаас захиалж авахаас гадна ХасБанкны дурын салбар, тооцооны төв болон Мобикомын үндсэн салбаруудад хандан захиалах боломжтой.\\nШинэчлэгдсэн дижитал банкийг :http://bit.ly/XacBankMonpay картын давуу тал\\nОлон улсад болон онлайн төлбөр тооцоонд саадгүй ашиглана;\\nЗайнаас унших NFC технологитой;\\nХасБанны дижитал банкаар дамжуулан картаа идэвхжүүлэх, пин кодоо солих, хаяж гээсэн тохиолдолд хаах, нөхөн авах гэх мэтчилэн бүрэн удирдана;\\nMonpay апп-тай холбогдож, олон төрлийн үйлчилгээ авах, хөнгөлөлт урамшуулалд хамрагдах;\\nХасБанкны АТМ-ээс бэлэн мөнгө авахдаа шимтгэлгүй;\\nИнтернэт худалдан авалт хийхэд давхар хамгаалалттай.\"'}"
      ]
     },
     "execution_count": 12,
     "metadata": {},
     "output_type": "execute_result"
    }
   ],
   "source": [
    "# input, context, answer гурвыг бүгдийг нь харах\n",
    "response"
   ]
  }
 ],
 "metadata": {
  "kernelspec": {
   "display_name": "Python 3 (ipykernel)",
   "language": "python",
   "name": "python3"
  },
  "language_info": {
   "codemirror_mode": {
    "name": "ipython",
    "version": 3
   },
   "file_extension": ".py",
   "mimetype": "text/x-python",
   "name": "python",
   "nbconvert_exporter": "python",
   "pygments_lexer": "ipython3",
   "version": "3.10.12"
  }
 },
 "nbformat": 4,
 "nbformat_minor": 4
}
