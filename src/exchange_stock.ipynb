{
 "cells": [
  {
   "cell_type": "code",
   "execution_count": 2,
   "id": "9f2d35b4-81d5-4ebc-9a06-baae31bc536b",
   "metadata": {
    "scrolled": true
   },
   "outputs": [
    {
     "name": "stdout",
     "output_type": "stream",
     "text": [
      "Requirement already satisfied: requests in /root/rag-starter/.virt/lib/python3.10/site-packages (2.32.3)\n",
      "Requirement already satisfied: beautifulsoup4 in /root/rag-starter/.virt/lib/python3.10/site-packages (4.12.3)\n",
      "Requirement already satisfied: tabulate in /root/rag-starter/.virt/lib/python3.10/site-packages (0.9.0)\n",
      "Requirement already satisfied: certifi>=2017.4.17 in /root/rag-starter/.virt/lib/python3.10/site-packages (from requests) (2024.8.30)\n",
      "Requirement already satisfied: idna<4,>=2.5 in /root/rag-starter/.virt/lib/python3.10/site-packages (from requests) (3.10)\n",
      "Requirement already satisfied: charset-normalizer<4,>=2 in /root/rag-starter/.virt/lib/python3.10/site-packages (from requests) (3.4.0)\n",
      "Requirement already satisfied: urllib3<3,>=1.21.1 in /root/rag-starter/.virt/lib/python3.10/site-packages (from requests) (2.2.3)\n",
      "Requirement already satisfied: soupsieve>1.2 in /root/rag-starter/.virt/lib/python3.10/site-packages (from beautifulsoup4) (2.6)\n"
     ]
    }
   ],
   "source": [
    "!pip install requests beautifulsoup4 tabulate"
   ]
  },
  {
   "cell_type": "code",
   "execution_count": 4,
   "id": "caf8e802-f778-45f3-bfe2-429d9c4ad5d8",
   "metadata": {},
   "outputs": [
    {
     "name": "stderr",
     "output_type": "stream",
     "text": [
      "/root/rag-starter/.virt/lib/python3.10/site-packages/urllib3/connectionpool.py:1099: InsecureRequestWarning: Unverified HTTPS request is being made to host 'www.xacbank.mn'. Adding certificate verification is strongly advised. See: https://urllib3.readthedocs.io/en/latest/advanced-usage.html#tls-warnings\n",
      "  warnings.warn(\n"
     ]
    },
    {
     "name": "stdout",
     "output_type": "stream",
     "text": [
      "+-----------------+----------------+-----------------+--------------------+---------------------+\n",
      "| Валют           | Авах (Бэлэн)   | Зарах (Бэлэн)   | Авах (Бэлэн бус)   | Зарах (Бэлэн бус)   |\n",
      "+=================+================+=================+====================+=====================+\n",
      "| EUR             | 3,616.86       | 3,571.00        | 3,711.00           | 3,571.00            |\n",
      "| Евро            |                |                 |                    |                     |\n",
      "+-----------------+----------------+-----------------+--------------------+---------------------+\n",
      "| CNY             | 470.79         | 468.30          | 475.50             | 468.30              |\n",
      "| Хятадын юань    |                |                 |                    |                     |\n",
      "+-----------------+----------------+-----------------+--------------------+---------------------+\n",
      "| JPY             | 22.75          | 22.40           | 23.26              | 22.50               |\n",
      "| Японы иен       |                |                 |                    |                     |\n",
      "+-----------------+----------------+-----------------+--------------------+---------------------+\n",
      "| GBP             | 4,362.20       | 4,311.00        | 4,468.00           | 4,311.00            |\n",
      "| Английн фунт    |                |                 |                    |                     |\n",
      "+-----------------+----------------+-----------------+--------------------+---------------------+\n",
      "| KRW             | 2.41           | 2.33            | 2.48               | 2.38                |\n",
      "| БНСУ-ын вон     |                |                 |                    |                     |\n",
      "+-----------------+----------------+-----------------+--------------------+---------------------+\n",
      "| HKD             | 439.24         | 436.60          | 443.20             | 436.60              |\n",
      "| Гонконг доллар  |                |                 |                    |                     |\n",
      "+-----------------+----------------+-----------------+--------------------+---------------------+\n",
      "| AUD             | 2,197.25       | 2,151.00        | 2,292.00           | 2,151.00            |\n",
      "| Австраль доллар |                |                 |                    |                     |\n",
      "+-----------------+----------------+-----------------+--------------------+---------------------+\n",
      "| CAD             | 2,435.12       | 2,405.00        | 2,497.00           | 2,405.00            |\n",
      "| Канад доллар    |                |                 |                    |                     |\n",
      "+-----------------+----------------+-----------------+--------------------+---------------------+\n",
      "| SGD             | 2,552.43       | 2,521.00        | 2,604.00           | 2,521.00            |\n",
      "| Сингапур доллар |                |                 |                    |                     |\n",
      "+-----------------+----------------+-----------------+--------------------+---------------------+\n",
      "| XAU             | 290,825.07     | 289,788.32      | 0.00               | 0.00                |\n",
      "| АЛТ             |                |                 |                    |                     |\n",
      "+-----------------+----------------+-----------------+--------------------+---------------------+\n",
      "| XAG             | 3,433.82       | 3,223.41        | 0.00               | 0.00                |\n",
      "| МӨНГӨ           |                |                 |                    |                     |\n",
      "+-----------------+----------------+-----------------+--------------------+---------------------+\n"
     ]
    }
   ],
   "source": [
    "import requests\n",
    "from bs4 import BeautifulSoup\n",
    "from tabulate import tabulate\n",
    "\n",
    "def get_exchange_rates():\n",
    "    url = \"https://www.xacbank.mn/calculator/rates?lang=mn\" \n",
    "    response = requests.get(url, verify=False)\n",
    "    \n",
    "    if response.status_code == 200:\n",
    "        soup = BeautifulSoup(response.text, 'html.parser')\n",
    "\n",
    "        table = soup.find('table', class_='currency-table')  \n",
    "        if table:\n",
    "            rows = table.find_all('tr')  \n",
    "            exchange_rates = []\n",
    "\n",
    "            for row in rows[3:]:  \n",
    "                cols = row.find_all('td')  \n",
    "                if len(cols) > 1:\n",
    "                    currency = cols[0].text.strip()  \n",
    "                    buy_cash = cols[1].text.strip()  \n",
    "                    sell_cash = cols[2].text.strip()  \n",
    "                    buy_non_cash = cols[3].text.strip()\n",
    "                    sell_non_cash = cols[4].text.strip() \n",
    "                    \n",
    "                    exchange_rates.append([\n",
    "                        currency,\n",
    "                        buy_cash,\n",
    "                        sell_cash,\n",
    "                        buy_non_cash,\n",
    "                        sell_non_cash\n",
    "                    ])\n",
    "            \n",
    "            headers = [\"Валют\", \"Авах (Бэлэн)\", \"Зарах (Бэлэн)\", \"Авах (Бэлэн бус)\", \"Зарах (Бэлэн бус)\"]\n",
    "            return tabulate(exchange_rates, headers, tablefmt=\"grid\")\n",
    "        else:\n",
    "            return \"Валютын ханшийн хүснэгт олдсонгүй\"\n",
    "    else:\n",
    "        return \"Мэдээллийг авахад алдаа гарлаа\"\n",
    "\n",
    "rates = get_exchange_rates()\n",
    "print(rates)\n"
   ]
  },
  {
   "cell_type": "code",
   "execution_count": 5,
   "id": "ca2452a6-a6fb-4743-8184-43ada39cce91",
   "metadata": {},
   "outputs": [
    {
     "name": "stderr",
     "output_type": "stream",
     "text": [
      "/root/rag-starter/.virt/lib/python3.10/site-packages/urllib3/connectionpool.py:1099: InsecureRequestWarning: Unverified HTTPS request is being made to host 'stock.bbe.mn'. Adding certificate verification is strongly advised. See: https://urllib3.readthedocs.io/en/latest/advanced-usage.html#tls-warnings\n",
      "  warnings.warn(\n"
     ]
    },
    {
     "name": "stdout",
     "output_type": "stream",
     "text": [
      "+--------------------+------------+\n",
      "| Attribute          | Value      |\n",
      "+====================+============+\n",
      "| Өдөр               | 2024-12-06 |\n",
      "+--------------------+------------+\n",
      "| Нээлт              | 835.99     |\n",
      "+--------------------+------------+\n",
      "| Дээд               | 840.00     |\n",
      "+--------------------+------------+\n",
      "| Доод               | 815.00     |\n",
      "+--------------------+------------+\n",
      "| Өмнөх өдрийн хаалт | 836.00     |\n",
      "+--------------------+------------+\n",
      "| Хаалтын ханш       | 834.33     |\n",
      "+--------------------+------------+\n",
      "| Өөрчлөлт ₮         | -1.67      |\n",
      "+--------------------+------------+\n",
      "| Өөрчлөлт %         | -0.20%     |\n",
      "+--------------------+------------+\n",
      "| Ширхэг             | 40,812     |\n",
      "+--------------------+------------+\n",
      "| Ү/дүн              | 34,050,676 |\n",
      "+--------------------+------------+\n"
     ]
    }
   ],
   "source": [
    "import requests\n",
    "from bs4 import BeautifulSoup\n",
    "from tabulate import tabulate\n",
    "\n",
    "def get_stock_data():\n",
    "    url = \"https://stock.bbe.mn/Home/Stock/XAC\"\n",
    "    response = requests.get(url, verify=False)\n",
    "    \n",
    "    if response.status_code == 200:\n",
    "        soup = BeautifulSoup(response.text, 'html.parser')\n",
    "\n",
    "        table_body = soup.find('tbody')\n",
    "        if table_body:\n",
    "            row = table_body.find('tr')  \n",
    "            if row:\n",
    "                cols = row.find_all('td')  \n",
    "                \n",
    "                if len(cols) == 10:\n",
    "                    stock_data = {\n",
    "                        \"Өдөр\": cols[0].text.strip(),  \n",
    "                        \"Нээлт\": cols[1].text.strip(),  \n",
    "                        \"Дээд\": cols[2].text.strip(),  \n",
    "                        \"Доод\": cols[3].text.strip(),  \n",
    "                        \"Өмнөх өдрийн хаалт\": cols[4].text.strip(), \n",
    "                        \"Хаалтын ханш\": cols[5].text.strip(),  \n",
    "                        \"Өөрчлөлт ₮\": cols[6].text.strip(), \n",
    "                        \"Өөрчлөлт %\": cols[7].text.strip(),  \n",
    "                        \"Ширхэг\": cols[8].text.strip(),  \n",
    "                        \"Ү/дүн\": cols[9].text.strip()  \n",
    "                    }\n",
    "\n",
    "                    stock_data_list = [[key, value] for key, value in stock_data.items()]\n",
    "\n",
    "                    return tabulate(stock_data_list, headers=[\"Attribute\", \"Value\"], tablefmt=\"grid\")\n",
    "                else:\n",
    "                    return \"Error: Unexpected number of columns\"\n",
    "            else:\n",
    "                return \"Error: Stock data row not found\"\n",
    "        else:\n",
    "            return \"Error: Stock table body not found\"\n",
    "    else:\n",
    "        return f\"Error fetching data, Status Code: {response.status_code}\"\n",
    "\n",
    "stock_data = get_stock_data()\n",
    "print(stock_data)\n"
   ]
  }
 ],
 "metadata": {
  "kernelspec": {
   "display_name": "Python 3 (ipykernel)",
   "language": "python",
   "name": "python3"
  },
  "language_info": {
   "codemirror_mode": {
    "name": "ipython",
    "version": 3
   },
   "file_extension": ".py",
   "mimetype": "text/x-python",
   "name": "python",
   "nbconvert_exporter": "python",
   "pygments_lexer": "ipython3",
   "version": "3.10.12"
  }
 },
 "nbformat": 4,
 "nbformat_minor": 5
}
