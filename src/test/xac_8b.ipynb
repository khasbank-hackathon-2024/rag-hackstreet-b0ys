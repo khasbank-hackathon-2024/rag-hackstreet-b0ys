{
 "cells": [
  {
   "cell_type": "code",
   "execution_count": 1,
   "id": "59343ad7-e852-4cb4-aa74-0418602362d2",
   "metadata": {},
   "outputs": [],
   "source": [
    "import torch\n",
    "from langchain.chains import create_retrieval_chain\n",
    "from langchain.chains.combine_documents import create_stuff_documents_chain\n",
    "from langchain.text_splitter import RecursiveCharacterTextSplitter\n",
    "from langchain_community.document_loaders.csv_loader import CSVLoader\n",
    "from langchain_community.vectorstores import FAISS\n",
    "from langchain_core.prompts import ChatPromptTemplate\n",
    "from langchain_huggingface import HuggingFaceEmbeddings, HuggingFacePipeline\n",
    "from transformers import AutoModelForCausalLM, AutoTokenizer, pipeline"
   ]
  },
  {
   "cell_type": "code",
   "execution_count": 10,
   "id": "67eddfaf-b424-41a1-b290-1eae3087ff59",
   "metadata": {},
   "outputs": [
    {
     "name": "stdout",
     "output_type": "stream",
     "text": [
      "page_content='answer: Цалингийн зээлийг сүүлийн 6 сар ажил эрхэлсэн, үндсэн ажилтнаар ажиллаж буй гэрээт байгууллагын ажилтанд олгоно. Одоо ажиллаж буй байгууллагадаа шилжин ажиллахдаа үндсэн ажилтнаар орсон бол цалингийн зээл авч болно.' metadata={'source': 'faq_10_0', 'row': 1, 'context': 'Цалингийн зээл', 'question': 'Цалингийн зээл авахад ямар шалгуур тавих вэ?'}\n",
      "page_content='content: Цалингийн зээл\n",
      "Харилцагч та цалингаа ХасБанкаар дамжуулан авдаг бол “Цалингийн зээл” авч өөрийн тогтмол орлогоор өөртөө болон гэр бүлдээ хөрөнгө оруулах боломжтой.\n",
      "Давуу тал:\n",
      "Хурдан шуурхай шийдвэрлэн олгодог;\n",
      "Зээлийн хугацаанд нэмэлт санхүүжилтээр зээлийн хэмжээг нэмэгдүүлдэг.\n",
      "Бүтээгдэхүүний нөхцөл\n",
      "нөхцөл\n",
      "дижитал банкаар\n",
      "салбараар\n",
      "Зээлийн хэмжээ\n",
      "300,000 - 50,000,000 төгрөг\n",
      "300,000 төгрөгөөс дээш\n",
      "Зээлийн хүү*\n",
      "Сарын\n",
      "1.5%-1.9%\n",
      "1.5% - 1.8%\n",
      "Жилийн\n",
      "18.0%-22.8%\n",
      "18.0% - 21.6%**\n",
      "Зээлийн хугацаа\n",
      "30 сар\n",
      "Үйлчилгээний шимтгэл\n",
      "0.5%\n",
      "1%\n",
      "* - ХасБанктай гэрээтэй байгууллагын ажилтан бол гэрээгээр тохирсон хүүг мөрдөнө.\n",
      "** - Зээлийн бодит өртөг (жилийн): 18.89%-21.75%\n",
      "Зээлийн эргэн төлөлт:\n",
      "Зээлийг хүүгийн хамт сар бүр цалингаас суутгана.\n",
      "Зээл төлөх хэлбэр:\n",
      "Сард төлөх зээлийн үндсэн төлбөр тэнцүү эсхүл сард төлөх нийт төлбөр тэнцүү сонголттой.\n",
      "Барьцаа хөрөнгө:\n",
      "Таны цалингийн орлого. Шаардлагатай тохиолдолд нэмэлт барьцаа хөрөнгө.\n",
      "Тавигдах шаардлага:\n",
      "Хуулийн этгээдэд 6 сараас доошгүй хугацаанд ажилласан, үндсэн ажилтан байх;\n",
      "Зээлийн муу түүхгүй байх.\n",
      "Бүрдүүлэх материал:\n",
      "Хэрэглээний зээлийн өргөдөл (ХасБанкны салбараас эсхүл\n",
      "энд дарж\n",
      "татаж авна уу);\n",
      "3х4 хэмжээний цээж зураг;\n",
      "Иргэний үнэмлэх, түүний хуулбар;\n",
      "Ажил олгогчийн тодорхойлолт;\n",
      "Банкны зүгээс шаардлагатай гэж үзсэн бусад нэмэлт материал.\n",
      "Онлайнаар цалингийн зээл авах заавар' metadata={'source': 'https://www.xacbank.mn/product/1', 'row': 1, 'id': '1', 'side_menu_text': 'Цалингийн зээл\\nХэмжээ\\nЗээлжих чадвараар тодорхойлогдоно\\nХугацаа\\n30 сар\\nХүү\\nСАРЫН: 1.5% - 1.9%\\nЖИЛИЙН: 18.0% - 22.8%', 'link': 'https://www.xacbank.mn/product/1'}\n"
     ]
    }
   ],
   "source": [
    "from langchain_community.document_loaders.csv_loader import CSVLoader\n",
    "\n",
    "DATA_DIR = \"../../data/\"\n",
    "\n",
    "loader = CSVLoader(file_path=f\"{DATA_DIR}khas_bank_products.csv\",\n",
    "                   source_column=\"link\",\n",
    "                   metadata_columns=[\"id\", \"side_menu_text\", \"link\"],\n",
    "                   content_columns=[\"content\"],\n",
    "                   csv_args={\n",
    "                       \"fieldnames\": [\"id\", \"content\", \"side_menu_text\", \"link\"],\n",
    "                       }\n",
    "                   )\n",
    "product_data = loader.load()[1:]\n",
    "\n",
    "loader = CSVLoader(file_path=f\"{DATA_DIR}faq_final.csv\",\n",
    "                  source_column=\"id\",\n",
    "                  metadata_columns=[\"context\", \"question\"],\n",
    "                  content_columns=[\"answer\"],\n",
    "                  csv_args={\n",
    "                        \"fieldnames\": [\"id\", \"context\", \"question\", \"answer\"],\n",
    "                        }\n",
    "                  )\n",
    "\n",
    "data = loader.load()[1:]\n",
    "print(data[0])\n",
    "print(product_data[0])"
   ]
  },
  {
   "cell_type": "code",
   "execution_count": 9,
   "id": "357456dc-019e-4ee7-8138-5fb33b712587",
   "metadata": {},
   "outputs": [
    {
     "name": "stdout",
     "output_type": "stream",
     "text": [
      "page_content='answer: Гүйлгээ нь интернэт банкны гүйлгээ интернэт банкны гүйлгээний шимтгэл хураамж тооцогдоно.Хэрвээ ХасБанкны харилцагч ХасБанкны үүсгэсэн эсхүл ХасБанкинд данстай бусдын үүсгэсэн мерчант руу гүйлгээ хийхэд гүйлгээний шимтгэл үгүй.ХасБанкны харилцагч бусад банкны үүсгэсэн эсхүл бусад банкны дансаа мерчантын дансаар сонгосон харилцагч руу гүйлгээ хийхэд банк хоорондын гүйлгээний шимтгэл тооцогдоно.' metadata={'source': 'faq_13_4', 'row': 6, 'context': 'QPay үйлчилгээ', 'question': 'QR ашиглан төлөхөд харилцагчийн төлөх шимтгэл хураамж:'}\n"
     ]
    }
   ],
   "source": [
    "from langchain.text_splitter import CharacterTextSplitter\n",
    "\n",
    "text_splitter = CharacterTextSplitter(\n",
    "    chunk_size=26, chunk_overlap=4\n",
    ")\n",
    "docs = text_splitter.split_documents(documents=data)\n",
    "print(docs[5])"
   ]
  },
  {
   "cell_type": "code",
   "execution_count": 5,
   "id": "1d5c53cb-8596-4f65-8a8a-8817e852205d",
   "metadata": {},
   "outputs": [],
   "source": [
    "embeddings = HuggingFaceEmbeddings(model_name=\"sentence-transformers/paraphrase-multilingual-MiniLM-L12-v2\")"
   ]
  },
  {
   "cell_type": "code",
   "execution_count": 6,
   "id": "1373d6b0-13a0-46b1-89c2-d3dc68de1b05",
   "metadata": {},
   "outputs": [],
   "source": [
    "vector_store = FAISS.from_documents(docs, embeddings)\n",
    "vector_store.save_local(\"faiss_index\")"
   ]
  },
  {
   "cell_type": "code",
   "execution_count": 7,
   "id": "fa474142-3df0-42a7-ad56-21eb5612a6c9",
   "metadata": {},
   "outputs": [],
   "source": [
    "vector_store = FAISS.load_local(\n",
    "    \"faiss_index\", embeddings, allow_dangerous_deserialization=True\n",
    ")"
   ]
  },
  {
   "cell_type": "code",
   "execution_count": 8,
   "id": "3b2a0c10-8595-40a3-bf29-645fb3a27f99",
   "metadata": {},
   "outputs": [
    {
     "data": {
      "text/plain": [
       "[Document(metadata={'source': 'faq_13_0', 'row': 2, 'context': 'QPay үйлчилгээ', 'question': '‘QPay үйлчилгээ’ гэж юу вэ?'}, page_content='answer: ХасБанкны интернэт банкны харилцагч ухаалаг утсанд зориулсан “XacBank” аппликейшныг ашиглан QR /КЮ-АР/ кодыг уншуулан төлбөр төлөх, өөрийн дансандаа QR код үүсгэх буюу нэхэмжлэх үүсгэж дансандаа орлого хүлээн авах боломжтой үйлчилгээ юм.'),\n",
       " Document(metadata={'source': 'faq_13?lang=mn_0', 'row': 7, 'context': 'QPay үйлчилгээ', 'question': '‘QPay үйлчилгээ’ гэж юу вэ?'}, page_content='answer: ХасБанкны интернэт банкны харилцагч ухаалаг утсанд зориулсан “XacBank” аппликейшныг ашиглан QR /КЮ-АР/ кодыг уншуулан төлбөр төлөх, өөрийн дансандаа QR код үүсгэх буюу нэхэмжлэх үүсгэж дансандаа орлого хүлээн авах боломжтой үйлчилгээ юм.'),\n",
       " Document(metadata={'source': 'faq_13_2', 'row': 4, 'context': 'QPay үйлчилгээ', 'question': 'Хэн ашиглах боломжтой байх вэ?'}, page_content='answer: QR унших боломж нь ХасБанк АПП дээр шинэ нэмэлт функц болж нэмэгдэнэ. Интернэт банкны үйлчилгээнд бүртгэлтэй бөгөөд гар утсандаа (ухаалаг) ХасБанк суулгасан харилцагч бүр нь энэхүү боломжийг ашиглах боломжтой байна.')]"
      ]
     },
     "execution_count": 8,
     "metadata": {},
     "output_type": "execute_result"
    }
   ],
   "source": [
    "retriever = vector_store.as_retriever(search_type=\"similarity\", search_kwargs={\"k\": 3})\n",
    "\n",
    "# docs = retriever.invoke(\"Qpay үйлчилгээ гэж юу юэ\")\n",
    "docs = retriever.invoke(\"QPay үйлчилгээ гэж юу вэ?\")\n",
    "docs"
   ]
  },
  {
   "cell_type": "code",
   "execution_count": 8,
   "id": "381b99d1-bc88-491a-a328-52b828145d5d",
   "metadata": {},
   "outputs": [
    {
     "data": {
      "application/vnd.jupyter.widget-view+json": {
       "model_id": "6e5bc338632d4ef78757f9218c3792d7",
       "version_major": 2,
       "version_minor": 0
      },
      "text/plain": [
       "VBox(children=(HTML(value='<center> <img\\nsrc=https://huggingface.co/front/assets/huggingface_logo-noborder.sv…"
      ]
     },
     "metadata": {},
     "output_type": "display_data"
    }
   ],
   "source": [
    "from huggingface_hub import notebook_login\n",
    "\n",
    "notebook_login()"
   ]
  },
  {
   "cell_type": "code",
   "execution_count": 9,
   "id": "1aef7389-754f-422f-a9f7-e6c09290449d",
   "metadata": {},
   "outputs": [
    {
     "name": "stderr",
     "output_type": "stream",
     "text": [
      "/root/rag-starter/.virt/lib/python3.10/site-packages/accelerate/utils/modeling.py:1590: UserWarning: Current model requires 4224 bytes of buffer for offloaded layers, which seems does not fit any GPU's remaining memory. If you are experiencing a OOM later, please consider using offload_buffers=True.\n",
      "  warnings.warn(\n"
     ]
    },
    {
     "data": {
      "application/vnd.jupyter.widget-view+json": {
       "model_id": "989b20d2b2314d50855415a394572674",
       "version_major": 2,
       "version_minor": 0
      },
      "text/plain": [
       "Loading checkpoint shards:   0%|          | 0/4 [00:00<?, ?it/s]"
      ]
     },
     "metadata": {},
     "output_type": "display_data"
    },
    {
     "name": "stderr",
     "output_type": "stream",
     "text": [
      "Device set to use cpu\n"
     ]
    }
   ],
   "source": [
    "from transformers import AutoModelForMaskedLM\n",
    "\n",
    "model_id = \"meta-llama/Llama-3.1-8B\"\n",
    "\n",
    "# tokenizer = AutoTokenizer.from_pretrained(\"google-bert/bert-base-multilingual-cased\")\n",
    "# model = AutoModelForMaskedLM.from_pretrained(\"google-bert/bert-base-multilingual-cased\")\n",
    "\n",
    "tokenizer = AutoTokenizer.from_pretrained(model_id)\n",
    "model = AutoModelForCausalLM.from_pretrained(\n",
    "    model_id, \n",
    "    torch_dtype=torch.float16,\n",
    "    device_map='auto'\n",
    ")\n",
    "\n",
    "pipe = pipeline(\n",
    "    \"text-generation\",\n",
    "    model=model,\n",
    "    tokenizer=tokenizer,\n",
    "    # llm-н үүсгэж болох токений дээд хязгаар\n",
    "    max_new_tokens=1024,\n",
    "    # max_new_tokens=32,\n",
    "    # хариултын randomization-г арилгах\n",
    "    do_sample=True,\n",
    "    top_k=1,\n",
    "    repetition_penalty=1.15,\n",
    "    # гаралт бидний өгсөн prompt-г хамт хэвлэхгүй байх\n",
    "    return_full_text=False,\n",
    "    pad_token_id=tokenizer.eos_token_id,\n",
    ")\n",
    "\n",
    "# HuggingFace pipeline-г LangChain-ы pipeline болгох\n",
    "llm = HuggingFacePipeline(pipeline=pipe)"
   ]
  },
  {
   "cell_type": "code",
   "execution_count": 12,
   "id": "15c57d1f-3fa8-48a2-883b-20f6a8dd735e",
   "metadata": {},
   "outputs": [
    {
     "name": "stdout",
     "output_type": "stream",
     "text": [
      "page_content='answer: ХасБанкны интернэт банкны харилцагч ухаалаг утсанд зориулсан “XacBank” аппликейшныг ашиглан QR /КЮ-АР/ кодыг уншуулан төлбөр төлөх, өөрийн дансандаа QR код үүсгэх буюу нэхэмжлэх үүсгэж дансандаа орлого хүлээн авах боломжтой үйлчилгээ юм.' metadata={'source': 'faq_13_0', 'row': 2, 'context': 'QPay үйлчилгээ', 'question': '‘QPay үйлчилгээ’ гэж юу вэ?'}\n"
     ]
    }
   ],
   "source": [
    "# system_prompt = (\n",
    "#     \"You are an assistant for question-answering tasks. \"\n",
    "#     \"Use the following pieces of retrieved context to answer \"\n",
    "#     \"the user question. If you don't know the answer to the question, say that you \"\n",
    "#     \"don't know. Use three sentences maximum and keep the \"\n",
    "#     \"answer concise.\"\n",
    "#     \"\\n\\n\"\n",
    "#     'Context:\\n\"\"\"\\n{context}\\n\"\"\"'\n",
    "# )\n",
    "\n",
    "lang = \"Mongolian\"\n",
    "\n",
    "system_prompt = (\n",
    "    \"You are an assistant for question-answering tasks. \"\n",
    "    \"Use the following pieces of retrieved context to answer \"\n",
    "    \"the user question. If you don't know the answer to the question, say that you \"\n",
    "    \"don't know. The answer should be given in Mongolian.\"\n",
    "    \"Keep the answer concise\"\n",
    "    \"\\n\\n\"\n",
    "    'Context:\\n\"\"\"\\n{context}\\n\"\"\"'\n",
    ")\n",
    "\n",
    "# system_prompt = (\n",
    "#     \"\"\"\n",
    "#         Your are a helpful AI assistant for question-answering tasks. Use the o\n",
    "#     \"\"\"\n",
    "# )\n",
    "\n",
    "prompt = ChatPromptTemplate.from_messages(\n",
    "    [\n",
    "        (\"system\", system_prompt),\n",
    "        (\"human\", \"Question: \\\"\\\"\\\"{input}\\\"\\\"\\\"\"),\n",
    "        (\"assistant\", \"Answer: \"),\n",
    "    ]\n",
    ")\n",
    "\n",
    "# vector store-с document хайгч, k параметраар хамгийн ойр утгатай хэдэн document буцаахыг дамжуулна\n",
    "retriever = vector_store.as_retriever(search_type=\"similarity\", search_kwargs={\"k\": 3})\n",
    "\n",
    "docs = retriever.invoke(\"QPay үйлчилгээ гэж юу вэ?\")\n",
    "print(docs[0])\n",
    "# Chain үүсгэх\n",
    "# input -> retrieval -> prompt -> llm -> answer\n",
    "question_answer_chain = create_stuff_documents_chain(llm, prompt)\n",
    "rag_chain = create_retrieval_chain(retriever, question_answer_chain)"
   ]
  },
  {
   "cell_type": "code",
   "execution_count": null,
   "id": "2e59c9b4-1457-4028-a1a3-718c7083b93b",
   "metadata": {},
   "outputs": [],
   "source": [
    "# response = rag_chain.invoke({\"input\": \"Qpay үйлчилгээ гэж юу вэ?\"})\n",
    "# response = rag_chain.invoke({\"input\": \"дебит карт яаж авах вэ\"})\n",
    "response = rag_chain.invoke({\"input\": \"What is 1+1\"})\n",
    "print(response)\n",
    "\n",
    "response[\"answer\"]"
   ]
  },
  {
   "cell_type": "code",
   "execution_count": null,
   "id": "b666a3ae-164b-4e3e-9d40-1e9e3faa974a",
   "metadata": {},
   "outputs": [],
   "source": []
  }
 ],
 "metadata": {
  "kernelspec": {
   "display_name": "Python 3 (ipykernel)",
   "language": "python",
   "name": "python3"
  },
  "language_info": {
   "codemirror_mode": {
    "name": "ipython",
    "version": 3
   },
   "file_extension": ".py",
   "mimetype": "text/x-python",
   "name": "python",
   "nbconvert_exporter": "python",
   "pygments_lexer": "ipython3",
   "version": "3.10.12"
  }
 },
 "nbformat": 4,
 "nbformat_minor": 5
}
